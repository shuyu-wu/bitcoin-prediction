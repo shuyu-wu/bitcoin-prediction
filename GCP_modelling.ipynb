{
  "nbformat": 4,
  "nbformat_minor": 0,
  "metadata": {
    "kernelspec": {
      "display_name": "Python 3",
      "language": "python",
      "name": "python3"
    },
    "language_info": {
      "codemirror_mode": {
        "name": "ipython",
        "version": 3
      },
      "file_extension": ".py",
      "mimetype": "text/x-python",
      "name": "python",
      "nbconvert_exporter": "python",
      "pygments_lexer": "ipython3",
      "version": "3.5.3"
    },
    "colab": {
      "name": "GCP_modelling.ipynb",
      "provenance": [],
      "include_colab_link": true
    }
  },
  "cells": [
    {
      "cell_type": "markdown",
      "metadata": {
        "id": "view-in-github",
        "colab_type": "text"
      },
      "source": [
        "<a href=\"https://colab.research.google.com/github/shuyu-wu/bitcoin-prediction/blob/master/GCP_modelling.ipynb\" target=\"_parent\"><img src=\"https://colab.research.google.com/assets/colab-badge.svg\" alt=\"Open In Colab\"/></a>"
      ]
    },
    {
      "cell_type": "code",
      "metadata": {
        "id": "QE9HmIYDIhsz",
        "colab_type": "code",
        "colab": {}
      },
      "source": [
        "from google.cloud import storage\n",
        "from io import BytesIO\n",
        "bucket_name = \"bitcoin-shuyu\"\n",
        "client = storage.Client()\n",
        "bucket = client.get_bucket(bucket_name)\n",
        "content = bucket.blob(\"btc_tw.csv\").download_as_string()"
      ],
      "execution_count": 0,
      "outputs": []
    },
    {
      "cell_type": "code",
      "metadata": {
        "id": "BbDdsJEPIhs6",
        "colab_type": "code",
        "colab": {},
        "outputId": "e81aa912-e183-4047-b409-dbe61a8d6e11"
      },
      "source": [
        "import pandas as pd\n",
        "# from langdetect import detect, DetectorFactory\n",
        "import seaborn as sns\n",
        "from nltk.corpus import stopwords\n",
        "import matplotlib.pyplot as plt\n",
        "import numpy as np\n",
        "from sklearn.model_selection import train_test_split\n",
        "from keras.preprocessing.text import Tokenizer\n",
        "from keras.preprocessing import sequence\n",
        "import keras.backend as K\n",
        "from keras.models import Sequential\n",
        "from keras.layers import Dense,Embedding,LSTM,RNN,GRU,Dropout\n",
        "from sklearn.metrics import accuracy_score,confusion_matrix,classification_report\n",
        "import pickle\n",
        "from keras.models import load_model\n",
        "import re\n",
        "import nltk\n",
        "from sklearn.linear_model import LogisticRegression\n",
        "from sklearn.preprocessing import LabelEncoder, OneHotEncoder, StandardScaler\n",
        "from sklearn.ensemble import RandomForestClassifier\n",
        "from sklearn.naive_bayes import MultinomialNB\n",
        "import itertools\n",
        "# from statsmodels.graphics.tsaplots import plot_pacf\n",
        "# from statsmodels.graphics.tsaplots import plot_acf\n",
        "from scipy import stats \n",
        "# import statsmodels.api as sm\n",
        "from itertools import product\n",
        "# from fbprophet import Prophet\n",
        "from sklearn.preprocessing import MinMaxScaler"
      ],
      "execution_count": 0,
      "outputs": [
        {
          "output_type": "stream",
          "text": [
            "Using TensorFlow backend.\n",
            "/usr/local/lib/python3.5/site-packages/sklearn/ensemble/weight_boosting.py:29: DeprecationWarning: numpy.core.umath_tests is an internal NumPy module and should not be imported. It will be removed in a future NumPy release.\n",
            "  from numpy.core.umath_tests import inner1d\n"
          ],
          "name": "stderr"
        }
      ]
    },
    {
      "cell_type": "code",
      "metadata": {
        "id": "V3LmCCsgIhs-",
        "colab_type": "code",
        "colab": {}
      },
      "source": [
        "btc_tw_df=pd.read_csv(BytesIO(content))"
      ],
      "execution_count": 0,
      "outputs": []
    },
    {
      "cell_type": "code",
      "metadata": {
        "id": "s43FLXaNIhtC",
        "colab_type": "code",
        "colab": {},
        "outputId": "e189ea3e-b77c-47f4-d059-d529c96e4fcf"
      },
      "source": [
        "btc_tw_df.head()"
      ],
      "execution_count": 0,
      "outputs": [
        {
          "output_type": "execute_result",
          "data": {
            "text/html": [
              "<div>\n",
              "<style scoped>\n",
              "    .dataframe tbody tr th:only-of-type {\n",
              "        vertical-align: middle;\n",
              "    }\n",
              "\n",
              "    .dataframe tbody tr th {\n",
              "        vertical-align: top;\n",
              "    }\n",
              "\n",
              "    .dataframe thead th {\n",
              "        text-align: right;\n",
              "    }\n",
              "</style>\n",
              "<table border=\"1\" class=\"dataframe\">\n",
              "  <thead>\n",
              "    <tr style=\"text-align: right;\">\n",
              "      <th></th>\n",
              "      <th>Unnamed: 0</th>\n",
              "      <th>Unnamed: 0.1</th>\n",
              "      <th>Timestamp</th>\n",
              "      <th>Open</th>\n",
              "      <th>High</th>\n",
              "      <th>Low</th>\n",
              "      <th>Close</th>\n",
              "      <th>Volume_(BTC)</th>\n",
              "      <th>Volume_(Currency)</th>\n",
              "      <th>Weighted_Price</th>\n",
              "      <th>negative</th>\n",
              "      <th>neutral</th>\n",
              "      <th>positive</th>\n",
              "      <th>daily_change</th>\n",
              "    </tr>\n",
              "  </thead>\n",
              "  <tbody>\n",
              "    <tr>\n",
              "      <th>0</th>\n",
              "      <td>0</td>\n",
              "      <td>0</td>\n",
              "      <td>2018-07-11 19:35:00</td>\n",
              "      <td>6325.90</td>\n",
              "      <td>6327.93</td>\n",
              "      <td>6299.83</td>\n",
              "      <td>6300.00</td>\n",
              "      <td>285.687119</td>\n",
              "      <td>1.801016e+06</td>\n",
              "      <td>6304.156385</td>\n",
              "      <td>3</td>\n",
              "      <td>31</td>\n",
              "      <td>16</td>\n",
              "      <td>25.90</td>\n",
              "    </tr>\n",
              "    <tr>\n",
              "      <th>1</th>\n",
              "      <td>1</td>\n",
              "      <td>1</td>\n",
              "      <td>2018-07-11 19:36:00</td>\n",
              "      <td>6300.95</td>\n",
              "      <td>6304.08</td>\n",
              "      <td>6291.00</td>\n",
              "      <td>6293.04</td>\n",
              "      <td>142.725122</td>\n",
              "      <td>8.989601e+05</td>\n",
              "      <td>6298.541264</td>\n",
              "      <td>4</td>\n",
              "      <td>36</td>\n",
              "      <td>18</td>\n",
              "      <td>7.91</td>\n",
              "    </tr>\n",
              "    <tr>\n",
              "      <th>2</th>\n",
              "      <td>2</td>\n",
              "      <td>2</td>\n",
              "      <td>2018-07-11 19:37:00</td>\n",
              "      <td>6293.04</td>\n",
              "      <td>6300.00</td>\n",
              "      <td>6293.04</td>\n",
              "      <td>6295.50</td>\n",
              "      <td>9.574724</td>\n",
              "      <td>6.031536e+04</td>\n",
              "      <td>6299.435459</td>\n",
              "      <td>5</td>\n",
              "      <td>53</td>\n",
              "      <td>18</td>\n",
              "      <td>2.46</td>\n",
              "    </tr>\n",
              "    <tr>\n",
              "      <th>3</th>\n",
              "      <td>3</td>\n",
              "      <td>3</td>\n",
              "      <td>2018-07-11 19:38:00</td>\n",
              "      <td>6299.99</td>\n",
              "      <td>6306.99</td>\n",
              "      <td>6299.98</td>\n",
              "      <td>6306.99</td>\n",
              "      <td>130.653981</td>\n",
              "      <td>8.231237e+05</td>\n",
              "      <td>6300.027354</td>\n",
              "      <td>1</td>\n",
              "      <td>40</td>\n",
              "      <td>10</td>\n",
              "      <td>7.00</td>\n",
              "    </tr>\n",
              "    <tr>\n",
              "      <th>4</th>\n",
              "      <td>4</td>\n",
              "      <td>4</td>\n",
              "      <td>2018-07-11 19:39:00</td>\n",
              "      <td>6307.89</td>\n",
              "      <td>6312.63</td>\n",
              "      <td>6303.04</td>\n",
              "      <td>6307.96</td>\n",
              "      <td>2.452288</td>\n",
              "      <td>1.546638e+04</td>\n",
              "      <td>6306.917629</td>\n",
              "      <td>3</td>\n",
              "      <td>49</td>\n",
              "      <td>19</td>\n",
              "      <td>0.07</td>\n",
              "    </tr>\n",
              "  </tbody>\n",
              "</table>\n",
              "</div>"
            ],
            "text/plain": [
              "   Unnamed: 0  Unnamed: 0.1            Timestamp     Open     High      Low  \\\n",
              "0           0             0  2018-07-11 19:35:00  6325.90  6327.93  6299.83   \n",
              "1           1             1  2018-07-11 19:36:00  6300.95  6304.08  6291.00   \n",
              "2           2             2  2018-07-11 19:37:00  6293.04  6300.00  6293.04   \n",
              "3           3             3  2018-07-11 19:38:00  6299.99  6306.99  6299.98   \n",
              "4           4             4  2018-07-11 19:39:00  6307.89  6312.63  6303.04   \n",
              "\n",
              "     Close  Volume_(BTC)  Volume_(Currency)  Weighted_Price  negative  \\\n",
              "0  6300.00    285.687119       1.801016e+06     6304.156385         3   \n",
              "1  6293.04    142.725122       8.989601e+05     6298.541264         4   \n",
              "2  6295.50      9.574724       6.031536e+04     6299.435459         5   \n",
              "3  6306.99    130.653981       8.231237e+05     6300.027354         1   \n",
              "4  6307.96      2.452288       1.546638e+04     6306.917629         3   \n",
              "\n",
              "   neutral  positive  daily_change  \n",
              "0       31        16         25.90  \n",
              "1       36        18          7.91  \n",
              "2       53        18          2.46  \n",
              "3       40        10          7.00  \n",
              "4       49        19          0.07  "
            ]
          },
          "metadata": {
            "tags": []
          },
          "execution_count": 5
        }
      ]
    },
    {
      "cell_type": "markdown",
      "metadata": {
        "id": "Z07fBsZ7IhtH",
        "colab_type": "text"
      },
      "source": [
        "### LSTM without Twitter sentiment analysis: weighted price"
      ]
    },
    {
      "cell_type": "code",
      "metadata": {
        "id": "kAdLNYxHIhtI",
        "colab_type": "code",
        "colab": {},
        "outputId": "16ea2847-0455-42c4-fc68-b11053b809d3"
      },
      "source": [
        "btc_tw_df_1 = btc_tw_df[['Timestamp','Weighted_Price']]\n",
        "btc_tw_df_1.set_index('Timestamp',inplace=True)\n",
        "btc_tw_df_1.head()"
      ],
      "execution_count": 0,
      "outputs": [
        {
          "output_type": "execute_result",
          "data": {
            "text/html": [
              "<div>\n",
              "<style scoped>\n",
              "    .dataframe tbody tr th:only-of-type {\n",
              "        vertical-align: middle;\n",
              "    }\n",
              "\n",
              "    .dataframe tbody tr th {\n",
              "        vertical-align: top;\n",
              "    }\n",
              "\n",
              "    .dataframe thead th {\n",
              "        text-align: right;\n",
              "    }\n",
              "</style>\n",
              "<table border=\"1\" class=\"dataframe\">\n",
              "  <thead>\n",
              "    <tr style=\"text-align: right;\">\n",
              "      <th></th>\n",
              "      <th>Weighted_Price</th>\n",
              "    </tr>\n",
              "    <tr>\n",
              "      <th>Timestamp</th>\n",
              "      <th></th>\n",
              "    </tr>\n",
              "  </thead>\n",
              "  <tbody>\n",
              "    <tr>\n",
              "      <th>2018-07-11 19:35:00</th>\n",
              "      <td>6304.156385</td>\n",
              "    </tr>\n",
              "    <tr>\n",
              "      <th>2018-07-11 19:36:00</th>\n",
              "      <td>6298.541264</td>\n",
              "    </tr>\n",
              "    <tr>\n",
              "      <th>2018-07-11 19:37:00</th>\n",
              "      <td>6299.435459</td>\n",
              "    </tr>\n",
              "    <tr>\n",
              "      <th>2018-07-11 19:38:00</th>\n",
              "      <td>6300.027354</td>\n",
              "    </tr>\n",
              "    <tr>\n",
              "      <th>2018-07-11 19:39:00</th>\n",
              "      <td>6306.917629</td>\n",
              "    </tr>\n",
              "  </tbody>\n",
              "</table>\n",
              "</div>"
            ],
            "text/plain": [
              "                     Weighted_Price\n",
              "Timestamp                          \n",
              "2018-07-11 19:35:00     6304.156385\n",
              "2018-07-11 19:36:00     6298.541264\n",
              "2018-07-11 19:37:00     6299.435459\n",
              "2018-07-11 19:38:00     6300.027354\n",
              "2018-07-11 19:39:00     6306.917629"
            ]
          },
          "metadata": {
            "tags": []
          },
          "execution_count": 6
        }
      ]
    },
    {
      "cell_type": "code",
      "metadata": {
        "id": "g72o9VV6IhtO",
        "colab_type": "code",
        "colab": {}
      },
      "source": [
        "scaler = MinMaxScaler(feature_range=(0, 1))"
      ],
      "execution_count": 0,
      "outputs": []
    },
    {
      "cell_type": "code",
      "metadata": {
        "id": "LJ3SrtUhIhtT",
        "colab_type": "code",
        "colab": {},
        "outputId": "1528f2fa-4f40-4029-9f24-49ef82bcc703"
      },
      "source": [
        "btc_tw_df_1.isnull().sum()"
      ],
      "execution_count": 0,
      "outputs": [
        {
          "output_type": "execute_result",
          "data": {
            "text/plain": [
              "Weighted_Price    182\n",
              "dtype: int64"
            ]
          },
          "metadata": {
            "tags": []
          },
          "execution_count": 8
        }
      ]
    },
    {
      "cell_type": "code",
      "metadata": {
        "id": "5hDex6__IhtX",
        "colab_type": "code",
        "colab": {},
        "outputId": "7a3c9a30-c140-492b-ec50-a68c4da5e362"
      },
      "source": [
        "btc_tw_df_1.Weighted_Price = btc_tw_df_1.Weighted_Price.fillna(btc_tw_df_1.Weighted_Price.mean())"
      ],
      "execution_count": 0,
      "outputs": [
        {
          "output_type": "stream",
          "text": [
            "/usr/local/lib/python3.5/dist-packages/pandas/core/generic.py:5208: SettingWithCopyWarning: \n",
            "A value is trying to be set on a copy of a slice from a DataFrame.\n",
            "Try using .loc[row_indexer,col_indexer] = value instead\n",
            "\n",
            "See the caveats in the documentation: http://pandas.pydata.org/pandas-docs/stable/user_guide/indexing.html#returning-a-view-versus-a-copy\n",
            "  self[name] = value\n"
          ],
          "name": "stderr"
        }
      ]
    },
    {
      "cell_type": "code",
      "metadata": {
        "id": "R4_HhOClIhtc",
        "colab_type": "code",
        "colab": {}
      },
      "source": [
        "btc_tw_df_1 = scaler.fit_transform(btc_tw_df_1.values)"
      ],
      "execution_count": 0,
      "outputs": []
    },
    {
      "cell_type": "code",
      "metadata": {
        "id": "uH7nkZ1xIhti",
        "colab_type": "code",
        "colab": {}
      },
      "source": [
        "def series_to_supervised(data, n_in=1, n_out=1, dropnan=True):\n",
        "\tn_vars = 1 if type(data) is list else data.shape[1]\n",
        "\tdf = pd.DataFrame(data)\n",
        "\tcols, names = list(), list()\n",
        "\t# input sequence (t-n, ... t-1)\n",
        "\tfor i in range(n_in, 0, -1):\n",
        "\t\tcols.append(df.shift(i))\n",
        "\t\tnames += [('var%d(t-%d)' % (j+1, i)) for j in range(n_vars)]\n",
        "\t# forecast sequence (t, t+1, ... t+n)\n",
        "\tfor i in range(0, n_out):\n",
        "\t\tcols.append(df.shift(-i))\n",
        "\t\tif i == 0:\n",
        "\t\t\tnames += [('var%d(t)' % (j+1)) for j in range(n_vars)]\n",
        "\t\telse:\n",
        "\t\t\tnames += [('var%d(t+%d)' % (j+1, i)) for j in range(n_vars)]\n",
        "\t# put it all together\n",
        "\tagg = pd.concat(cols, axis=1)\n",
        "\tagg.columns = names\n",
        "\t# drop rows with NaN values\n",
        "\tif dropnan:\n",
        "\t\tagg.dropna(inplace=True)\n",
        "\treturn agg"
      ],
      "execution_count": 0,
      "outputs": []
    },
    {
      "cell_type": "code",
      "metadata": {
        "id": "MlTJF-HaIhtn",
        "colab_type": "code",
        "colab": {},
        "outputId": "d2b91d00-6fb6-41d8-b15c-84d63ff26220"
      },
      "source": [
        "n_per_in  = 2\n",
        "n_per_out = 1\n",
        "n_features = 1\n",
        "reframed_df_1 = series_to_supervised(btc_tw_df_1, n_per_in, n_per_out)\n",
        "reframed_df_1.head()"
      ],
      "execution_count": 0,
      "outputs": [
        {
          "output_type": "execute_result",
          "data": {
            "text/html": [
              "<div>\n",
              "<style scoped>\n",
              "    .dataframe tbody tr th:only-of-type {\n",
              "        vertical-align: middle;\n",
              "    }\n",
              "\n",
              "    .dataframe tbody tr th {\n",
              "        vertical-align: top;\n",
              "    }\n",
              "\n",
              "    .dataframe thead th {\n",
              "        text-align: right;\n",
              "    }\n",
              "</style>\n",
              "<table border=\"1\" class=\"dataframe\">\n",
              "  <thead>\n",
              "    <tr style=\"text-align: right;\">\n",
              "      <th></th>\n",
              "      <th>var1(t-2)</th>\n",
              "      <th>var1(t-1)</th>\n",
              "      <th>var1(t)</th>\n",
              "    </tr>\n",
              "  </thead>\n",
              "  <tbody>\n",
              "    <tr>\n",
              "      <th>2</th>\n",
              "      <td>0.112507</td>\n",
              "      <td>0.109612</td>\n",
              "      <td>0.110073</td>\n",
              "    </tr>\n",
              "    <tr>\n",
              "      <th>3</th>\n",
              "      <td>0.109612</td>\n",
              "      <td>0.110073</td>\n",
              "      <td>0.110378</td>\n",
              "    </tr>\n",
              "    <tr>\n",
              "      <th>4</th>\n",
              "      <td>0.110073</td>\n",
              "      <td>0.110378</td>\n",
              "      <td>0.113930</td>\n",
              "    </tr>\n",
              "    <tr>\n",
              "      <th>5</th>\n",
              "      <td>0.110378</td>\n",
              "      <td>0.113930</td>\n",
              "      <td>0.123210</td>\n",
              "    </tr>\n",
              "    <tr>\n",
              "      <th>6</th>\n",
              "      <td>0.113930</td>\n",
              "      <td>0.123210</td>\n",
              "      <td>0.123895</td>\n",
              "    </tr>\n",
              "  </tbody>\n",
              "</table>\n",
              "</div>"
            ],
            "text/plain": [
              "   var1(t-2)  var1(t-1)   var1(t)\n",
              "2   0.112507   0.109612  0.110073\n",
              "3   0.109612   0.110073  0.110378\n",
              "4   0.110073   0.110378  0.113930\n",
              "5   0.110378   0.113930  0.123210\n",
              "6   0.113930   0.123210  0.123895"
            ]
          },
          "metadata": {
            "tags": []
          },
          "execution_count": 12
        }
      ]
    },
    {
      "cell_type": "code",
      "metadata": {
        "id": "rdEVEZHTIhtr",
        "colab_type": "code",
        "colab": {},
        "outputId": "163fa638-bd7e-482d-a768-1804fb524987"
      },
      "source": [
        "values = reframed_df_1.values\n",
        "n_train_mins = 15000\n",
        "train = values[:n_train_mins, :]\n",
        "test = values[n_train_mins:, :]\n",
        "train.shape"
      ],
      "execution_count": 0,
      "outputs": [
        {
          "output_type": "execute_result",
          "data": {
            "text/plain": [
              "(15000, 3)"
            ]
          },
          "metadata": {
            "tags": []
          },
          "execution_count": 13
        }
      ]
    },
    {
      "cell_type": "code",
      "metadata": {
        "id": "bfBiEVT8Ihtu",
        "colab_type": "code",
        "colab": {}
      },
      "source": [
        "X_train, y_train = train[:, :n_per_in*n_features], train[:, -n_features*n_per_out]\n",
        "X_test, y_test = test[:, :n_per_in*n_features], test[:, -n_features*n_per_out]"
      ],
      "execution_count": 0,
      "outputs": []
    },
    {
      "cell_type": "code",
      "metadata": {
        "id": "wVNfqlNhIhty",
        "colab_type": "code",
        "colab": {},
        "outputId": "d786aed8-fcce-43e2-aaa1-0f9dd07d8acf"
      },
      "source": [
        "X_train = X_train.reshape((X_train.shape[0], n_per_in, n_features))\n",
        "X_test = X_test.reshape((X_test.shape[0], n_per_in, n_features))\n",
        "print(X_train.shape, y_train.shape, X_test.shape, y_test.shape)"
      ],
      "execution_count": 0,
      "outputs": [
        {
          "output_type": "stream",
          "text": [
            "(15000, 2, 1) (15000,) (3041, 2, 1) (3041,)\n"
          ],
          "name": "stdout"
        }
      ]
    },
    {
      "cell_type": "code",
      "metadata": {
        "id": "XKQgSraWIht1",
        "colab_type": "code",
        "colab": {},
        "outputId": "b00dd819-5c2b-4c0a-8d9d-67ac2ab4c361"
      },
      "source": [
        "model = Sequential()\n",
        "model.add(LSTM(2, input_shape=(X_train.shape[1], X_train.shape[2])))\n",
        "model.add(Dropout(rate=0.1))\n",
        "model.add(Dense(1))\n",
        "model.compile(loss='mse', optimizer='adam',metrics = ['accuracy'])\n",
        "lstm_model_no_btc = model.fit(X_train, y_train, epochs=10, batch_size=6, validation_data=(X_test, y_test), verbose=2, shuffle=False,validation_split=0.2)"
      ],
      "execution_count": 0,
      "outputs": [
        {
          "output_type": "stream",
          "text": [
            "Train on 15000 samples, validate on 3041 samples\n",
            "Epoch 1/10\n",
            " - 16s - loss: 0.0032 - accuracy: 6.6667e-05 - val_loss: 0.0211 - val_accuracy: 3.2884e-04\n",
            "Epoch 2/10\n",
            " - 16s - loss: 0.0052 - accuracy: 6.6667e-05 - val_loss: 0.0162 - val_accuracy: 3.2884e-04\n",
            "Epoch 3/10\n",
            " - 15s - loss: 0.0051 - accuracy: 6.6667e-05 - val_loss: 0.0143 - val_accuracy: 3.2884e-04\n",
            "Epoch 4/10\n",
            " - 15s - loss: 0.0048 - accuracy: 6.6667e-05 - val_loss: 0.0138 - val_accuracy: 3.2884e-04\n",
            "Epoch 5/10\n",
            " - 15s - loss: 0.0047 - accuracy: 6.6667e-05 - val_loss: 0.0186 - val_accuracy: 3.2884e-04\n",
            "Epoch 6/10\n",
            " - 15s - loss: 0.0049 - accuracy: 6.6667e-05 - val_loss: 0.0183 - val_accuracy: 3.2884e-04\n",
            "Epoch 7/10\n",
            " - 15s - loss: 0.0045 - accuracy: 6.6667e-05 - val_loss: 0.0164 - val_accuracy: 3.2884e-04\n",
            "Epoch 8/10\n",
            " - 15s - loss: 0.0042 - accuracy: 6.6667e-05 - val_loss: 0.0148 - val_accuracy: 3.2884e-04\n",
            "Epoch 9/10\n",
            " - 15s - loss: 0.0042 - accuracy: 6.6667e-05 - val_loss: 0.0144 - val_accuracy: 3.2884e-04\n",
            "Epoch 10/10\n",
            " - 15s - loss: 0.0042 - accuracy: 6.6667e-05 - val_loss: 0.0127 - val_accuracy: 3.2884e-04\n"
          ],
          "name": "stdout"
        }
      ]
    },
    {
      "cell_type": "markdown",
      "metadata": {
        "id": "egqaNyYbIht4",
        "colab_type": "text"
      },
      "source": [
        "### LSTM without Twitter sentiment analysis: daily price change"
      ]
    },
    {
      "cell_type": "code",
      "metadata": {
        "id": "97zogcxjIht5",
        "colab_type": "code",
        "colab": {},
        "outputId": "4eddd0fe-8229-4005-e8fe-dae930b0479f"
      },
      "source": [
        "btc_tw_df_2 = btc_tw_df[['Timestamp','daily_change']]\n",
        "btc_tw_df_2.set_index('Timestamp',inplace=True)\n",
        "btc_tw_df_2.head()"
      ],
      "execution_count": 0,
      "outputs": [
        {
          "output_type": "execute_result",
          "data": {
            "text/html": [
              "<div>\n",
              "<style scoped>\n",
              "    .dataframe tbody tr th:only-of-type {\n",
              "        vertical-align: middle;\n",
              "    }\n",
              "\n",
              "    .dataframe tbody tr th {\n",
              "        vertical-align: top;\n",
              "    }\n",
              "\n",
              "    .dataframe thead th {\n",
              "        text-align: right;\n",
              "    }\n",
              "</style>\n",
              "<table border=\"1\" class=\"dataframe\">\n",
              "  <thead>\n",
              "    <tr style=\"text-align: right;\">\n",
              "      <th></th>\n",
              "      <th>daily_change</th>\n",
              "    </tr>\n",
              "    <tr>\n",
              "      <th>Timestamp</th>\n",
              "      <th></th>\n",
              "    </tr>\n",
              "  </thead>\n",
              "  <tbody>\n",
              "    <tr>\n",
              "      <th>2018-07-11 19:35:00</th>\n",
              "      <td>25.90</td>\n",
              "    </tr>\n",
              "    <tr>\n",
              "      <th>2018-07-11 19:36:00</th>\n",
              "      <td>7.91</td>\n",
              "    </tr>\n",
              "    <tr>\n",
              "      <th>2018-07-11 19:37:00</th>\n",
              "      <td>2.46</td>\n",
              "    </tr>\n",
              "    <tr>\n",
              "      <th>2018-07-11 19:38:00</th>\n",
              "      <td>7.00</td>\n",
              "    </tr>\n",
              "    <tr>\n",
              "      <th>2018-07-11 19:39:00</th>\n",
              "      <td>0.07</td>\n",
              "    </tr>\n",
              "  </tbody>\n",
              "</table>\n",
              "</div>"
            ],
            "text/plain": [
              "                     daily_change\n",
              "Timestamp                        \n",
              "2018-07-11 19:35:00         25.90\n",
              "2018-07-11 19:36:00          7.91\n",
              "2018-07-11 19:37:00          2.46\n",
              "2018-07-11 19:38:00          7.00\n",
              "2018-07-11 19:39:00          0.07"
            ]
          },
          "metadata": {
            "tags": []
          },
          "execution_count": 17
        }
      ]
    },
    {
      "cell_type": "code",
      "metadata": {
        "id": "O_py-PIQIht9",
        "colab_type": "code",
        "colab": {}
      },
      "source": [
        "btc_tw_df_2.daily_change = btc_tw_df_2.daily_change.fillna(btc_tw_df_2.daily_change.mean())"
      ],
      "execution_count": 0,
      "outputs": []
    },
    {
      "cell_type": "code",
      "metadata": {
        "id": "0r6HdcMkIhuC",
        "colab_type": "code",
        "colab": {}
      },
      "source": [
        "btc_tw_df_2 = scaler.fit_transform(btc_tw_df_2.values)"
      ],
      "execution_count": 0,
      "outputs": []
    },
    {
      "cell_type": "code",
      "metadata": {
        "id": "M3Wx0oy2IhuF",
        "colab_type": "code",
        "colab": {},
        "outputId": "8dcbccd5-aec3-45f9-cd7b-16d453788938"
      },
      "source": [
        "reframed_df_2 = series_to_supervised(btc_tw_df_2, n_per_in, n_per_out)\n",
        "reframed_df_2.head()"
      ],
      "execution_count": 0,
      "outputs": [
        {
          "output_type": "execute_result",
          "data": {
            "text/html": [
              "<div>\n",
              "<style scoped>\n",
              "    .dataframe tbody tr th:only-of-type {\n",
              "        vertical-align: middle;\n",
              "    }\n",
              "\n",
              "    .dataframe tbody tr th {\n",
              "        vertical-align: top;\n",
              "    }\n",
              "\n",
              "    .dataframe thead th {\n",
              "        text-align: right;\n",
              "    }\n",
              "</style>\n",
              "<table border=\"1\" class=\"dataframe\">\n",
              "  <thead>\n",
              "    <tr style=\"text-align: right;\">\n",
              "      <th></th>\n",
              "      <th>var1(t-2)</th>\n",
              "      <th>var1(t-1)</th>\n",
              "      <th>var1(t)</th>\n",
              "    </tr>\n",
              "  </thead>\n",
              "  <tbody>\n",
              "    <tr>\n",
              "      <th>2</th>\n",
              "      <td>0.265043</td>\n",
              "      <td>0.080946</td>\n",
              "      <td>0.025174</td>\n",
              "    </tr>\n",
              "    <tr>\n",
              "      <th>3</th>\n",
              "      <td>0.080946</td>\n",
              "      <td>0.025174</td>\n",
              "      <td>0.071633</td>\n",
              "    </tr>\n",
              "    <tr>\n",
              "      <th>4</th>\n",
              "      <td>0.025174</td>\n",
              "      <td>0.071633</td>\n",
              "      <td>0.000716</td>\n",
              "    </tr>\n",
              "    <tr>\n",
              "      <th>5</th>\n",
              "      <td>0.071633</td>\n",
              "      <td>0.000716</td>\n",
              "      <td>0.126586</td>\n",
              "    </tr>\n",
              "    <tr>\n",
              "      <th>6</th>\n",
              "      <td>0.000716</td>\n",
              "      <td>0.126586</td>\n",
              "      <td>0.031109</td>\n",
              "    </tr>\n",
              "  </tbody>\n",
              "</table>\n",
              "</div>"
            ],
            "text/plain": [
              "   var1(t-2)  var1(t-1)   var1(t)\n",
              "2   0.265043   0.080946  0.025174\n",
              "3   0.080946   0.025174  0.071633\n",
              "4   0.025174   0.071633  0.000716\n",
              "5   0.071633   0.000716  0.126586\n",
              "6   0.000716   0.126586  0.031109"
            ]
          },
          "metadata": {
            "tags": []
          },
          "execution_count": 20
        }
      ]
    },
    {
      "cell_type": "code",
      "metadata": {
        "id": "0nKBVQfCIhuJ",
        "colab_type": "code",
        "colab": {},
        "outputId": "63ad9fb9-4a2a-425c-f32c-5f8f9a5b793b"
      },
      "source": [
        "values = reframed_df_2.values\n",
        "n_train_mins = 15000\n",
        "train_2 = values[:n_train_mins, :]\n",
        "test_2 = values[n_train_mins:, :]\n",
        "train_2.shape"
      ],
      "execution_count": 0,
      "outputs": [
        {
          "output_type": "execute_result",
          "data": {
            "text/plain": [
              "(15000, 3)"
            ]
          },
          "metadata": {
            "tags": []
          },
          "execution_count": 21
        }
      ]
    },
    {
      "cell_type": "code",
      "metadata": {
        "id": "3fQakT00IhuM",
        "colab_type": "code",
        "colab": {}
      },
      "source": [
        "X_train_2, y_train_2 = train_2[:, :n_per_in*n_features], train_2[:, -n_features*n_per_out]\n",
        "X_test_2, y_test_2 = test_2[:, :n_per_in*n_features], test_2[:, -n_features*n_per_out]"
      ],
      "execution_count": 0,
      "outputs": []
    },
    {
      "cell_type": "code",
      "metadata": {
        "id": "gOVsTXw7IhuQ",
        "colab_type": "code",
        "colab": {},
        "outputId": "f778dd7d-1e74-44ba-a948-919ef3474333"
      },
      "source": [
        "X_train_2 = X_train_2.reshape((X_train_2.shape[0], n_per_in, n_features))\n",
        "X_test_2 = X_test_2.reshape((X_test_2.shape[0], n_per_in, n_features))\n",
        "print(X_train_2.shape, y_train_2.shape, X_test_2.shape, y_test_2.shape)"
      ],
      "execution_count": 0,
      "outputs": [
        {
          "output_type": "stream",
          "text": [
            "(15000, 2, 1) (15000,) (3041, 2, 1) (3041,)\n"
          ],
          "name": "stdout"
        }
      ]
    },
    {
      "cell_type": "code",
      "metadata": {
        "id": "_TQOhli6IhuU",
        "colab_type": "code",
        "colab": {},
        "outputId": "4c52429c-880c-4e3d-f093-14de6b2213f2"
      },
      "source": [
        "model = Sequential()\n",
        "model.add(LSTM(2, input_shape=(X_train_2.shape[1], X_train_2.shape[2])))\n",
        "model.add(Dropout(rate=0.1))\n",
        "model.add(Dense(1))\n",
        "model.compile(loss='mse', optimizer='adam',metrics = ['accuracy'])\n",
        "lstm_model_daily = model.fit(X_train_2, y_train_2, epochs=10, batch_size=6, validation_data=(X_test_2, y_test_2), verbose=2, shuffle=False,validation_split=0.2)"
      ],
      "execution_count": 0,
      "outputs": [
        {
          "output_type": "stream",
          "text": [
            "Train on 15000 samples, validate on 3041 samples\n",
            "Epoch 1/10\n",
            " - 16s - loss: 0.0023 - accuracy: 0.0795 - val_loss: 0.0030 - val_accuracy: 0.0589\n",
            "Epoch 2/10\n",
            " - 15s - loss: 0.0022 - accuracy: 0.0795 - val_loss: 0.0030 - val_accuracy: 0.0589\n",
            "Epoch 3/10\n",
            " - 15s - loss: 0.0021 - accuracy: 0.0795 - val_loss: 0.0029 - val_accuracy: 0.0589\n",
            "Epoch 4/10\n",
            " - 15s - loss: 0.0020 - accuracy: 0.0795 - val_loss: 0.0028 - val_accuracy: 0.0589\n",
            "Epoch 5/10\n",
            " - 15s - loss: 0.0019 - accuracy: 0.0795 - val_loss: 0.0027 - val_accuracy: 0.0589\n",
            "Epoch 6/10\n",
            " - 15s - loss: 0.0019 - accuracy: 0.0795 - val_loss: 0.0027 - val_accuracy: 0.0589\n",
            "Epoch 7/10\n",
            " - 15s - loss: 0.0019 - accuracy: 0.0795 - val_loss: 0.0027 - val_accuracy: 0.0589\n",
            "Epoch 8/10\n",
            " - 15s - loss: 0.0019 - accuracy: 0.0795 - val_loss: 0.0027 - val_accuracy: 0.0589\n",
            "Epoch 9/10\n",
            " - 15s - loss: 0.0019 - accuracy: 0.0795 - val_loss: 0.0026 - val_accuracy: 0.0589\n",
            "Epoch 10/10\n",
            " - 15s - loss: 0.0019 - accuracy: 0.0795 - val_loss: 0.0027 - val_accuracy: 0.0589\n"
          ],
          "name": "stdout"
        }
      ]
    },
    {
      "cell_type": "code",
      "metadata": {
        "id": "Yt4EScISIhuW",
        "colab_type": "code",
        "colab": {}
      },
      "source": [
        ""
      ],
      "execution_count": 0,
      "outputs": []
    },
    {
      "cell_type": "markdown",
      "metadata": {
        "id": "Hjwr7bvoIhuZ",
        "colab_type": "text"
      },
      "source": [
        "### LSTM Twitter sentiment analysis: daily price change"
      ]
    },
    {
      "cell_type": "code",
      "metadata": {
        "id": "BTXK8pjsIhub",
        "colab_type": "code",
        "colab": {},
        "outputId": "01f34517-548a-48e7-f2cd-d5e090c8ec51"
      },
      "source": [
        "btc_tw_df_3 = btc_tw_df[['Timestamp','daily_change', 'negative', 'neutral','positive']]\n",
        "btc_tw_df_3.set_index('Timestamp',inplace=True)\n",
        "btc_tw_df_3.head()"
      ],
      "execution_count": 0,
      "outputs": [
        {
          "output_type": "execute_result",
          "data": {
            "text/html": [
              "<div>\n",
              "<style scoped>\n",
              "    .dataframe tbody tr th:only-of-type {\n",
              "        vertical-align: middle;\n",
              "    }\n",
              "\n",
              "    .dataframe tbody tr th {\n",
              "        vertical-align: top;\n",
              "    }\n",
              "\n",
              "    .dataframe thead th {\n",
              "        text-align: right;\n",
              "    }\n",
              "</style>\n",
              "<table border=\"1\" class=\"dataframe\">\n",
              "  <thead>\n",
              "    <tr style=\"text-align: right;\">\n",
              "      <th></th>\n",
              "      <th>daily_change</th>\n",
              "      <th>negative</th>\n",
              "      <th>neutral</th>\n",
              "      <th>positive</th>\n",
              "    </tr>\n",
              "    <tr>\n",
              "      <th>Timestamp</th>\n",
              "      <th></th>\n",
              "      <th></th>\n",
              "      <th></th>\n",
              "      <th></th>\n",
              "    </tr>\n",
              "  </thead>\n",
              "  <tbody>\n",
              "    <tr>\n",
              "      <th>2018-07-11 19:35:00</th>\n",
              "      <td>25.90</td>\n",
              "      <td>3</td>\n",
              "      <td>31</td>\n",
              "      <td>16</td>\n",
              "    </tr>\n",
              "    <tr>\n",
              "      <th>2018-07-11 19:36:00</th>\n",
              "      <td>7.91</td>\n",
              "      <td>4</td>\n",
              "      <td>36</td>\n",
              "      <td>18</td>\n",
              "    </tr>\n",
              "    <tr>\n",
              "      <th>2018-07-11 19:37:00</th>\n",
              "      <td>2.46</td>\n",
              "      <td>5</td>\n",
              "      <td>53</td>\n",
              "      <td>18</td>\n",
              "    </tr>\n",
              "    <tr>\n",
              "      <th>2018-07-11 19:38:00</th>\n",
              "      <td>7.00</td>\n",
              "      <td>1</td>\n",
              "      <td>40</td>\n",
              "      <td>10</td>\n",
              "    </tr>\n",
              "    <tr>\n",
              "      <th>2018-07-11 19:39:00</th>\n",
              "      <td>0.07</td>\n",
              "      <td>3</td>\n",
              "      <td>49</td>\n",
              "      <td>19</td>\n",
              "    </tr>\n",
              "  </tbody>\n",
              "</table>\n",
              "</div>"
            ],
            "text/plain": [
              "                     daily_change  negative  neutral  positive\n",
              "Timestamp                                                     \n",
              "2018-07-11 19:35:00         25.90         3       31        16\n",
              "2018-07-11 19:36:00          7.91         4       36        18\n",
              "2018-07-11 19:37:00          2.46         5       53        18\n",
              "2018-07-11 19:38:00          7.00         1       40        10\n",
              "2018-07-11 19:39:00          0.07         3       49        19"
            ]
          },
          "metadata": {
            "tags": []
          },
          "execution_count": 25
        }
      ]
    },
    {
      "cell_type": "code",
      "metadata": {
        "id": "y08ADauOIhue",
        "colab_type": "code",
        "colab": {}
      },
      "source": [
        "btc_tw_df_3.daily_change = btc_tw_df_3.daily_change.fillna(btc_tw_df_3.daily_change.mean())\n"
      ],
      "execution_count": 0,
      "outputs": []
    },
    {
      "cell_type": "code",
      "metadata": {
        "id": "4_qv3DcMIhuh",
        "colab_type": "code",
        "colab": {}
      },
      "source": [
        "scaler = MinMaxScaler(feature_range=(0, 1))"
      ],
      "execution_count": 0,
      "outputs": []
    },
    {
      "cell_type": "code",
      "metadata": {
        "id": "ZGyIaps_Ihuk",
        "colab_type": "code",
        "colab": {},
        "outputId": "0380d6eb-0a19-4846-d4c5-f0b339a9d0e8"
      },
      "source": [
        "btc_tw_df_3.isnull().sum()"
      ],
      "execution_count": 0,
      "outputs": [
        {
          "output_type": "execute_result",
          "data": {
            "text/plain": [
              "daily_change    0\n",
              "negative        0\n",
              "neutral         0\n",
              "positive        0\n",
              "dtype: int64"
            ]
          },
          "metadata": {
            "tags": []
          },
          "execution_count": 28
        }
      ]
    },
    {
      "cell_type": "code",
      "metadata": {
        "id": "_usCr7NBIhuo",
        "colab_type": "code",
        "colab": {}
      },
      "source": [
        "btc_tw_df_3 = scaler.fit_transform(btc_tw_df_3.values)"
      ],
      "execution_count": 0,
      "outputs": []
    },
    {
      "cell_type": "code",
      "metadata": {
        "id": "57WFLpV1Ihuq",
        "colab_type": "code",
        "colab": {},
        "outputId": "34b0d2f4-3fa0-4a17-849a-d74f146da342"
      },
      "source": [
        "n_per_in  = 3\n",
        "n_per_out = 1\n",
        "n_features = 4\n",
        "reframed_df = series_to_supervised(btc_tw_df_3, n_per_in, n_per_out)\n",
        "reframed_df.head()"
      ],
      "execution_count": 0,
      "outputs": [
        {
          "output_type": "execute_result",
          "data": {
            "text/html": [
              "<div>\n",
              "<style scoped>\n",
              "    .dataframe tbody tr th:only-of-type {\n",
              "        vertical-align: middle;\n",
              "    }\n",
              "\n",
              "    .dataframe tbody tr th {\n",
              "        vertical-align: top;\n",
              "    }\n",
              "\n",
              "    .dataframe thead th {\n",
              "        text-align: right;\n",
              "    }\n",
              "</style>\n",
              "<table border=\"1\" class=\"dataframe\">\n",
              "  <thead>\n",
              "    <tr style=\"text-align: right;\">\n",
              "      <th></th>\n",
              "      <th>var1(t-3)</th>\n",
              "      <th>var2(t-3)</th>\n",
              "      <th>var3(t-3)</th>\n",
              "      <th>var4(t-3)</th>\n",
              "      <th>var1(t-2)</th>\n",
              "      <th>var2(t-2)</th>\n",
              "      <th>var3(t-2)</th>\n",
              "      <th>var4(t-2)</th>\n",
              "      <th>var1(t-1)</th>\n",
              "      <th>var2(t-1)</th>\n",
              "      <th>var3(t-1)</th>\n",
              "      <th>var4(t-1)</th>\n",
              "      <th>var1(t)</th>\n",
              "      <th>var2(t)</th>\n",
              "      <th>var3(t)</th>\n",
              "      <th>var4(t)</th>\n",
              "    </tr>\n",
              "  </thead>\n",
              "  <tbody>\n",
              "    <tr>\n",
              "      <th>3</th>\n",
              "      <td>0.265043</td>\n",
              "      <td>0.043478</td>\n",
              "      <td>0.117117</td>\n",
              "      <td>0.123967</td>\n",
              "      <td>0.080946</td>\n",
              "      <td>0.057971</td>\n",
              "      <td>0.139640</td>\n",
              "      <td>0.140496</td>\n",
              "      <td>0.025174</td>\n",
              "      <td>0.072464</td>\n",
              "      <td>0.216216</td>\n",
              "      <td>0.140496</td>\n",
              "      <td>0.071633</td>\n",
              "      <td>0.014493</td>\n",
              "      <td>0.157658</td>\n",
              "      <td>0.074380</td>\n",
              "    </tr>\n",
              "    <tr>\n",
              "      <th>4</th>\n",
              "      <td>0.080946</td>\n",
              "      <td>0.057971</td>\n",
              "      <td>0.139640</td>\n",
              "      <td>0.140496</td>\n",
              "      <td>0.025174</td>\n",
              "      <td>0.072464</td>\n",
              "      <td>0.216216</td>\n",
              "      <td>0.140496</td>\n",
              "      <td>0.071633</td>\n",
              "      <td>0.014493</td>\n",
              "      <td>0.157658</td>\n",
              "      <td>0.074380</td>\n",
              "      <td>0.000716</td>\n",
              "      <td>0.043478</td>\n",
              "      <td>0.198198</td>\n",
              "      <td>0.148760</td>\n",
              "    </tr>\n",
              "    <tr>\n",
              "      <th>5</th>\n",
              "      <td>0.025174</td>\n",
              "      <td>0.072464</td>\n",
              "      <td>0.216216</td>\n",
              "      <td>0.140496</td>\n",
              "      <td>0.071633</td>\n",
              "      <td>0.014493</td>\n",
              "      <td>0.157658</td>\n",
              "      <td>0.074380</td>\n",
              "      <td>0.000716</td>\n",
              "      <td>0.043478</td>\n",
              "      <td>0.198198</td>\n",
              "      <td>0.148760</td>\n",
              "      <td>0.126586</td>\n",
              "      <td>0.086957</td>\n",
              "      <td>0.229730</td>\n",
              "      <td>0.239669</td>\n",
              "    </tr>\n",
              "    <tr>\n",
              "      <th>6</th>\n",
              "      <td>0.071633</td>\n",
              "      <td>0.014493</td>\n",
              "      <td>0.157658</td>\n",
              "      <td>0.074380</td>\n",
              "      <td>0.000716</td>\n",
              "      <td>0.043478</td>\n",
              "      <td>0.198198</td>\n",
              "      <td>0.148760</td>\n",
              "      <td>0.126586</td>\n",
              "      <td>0.086957</td>\n",
              "      <td>0.229730</td>\n",
              "      <td>0.239669</td>\n",
              "      <td>0.031109</td>\n",
              "      <td>0.115942</td>\n",
              "      <td>0.207207</td>\n",
              "      <td>0.090909</td>\n",
              "    </tr>\n",
              "    <tr>\n",
              "      <th>7</th>\n",
              "      <td>0.000716</td>\n",
              "      <td>0.043478</td>\n",
              "      <td>0.198198</td>\n",
              "      <td>0.148760</td>\n",
              "      <td>0.126586</td>\n",
              "      <td>0.086957</td>\n",
              "      <td>0.229730</td>\n",
              "      <td>0.239669</td>\n",
              "      <td>0.031109</td>\n",
              "      <td>0.115942</td>\n",
              "      <td>0.207207</td>\n",
              "      <td>0.090909</td>\n",
              "      <td>0.056181</td>\n",
              "      <td>0.086957</td>\n",
              "      <td>0.211712</td>\n",
              "      <td>0.066116</td>\n",
              "    </tr>\n",
              "  </tbody>\n",
              "</table>\n",
              "</div>"
            ],
            "text/plain": [
              "   var1(t-3)  var2(t-3)  var3(t-3)  var4(t-3)  var1(t-2)  var2(t-2)  \\\n",
              "3   0.265043   0.043478   0.117117   0.123967   0.080946   0.057971   \n",
              "4   0.080946   0.057971   0.139640   0.140496   0.025174   0.072464   \n",
              "5   0.025174   0.072464   0.216216   0.140496   0.071633   0.014493   \n",
              "6   0.071633   0.014493   0.157658   0.074380   0.000716   0.043478   \n",
              "7   0.000716   0.043478   0.198198   0.148760   0.126586   0.086957   \n",
              "\n",
              "   var3(t-2)  var4(t-2)  var1(t-1)  var2(t-1)  var3(t-1)  var4(t-1)   var1(t)  \\\n",
              "3   0.139640   0.140496   0.025174   0.072464   0.216216   0.140496  0.071633   \n",
              "4   0.216216   0.140496   0.071633   0.014493   0.157658   0.074380  0.000716   \n",
              "5   0.157658   0.074380   0.000716   0.043478   0.198198   0.148760  0.126586   \n",
              "6   0.198198   0.148760   0.126586   0.086957   0.229730   0.239669  0.031109   \n",
              "7   0.229730   0.239669   0.031109   0.115942   0.207207   0.090909  0.056181   \n",
              "\n",
              "    var2(t)   var3(t)   var4(t)  \n",
              "3  0.014493  0.157658  0.074380  \n",
              "4  0.043478  0.198198  0.148760  \n",
              "5  0.086957  0.229730  0.239669  \n",
              "6  0.115942  0.207207  0.090909  \n",
              "7  0.086957  0.211712  0.066116  "
            ]
          },
          "metadata": {
            "tags": []
          },
          "execution_count": 35
        }
      ]
    },
    {
      "cell_type": "code",
      "metadata": {
        "id": "b_liByVdIhuu",
        "colab_type": "code",
        "colab": {},
        "outputId": "e200a4bf-6d64-4f09-9d7d-6b23483d9a27"
      },
      "source": [
        "values = reframed_df.values\n",
        "n_train_mins = 15000\n",
        "train = values[:n_train_mins, :]\n",
        "test = values[n_train_mins:, :]\n",
        "train.shape"
      ],
      "execution_count": 0,
      "outputs": [
        {
          "output_type": "execute_result",
          "data": {
            "text/plain": [
              "(15000, 16)"
            ]
          },
          "metadata": {
            "tags": []
          },
          "execution_count": 36
        }
      ]
    },
    {
      "cell_type": "code",
      "metadata": {
        "id": "XrKy8scMIhux",
        "colab_type": "code",
        "colab": {}
      },
      "source": [
        "X_train_3, y_train_3 = train[:, :n_per_in*n_features], train[:, -n_features*n_per_out]\n",
        "X_test_3, y_test_3 = test[:, :n_per_in*n_features], test[:, -n_features*n_per_out]"
      ],
      "execution_count": 0,
      "outputs": []
    },
    {
      "cell_type": "code",
      "metadata": {
        "id": "DkhuuPDrIhu1",
        "colab_type": "code",
        "colab": {},
        "outputId": "cbebc371-3dfe-4fae-c44a-e757b699d06d"
      },
      "source": [
        "X_train_3 = X_train_3.reshape((X_train_3.shape[0], n_per_in, n_features))\n",
        "X_test_3 = X_test_3.reshape((X_test_3.shape[0], n_per_in, n_features))\n",
        "print(X_train_3.shape, y_train_3.shape, X_test_3.shape, y_test_3.shape)"
      ],
      "execution_count": 0,
      "outputs": [
        {
          "output_type": "stream",
          "text": [
            "(15000, 3, 4) (15000,) (3040, 3, 4) (3040,)\n"
          ],
          "name": "stdout"
        }
      ]
    },
    {
      "cell_type": "code",
      "metadata": {
        "id": "mYaPkuYvIhu5",
        "colab_type": "code",
        "colab": {},
        "outputId": "47524c00-d88d-4ad3-c7c1-5089ab81b465"
      },
      "source": [
        "model = Sequential()\n",
        "model.add(LSTM(4, input_shape=(X_train_3.shape[1], X_train_3.shape[2])))\n",
        "model.add(Dropout(rate=0.1))\n",
        "model.add(Dense(1))\n",
        "model.compile(loss='mse', optimizer='adam',metrics = ['accuracy'])\n",
        "lstm_model_daily_2 = model.fit(X_train_3, y_train_3, epochs=10, batch_size=6, validation_data=(X_test_3, y_test_3), verbose=2, shuffle=False,validation_split=0.2)"
      ],
      "execution_count": 0,
      "outputs": [
        {
          "output_type": "stream",
          "text": [
            "Train on 15000 samples, validate on 3040 samples\n",
            "Epoch 1/10\n",
            " - 18s - loss: 0.0025 - accuracy: 0.0795 - val_loss: 0.0030 - val_accuracy: 0.0589\n",
            "Epoch 2/10\n",
            " - 17s - loss: 0.0021 - accuracy: 0.0795 - val_loss: 0.0029 - val_accuracy: 0.0589\n",
            "Epoch 3/10\n",
            " - 17s - loss: 0.0020 - accuracy: 0.0795 - val_loss: 0.0028 - val_accuracy: 0.0589\n",
            "Epoch 4/10\n",
            " - 17s - loss: 0.0020 - accuracy: 0.0795 - val_loss: 0.0027 - val_accuracy: 0.0589\n",
            "Epoch 5/10\n",
            " - 17s - loss: 0.0019 - accuracy: 0.0795 - val_loss: 0.0027 - val_accuracy: 0.0589\n",
            "Epoch 6/10\n",
            " - 17s - loss: 0.0019 - accuracy: 0.0795 - val_loss: 0.0026 - val_accuracy: 0.0589\n",
            "Epoch 7/10\n",
            " - 17s - loss: 0.0019 - accuracy: 0.0795 - val_loss: 0.0026 - val_accuracy: 0.0589\n",
            "Epoch 8/10\n",
            " - 17s - loss: 0.0019 - accuracy: 0.0795 - val_loss: 0.0026 - val_accuracy: 0.0589\n",
            "Epoch 9/10\n",
            " - 17s - loss: 0.0019 - accuracy: 0.0795 - val_loss: 0.0026 - val_accuracy: 0.0589\n",
            "Epoch 10/10\n",
            " - 17s - loss: 0.0019 - accuracy: 0.0795 - val_loss: 0.0026 - val_accuracy: 0.0589\n"
          ],
          "name": "stdout"
        }
      ]
    },
    {
      "cell_type": "code",
      "metadata": {
        "id": "OqjHKkz5Ihu9",
        "colab_type": "code",
        "colab": {},
        "outputId": "04b6d5ff-81a9-4a57-cd9e-345549a37d0c"
      },
      "source": [
        "plt.plot(lstm_model_daily_2.history['loss'], label='train')\n",
        "plt.plot(lstm_model_daily_2.history['val_loss'], label='test')\n",
        "plt.legend()\n",
        "plt.show()"
      ],
      "execution_count": 0,
      "outputs": [
        {
          "output_type": "display_data",
          "data": {
            "image/png": "[encoded data removed]",
            "text/plain": [
              "<Figure size 432x288 with 1 Axes>"
            ]
          },
          "metadata": {
            "tags": [],
            "needs_background": "light"
          }
        }
      ]
    },
    {
      "cell_type": "code",
      "metadata": {
        "id": "_cLXAgxCIhvB",
        "colab_type": "code",
        "colab": {}
      },
      "source": [
        ""
      ],
      "execution_count": 0,
      "outputs": []
    }
  ]
}