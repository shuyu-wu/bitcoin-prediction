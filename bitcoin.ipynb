{
  "nbformat": 4,
  "nbformat_minor": 0,
  "metadata": {
    "colab": {
      "name": "bitcoin.ipynb",
      "provenance": [],
      "collapsed_sections": [
        "-aMEayhIUbR9"
      ],
      "toc_visible": true,
      "mount_file_id": "1y9O-N6yaqd7Yp-d_deX3wMrwg-ixvR9v",
      "authorship_tag": "ABX9TyOi5YdpMR9J4kE1k0WHRrQE",
      "include_colab_link": true
    },
    "kernelspec": {
      "name": "python3",
      "display_name": "Python 3"
    },
    "accelerator": "GPU"
  },
  "cells": [
    {
      "cell_type": "markdown",
      "metadata": {
        "id": "view-in-github",
        "colab_type": "text"
      },
      "source": [
        "<a href=\"https://colab.research.google.com/github/shuyu-wu/bitcoin-prediction/blob/master/bitcoin.ipynb\" target=\"_parent\"><img src=\"https://colab.research.google.com/assets/colab-badge.svg\" alt=\"Open In Colab\"/></a>"
      ]
    },
    {
      "cell_type": "code",
      "metadata": {
        "id": "_u4sQ06LuXyq",
        "colab_type": "code",
        "outputId": "7bbb9d98-aa7d-44bf-9590-638d233f609c",
        "colab": {
          "base_uri": "https://localhost:8080/",
          "height": 34
        }
      },
      "source": [
        "from google.colab import drive\n",
        "drive.mount('/content/drive')"
      ],
      "execution_count": 0,
      "outputs": [
        {
          "output_type": "stream",
          "text": [
            "Drive already mounted at /content/drive; to attempt to forcibly remount, call drive.mount(\"/content/drive\", force_remount=True).\n"
          ],
          "name": "stdout"
        }
      ]
    },
    {
      "cell_type": "markdown",
      "metadata": {
        "id": "3fASkBYoB7JT",
        "colab_type": "text"
      },
      "source": [
        "# Load libraries"
      ]
    },
    {
      "cell_type": "code",
      "metadata": {
        "id": "88r3jfoAi4PB",
        "colab_type": "code",
        "colab": {}
      },
      "source": [
        "import pandas as pd\n",
        "# from langdetect import detect, DetectorFactory\n",
        "import seaborn as sns\n",
        "from nltk.corpus import stopwords\n",
        "from wordcloud import WordCloud\n",
        "import matplotlib.pyplot as plt\n",
        "import numpy as np\n",
        "from sklearn.model_selection import train_test_split\n",
        "from keras.preprocessing.text import Tokenizer\n",
        "from keras.preprocessing import sequence\n",
        "import keras.backend as K\n",
        "from keras.models import Sequential\n",
        "from keras.layers import Dense,Embedding,LSTM,RNN,GRU\n",
        "from sklearn.metrics import accuracy_score,confusion_matrix,classification_report\n",
        "import pickle\n",
        "from keras.models import load_model\n",
        "import re\n",
        "import nltk\n",
        "from sklearn.linear_model import LogisticRegression\n",
        "from sklearn.preprocessing import LabelEncoder, OneHotEncoder, StandardScaler\n",
        "from sklearn.ensemble import RandomForestClassifier\n",
        "from sklearn.naive_bayes import MultinomialNB\n",
        "import itertools\n",
        "from statsmodels.graphics.tsaplots import plot_pacf\n",
        "from statsmodels.graphics.tsaplots import plot_acf\n",
        "from scipy import stats\n",
        "import statsmodels.api as sm\n",
        "from itertools import product\n",
        "from fbprophet import Prophet\n",
        "\n"
      ],
      "execution_count": 0,
      "outputs": []
    },
    {
      "cell_type": "markdown",
      "metadata": {
        "id": "Q3Z1OHd7l-OM",
        "colab_type": "text"
      },
      "source": [
        "# PART 1"
      ]
    },
    {
      "cell_type": "markdown",
      "metadata": {
        "id": "EazeVWcFCAa_",
        "colab_type": "text"
      },
      "source": [
        "## Load real time dataset"
      ]
    },
    {
      "cell_type": "code",
      "metadata": {
        "id": "9BNCJ9MGiQ-z",
        "colab_type": "code",
        "colab": {}
      },
      "source": [
        "tweets_df = pd.read_csv('/content/drive/My Drive/Colab Notebooks/tweets_v1.csv')"
      ],
      "execution_count": 0,
      "outputs": []
    },
    {
      "cell_type": "code",
      "metadata": {
        "id": "0iAqlP9oiU_O",
        "colab_type": "code",
        "outputId": "96b4db07-52a4-4137-99dd-9890c62a0afe",
        "colab": {
          "base_uri": "https://localhost:8080/",
          "height": 34
        }
      },
      "source": [
        "tweets_df.text.isnull().sum()"
      ],
      "execution_count": 0,
      "outputs": [
        {
          "output_type": "execute_result",
          "data": {
            "text/plain": [
              "718"
            ]
          },
          "metadata": {
            "tags": []
          },
          "execution_count": 8
        }
      ]
    },
    {
      "cell_type": "code",
      "metadata": {
        "id": "9ltmuKnDjHmO",
        "colab_type": "code",
        "colab": {}
      },
      "source": [
        "tweets_df.text.dropna(inplace=True)"
      ],
      "execution_count": 0,
      "outputs": []
    },
    {
      "cell_type": "markdown",
      "metadata": {
        "id": "QnXmExOhvz3u",
        "colab_type": "text"
      },
      "source": [
        "## Filter English tweets"
      ]
    },
    {
      "cell_type": "code",
      "metadata": {
        "id": "3j916pzjjLW5",
        "colab_type": "code",
        "colab": {}
      },
      "source": [
        "def filter_english (x):\n",
        "    try:\n",
        "        if detect(x) == 'en':\n",
        "            return x\n",
        "        else:\n",
        "            return 0\n",
        "    except: return 0"
      ],
      "execution_count": 0,
      "outputs": []
    },
    {
      "cell_type": "code",
      "metadata": {
        "id": "XH0qVwIwjRFD",
        "colab_type": "code",
        "colab": {}
      },
      "source": [
        "tw = tweets_df.copy()\n",
        "tw['text'] = tw.text.apply(filter_english)"
      ],
      "execution_count": 0,
      "outputs": []
    },
    {
      "cell_type": "code",
      "metadata": {
        "id": "0us3WqpijS2Z",
        "colab_type": "code",
        "outputId": "6f3928f4-df4f-497c-d7bc-3987f176473a",
        "colab": {
          "base_uri": "https://localhost:8080/",
          "height": 34
        }
      },
      "source": [
        "tw.shape"
      ],
      "execution_count": 0,
      "outputs": [
        {
          "output_type": "execute_result",
          "data": {
            "text/plain": [
              "(1851563, 10)"
            ]
          },
          "metadata": {
            "tags": []
          },
          "execution_count": 13
        }
      ]
    },
    {
      "cell_type": "code",
      "metadata": {
        "id": "bgb4bzaUMBBP",
        "colab_type": "code",
        "outputId": "5e1e477f-7996-4575-b2d7-9c16593d5c2e",
        "colab": {
          "base_uri": "https://localhost:8080/",
          "height": 289
        }
      },
      "source": [
        "tw.tail()"
      ],
      "execution_count": 0,
      "outputs": [
        {
          "output_type": "execute_result",
          "data": {
            "text/html": [
              "<div>\n",
              "<style scoped>\n",
              "    .dataframe tbody tr th:only-of-type {\n",
              "        vertical-align: middle;\n",
              "    }\n",
              "\n",
              "    .dataframe tbody tr th {\n",
              "        vertical-align: top;\n",
              "    }\n",
              "\n",
              "    .dataframe thead th {\n",
              "        text-align: right;\n",
              "    }\n",
              "</style>\n",
              "<table border=\"1\" class=\"dataframe\">\n",
              "  <thead>\n",
              "    <tr style=\"text-align: right;\">\n",
              "      <th></th>\n",
              "      <th>user</th>\n",
              "      <th>fullname</th>\n",
              "      <th>tweet-id</th>\n",
              "      <th>timestamp</th>\n",
              "      <th>url</th>\n",
              "      <th>likes</th>\n",
              "      <th>replies</th>\n",
              "      <th>retweets</th>\n",
              "      <th>text</th>\n",
              "      <th>html</th>\n",
              "    </tr>\n",
              "  </thead>\n",
              "  <tbody>\n",
              "    <tr>\n",
              "      <th>1851558</th>\n",
              "      <td>hanamoto7839</td>\n",
              "      <td>与沢翼ファンクラブ</td>\n",
              "      <td>1085491142202781696</td>\n",
              "      <td>2019-01-16 10:57:10</td>\n",
              "      <td>/hanamoto7839/status/1085491142202781696</td>\n",
              "      <td>2</td>\n",
              "      <td>0</td>\n",
              "      <td>0</td>\n",
              "      <td>0</td>\n",
              "      <td>&lt;p class=\"TweetTextSize js-tweet-text tweet-te...</td>\n",
              "    </tr>\n",
              "    <tr>\n",
              "      <th>1851559</th>\n",
              "      <td>skskwwwww</td>\n",
              "      <td>S(つд⊂)さく</td>\n",
              "      <td>1085491133143179265</td>\n",
              "      <td>2019-01-16 10:57:08</td>\n",
              "      <td>/skskwwwww/status/1085491133143179265</td>\n",
              "      <td>1</td>\n",
              "      <td>0</td>\n",
              "      <td>0</td>\n",
              "      <td>0</td>\n",
              "      <td>&lt;p class=\"TweetTextSize js-tweet-text tweet-te...</td>\n",
              "    </tr>\n",
              "    <tr>\n",
              "      <th>1851560</th>\n",
              "      <td>BTC_shoshinsha</td>\n",
              "      <td>ツーカー</td>\n",
              "      <td>1085491126495137792</td>\n",
              "      <td>2019-01-16 10:57:06</td>\n",
              "      <td>/BTC_shoshinsha/status/1085491126495137792</td>\n",
              "      <td>2</td>\n",
              "      <td>1</td>\n",
              "      <td>0</td>\n",
              "      <td>0</td>\n",
              "      <td>&lt;p class=\"TweetTextSize js-tweet-text tweet-te...</td>\n",
              "    </tr>\n",
              "    <tr>\n",
              "      <th>1851561</th>\n",
              "      <td>HRleaderRich</td>\n",
              "      <td>Rich Brown</td>\n",
              "      <td>1085491114906398720</td>\n",
              "      <td>2019-01-16 10:57:03</td>\n",
              "      <td>/HRleaderRich/status/1085491114906398720</td>\n",
              "      <td>0</td>\n",
              "      <td>0</td>\n",
              "      <td>0</td>\n",
              "      <td>\"Bitcoin - A method of secure transactions bas...</td>\n",
              "      <td>&lt;p class=\"TweetTextSize js-tweet-text tweet-te...</td>\n",
              "    </tr>\n",
              "    <tr>\n",
              "      <th>1851562</th>\n",
              "      <td>BotDjulian</td>\n",
              "      <td>Djulian [Bot]</td>\n",
              "      <td>1085491108665163777</td>\n",
              "      <td>2019-01-16 10:57:02</td>\n",
              "      <td>/BotDjulian/status/1085491108665163777</td>\n",
              "      <td>3</td>\n",
              "      <td>0</td>\n",
              "      <td>4</td>\n",
              "      <td>MARKET BRAZIL CC SHOP [http://54ce5x7l4m3t2spm...</td>\n",
              "      <td>&lt;p class=\"TweetTextSize js-tweet-text tweet-te...</td>\n",
              "    </tr>\n",
              "  </tbody>\n",
              "</table>\n",
              "</div>"
            ],
            "text/plain": [
              "                   user  ...                                               html\n",
              "1851558    hanamoto7839  ...  <p class=\"TweetTextSize js-tweet-text tweet-te...\n",
              "1851559       skskwwwww  ...  <p class=\"TweetTextSize js-tweet-text tweet-te...\n",
              "1851560  BTC_shoshinsha  ...  <p class=\"TweetTextSize js-tweet-text tweet-te...\n",
              "1851561    HRleaderRich  ...  <p class=\"TweetTextSize js-tweet-text tweet-te...\n",
              "1851562      BotDjulian  ...  <p class=\"TweetTextSize js-tweet-text tweet-te...\n",
              "\n",
              "[5 rows x 10 columns]"
            ]
          },
          "metadata": {
            "tags": []
          },
          "execution_count": 14
        }
      ]
    },
    {
      "cell_type": "code",
      "metadata": {
        "id": "S-nQ0aKuMEZK",
        "colab_type": "code",
        "colab": {}
      },
      "source": [
        "tw.to_csv('/content/drive/My Drive/Colab Notebooks/preprocessed.csv')\n"
      ],
      "execution_count": 0,
      "outputs": []
    },
    {
      "cell_type": "code",
      "metadata": {
        "id": "gAqO57MOMcTm",
        "colab_type": "code",
        "outputId": "e027172b-4589-4b14-9b80-8975a05040ef",
        "colab": {
          "base_uri": "https://localhost:8080/",
          "height": 71
        }
      },
      "source": [
        "prepr_df = pd.read_csv('/content/drive/My Drive/Colab Notebooks/preprocessed.csv')"
      ],
      "execution_count": 0,
      "outputs": [
        {
          "output_type": "stream",
          "text": [
            "/usr/local/lib/python3.6/dist-packages/IPython/core/interactiveshell.py:2718: DtypeWarning: Columns (0,1,2,4,5,9,10) have mixed types. Specify dtype option on import or set low_memory=False.\n",
            "  interactivity=interactivity, compiler=compiler, result=result)\n"
          ],
          "name": "stderr"
        }
      ]
    },
    {
      "cell_type": "code",
      "metadata": {
        "id": "ROwz6kEbOiig",
        "colab_type": "code",
        "colab": {}
      },
      "source": [
        "prepr_df = prepr_df.loc[prepr_df['text']!='0']"
      ],
      "execution_count": 0,
      "outputs": []
    },
    {
      "cell_type": "code",
      "metadata": {
        "id": "qMmPCl1-Phhe",
        "colab_type": "code",
        "outputId": "27c3acfe-a7c4-4842-ce72-734383d02a19",
        "colab": {
          "base_uri": "https://localhost:8080/",
          "height": 204
        }
      },
      "source": [
        "prepr_df.head()"
      ],
      "execution_count": 0,
      "outputs": [
        {
          "output_type": "execute_result",
          "data": {
            "text/html": [
              "<div>\n",
              "<style scoped>\n",
              "    .dataframe tbody tr th:only-of-type {\n",
              "        vertical-align: middle;\n",
              "    }\n",
              "\n",
              "    .dataframe tbody tr th {\n",
              "        vertical-align: top;\n",
              "    }\n",
              "\n",
              "    .dataframe thead th {\n",
              "        text-align: right;\n",
              "    }\n",
              "</style>\n",
              "<table border=\"1\" class=\"dataframe\">\n",
              "  <thead>\n",
              "    <tr style=\"text-align: right;\">\n",
              "      <th></th>\n",
              "      <th>Unnamed: 0</th>\n",
              "      <th>timestamp</th>\n",
              "      <th>clean_tweets</th>\n",
              "    </tr>\n",
              "  </thead>\n",
              "  <tbody>\n",
              "    <tr>\n",
              "      <th>0</th>\n",
              "      <td>0</td>\n",
              "      <td>2016-06-25 23:59:52</td>\n",
              "      <td>Bitcoin: Pissed-off customers sue GAW Miners i...</td>\n",
              "    </tr>\n",
              "    <tr>\n",
              "      <th>1</th>\n",
              "      <td>1</td>\n",
              "      <td>2016-06-25 23:59:36</td>\n",
              "      <td>I'm not gone lie I be staring at pplwhat btc's...</td>\n",
              "    </tr>\n",
              "    <tr>\n",
              "      <th>2</th>\n",
              "      <td>2</td>\n",
              "      <td>2016-06-25 23:59:17</td>\n",
              "      <td>Did you miss Beyond Bitcoin Hangout? I CANNOT ...</td>\n",
              "    </tr>\n",
              "    <tr>\n",
              "      <th>3</th>\n",
              "      <td>3</td>\n",
              "      <td>2016-06-25 23:59:15</td>\n",
              "      <td>What are the merits and risks of investing in ...</td>\n",
              "    </tr>\n",
              "    <tr>\n",
              "      <th>4</th>\n",
              "      <td>4</td>\n",
              "      <td>2016-06-25 23:59:08</td>\n",
              "      <td>Hash Ocean #Bitcoin Cloud Mining №1 in the wor...</td>\n",
              "    </tr>\n",
              "  </tbody>\n",
              "</table>\n",
              "</div>"
            ],
            "text/plain": [
              "   Unnamed: 0  ...                                       clean_tweets\n",
              "0           0  ...  Bitcoin: Pissed-off customers sue GAW Miners i...\n",
              "1           1  ...  I'm not gone lie I be staring at pplwhat btc's...\n",
              "2           2  ...  Did you miss Beyond Bitcoin Hangout? I CANNOT ...\n",
              "3           3  ...  What are the merits and risks of investing in ...\n",
              "4           4  ...  Hash Ocean #Bitcoin Cloud Mining №1 in the wor...\n",
              "\n",
              "[5 rows x 3 columns]"
            ]
          },
          "metadata": {
            "tags": []
          },
          "execution_count": 109
        }
      ]
    },
    {
      "cell_type": "code",
      "metadata": {
        "id": "2sDiRcaNae4O",
        "colab_type": "code",
        "colab": {}
      },
      "source": [
        "prepr_df.to_csv('/content/drive/My Drive/Colab Notebooks/prepr.csv')"
      ],
      "execution_count": 0,
      "outputs": []
    },
    {
      "cell_type": "code",
      "metadata": {
        "id": "XOEgjV5Xagqn",
        "colab_type": "code",
        "colab": {}
      },
      "source": [
        "prepr_df = pd.read_csv('/content/drive/My Drive/Colab Notebooks/prepr.csv')"
      ],
      "execution_count": 0,
      "outputs": []
    },
    {
      "cell_type": "code",
      "metadata": {
        "id": "d7a-CK8gQkcb",
        "colab_type": "code",
        "colab": {}
      },
      "source": [
        "prepr_df=prepr_df[['timestamp','text']]"
      ],
      "execution_count": 0,
      "outputs": []
    },
    {
      "cell_type": "code",
      "metadata": {
        "id": "PzvFbyEQRlNK",
        "colab_type": "code",
        "outputId": "3ce7f2b2-c9c3-4231-b819-26b4e0b8fadf",
        "colab": {
          "base_uri": "https://localhost:8080/",
          "height": 204
        }
      },
      "source": [
        "prepr_df.head()"
      ],
      "execution_count": 0,
      "outputs": [
        {
          "output_type": "execute_result",
          "data": {
            "text/html": [
              "<div>\n",
              "<style scoped>\n",
              "    .dataframe tbody tr th:only-of-type {\n",
              "        vertical-align: middle;\n",
              "    }\n",
              "\n",
              "    .dataframe tbody tr th {\n",
              "        vertical-align: top;\n",
              "    }\n",
              "\n",
              "    .dataframe thead th {\n",
              "        text-align: right;\n",
              "    }\n",
              "</style>\n",
              "<table border=\"1\" class=\"dataframe\">\n",
              "  <thead>\n",
              "    <tr style=\"text-align: right;\">\n",
              "      <th></th>\n",
              "      <th>Unnamed: 0</th>\n",
              "      <th>timestamp</th>\n",
              "      <th>clean_tweets</th>\n",
              "    </tr>\n",
              "  </thead>\n",
              "  <tbody>\n",
              "    <tr>\n",
              "      <th>0</th>\n",
              "      <td>0</td>\n",
              "      <td>2016-06-25 23:59:52</td>\n",
              "      <td>Bitcoin: Pissed-off customers sue GAW Miners i...</td>\n",
              "    </tr>\n",
              "    <tr>\n",
              "      <th>1</th>\n",
              "      <td>1</td>\n",
              "      <td>2016-06-25 23:59:36</td>\n",
              "      <td>I'm not gone lie I be staring at pplwhat btc's...</td>\n",
              "    </tr>\n",
              "    <tr>\n",
              "      <th>2</th>\n",
              "      <td>2</td>\n",
              "      <td>2016-06-25 23:59:17</td>\n",
              "      <td>Did you miss Beyond Bitcoin Hangout? I CANNOT ...</td>\n",
              "    </tr>\n",
              "    <tr>\n",
              "      <th>3</th>\n",
              "      <td>3</td>\n",
              "      <td>2016-06-25 23:59:15</td>\n",
              "      <td>What are the merits and risks of investing in ...</td>\n",
              "    </tr>\n",
              "    <tr>\n",
              "      <th>4</th>\n",
              "      <td>4</td>\n",
              "      <td>2016-06-25 23:59:08</td>\n",
              "      <td>Hash Ocean #Bitcoin Cloud Mining №1 in the wor...</td>\n",
              "    </tr>\n",
              "  </tbody>\n",
              "</table>\n",
              "</div>"
            ],
            "text/plain": [
              "   Unnamed: 0  ...                                       clean_tweets\n",
              "0           0  ...  Bitcoin: Pissed-off customers sue GAW Miners i...\n",
              "1           1  ...  I'm not gone lie I be staring at pplwhat btc's...\n",
              "2           2  ...  Did you miss Beyond Bitcoin Hangout? I CANNOT ...\n",
              "3           3  ...  What are the merits and risks of investing in ...\n",
              "4           4  ...  Hash Ocean #Bitcoin Cloud Mining №1 in the wor...\n",
              "\n",
              "[5 rows x 3 columns]"
            ]
          },
          "metadata": {
            "tags": []
          },
          "execution_count": 110
        }
      ]
    },
    {
      "cell_type": "markdown",
      "metadata": {
        "id": "p1HzKqd23YkB",
        "colab_type": "text"
      },
      "source": [
        "## Preprocess the data"
      ]
    },
    {
      "cell_type": "markdown",
      "metadata": {
        "id": "p_XHH_506N2s",
        "colab_type": "text"
      },
      "source": [
        "### Loading train labeled dataset"
      ]
    },
    {
      "cell_type": "code",
      "metadata": {
        "id": "edcTW5bu6Me1",
        "colab_type": "code",
        "colab": {}
      },
      "source": [
        "labeled_df = pd.read_csv('/content/drive/My Drive/Colab Notebooks/bitcointweets.csv',header=None)"
      ],
      "execution_count": 0,
      "outputs": []
    },
    {
      "cell_type": "code",
      "metadata": {
        "id": "UVl5evNg6cdl",
        "colab_type": "code",
        "outputId": "9245cc19-fc4f-4e73-aff7-5818bb83c3f4",
        "colab": {
          "base_uri": "https://localhost:8080/",
          "height": 204
        }
      },
      "source": [
        "labeled_df.head()"
      ],
      "execution_count": 0,
      "outputs": [
        {
          "output_type": "execute_result",
          "data": {
            "text/html": [
              "<div>\n",
              "<style scoped>\n",
              "    .dataframe tbody tr th:only-of-type {\n",
              "        vertical-align: middle;\n",
              "    }\n",
              "\n",
              "    .dataframe tbody tr th {\n",
              "        vertical-align: top;\n",
              "    }\n",
              "\n",
              "    .dataframe thead th {\n",
              "        text-align: right;\n",
              "    }\n",
              "</style>\n",
              "<table border=\"1\" class=\"dataframe\">\n",
              "  <thead>\n",
              "    <tr style=\"text-align: right;\">\n",
              "      <th></th>\n",
              "      <th>0</th>\n",
              "      <th>1</th>\n",
              "      <th>2</th>\n",
              "      <th>3</th>\n",
              "      <th>4</th>\n",
              "      <th>5</th>\n",
              "      <th>6</th>\n",
              "      <th>7</th>\n",
              "    </tr>\n",
              "  </thead>\n",
              "  <tbody>\n",
              "    <tr>\n",
              "      <th>0</th>\n",
              "      <td>Fri Mar 23 00:40:32 +0000 2018</td>\n",
              "      <td>RT @ALXTOKEN: Paul Krugman, Nobel Luddite. I h...</td>\n",
              "      <td>myresumerocket</td>\n",
              "      <td>16522</td>\n",
              "      <td>0</td>\n",
              "      <td>[]</td>\n",
              "      <td>&lt;a href=\"http://twitter.com\" rel=\"nofollow\"&gt;Tw...</td>\n",
              "      <td>['neutral']</td>\n",
              "    </tr>\n",
              "    <tr>\n",
              "      <th>1</th>\n",
              "      <td>Fri Mar 23 00:40:34 +0000 2018</td>\n",
              "      <td>@lopp @_Kevin_Pham @psycho_sage @naval But @Pr...</td>\n",
              "      <td>BitMocro</td>\n",
              "      <td>1295</td>\n",
              "      <td>0</td>\n",
              "      <td>[u'Bitcoin']</td>\n",
              "      <td>&lt;a href=\"http://twitter.com/download/android\" ...</td>\n",
              "      <td>['neutral']</td>\n",
              "    </tr>\n",
              "    <tr>\n",
              "      <th>2</th>\n",
              "      <td>Fri Mar 23 00:40:35 +0000 2018</td>\n",
              "      <td>RT @tippereconomy: Another use case for #block...</td>\n",
              "      <td>hojachotopur</td>\n",
              "      <td>6090</td>\n",
              "      <td>0</td>\n",
              "      <td>[u'blockchain', u'Tipper', u'TipperEconomy']</td>\n",
              "      <td>&lt;a href=\"http://twitter.com\" rel=\"nofollow\"&gt;Tw...</td>\n",
              "      <td>['positive']</td>\n",
              "    </tr>\n",
              "    <tr>\n",
              "      <th>3</th>\n",
              "      <td>Fri Mar 23 00:40:36 +0000 2018</td>\n",
              "      <td>free coins https://t.co/DiuoePJdap</td>\n",
              "      <td>denies_distro</td>\n",
              "      <td>2626</td>\n",
              "      <td>0</td>\n",
              "      <td>[]</td>\n",
              "      <td>&lt;a href=\"http://twitter.com\" rel=\"nofollow\"&gt;Tw...</td>\n",
              "      <td>['positive']</td>\n",
              "    </tr>\n",
              "    <tr>\n",
              "      <th>4</th>\n",
              "      <td>Fri Mar 23 00:40:36 +0000 2018</td>\n",
              "      <td>RT @payvxofficial: WE are happy to announce th...</td>\n",
              "      <td>aditzgraha</td>\n",
              "      <td>184</td>\n",
              "      <td>0</td>\n",
              "      <td>[]</td>\n",
              "      <td>&lt;a href=\"http://twitter.com/download/android\" ...</td>\n",
              "      <td>['positive']</td>\n",
              "    </tr>\n",
              "  </tbody>\n",
              "</table>\n",
              "</div>"
            ],
            "text/plain": [
              "                                0  ...             7\n",
              "0  Fri Mar 23 00:40:32 +0000 2018  ...   ['neutral']\n",
              "1  Fri Mar 23 00:40:34 +0000 2018  ...   ['neutral']\n",
              "2  Fri Mar 23 00:40:35 +0000 2018  ...  ['positive']\n",
              "3  Fri Mar 23 00:40:36 +0000 2018  ...  ['positive']\n",
              "4  Fri Mar 23 00:40:36 +0000 2018  ...  ['positive']\n",
              "\n",
              "[5 rows x 8 columns]"
            ]
          },
          "metadata": {
            "tags": []
          },
          "execution_count": 9
        }
      ]
    },
    {
      "cell_type": "code",
      "metadata": {
        "id": "u6uy4adO6fbe",
        "colab_type": "code",
        "colab": {}
      },
      "source": [
        "labeled_df = labeled_df[[0,1,7]]\n",
        "labeled_df.columns = ['date','tweets','sentiment']"
      ],
      "execution_count": 0,
      "outputs": []
    },
    {
      "cell_type": "code",
      "metadata": {
        "id": "7Q8fCCB46zO6",
        "colab_type": "code",
        "outputId": "ab2c75c9-17d4-4cbc-c7f8-ec50b772f2b5",
        "colab": {
          "base_uri": "https://localhost:8080/",
          "height": 347
        }
      },
      "source": [
        "sns.countplot(labeled_df['sentiment'])\n",
        "labeled_df['sentiment'].value_counts(normalize=True) * 100"
      ],
      "execution_count": 0,
      "outputs": [
        {
          "output_type": "execute_result",
          "data": {
            "text/plain": [
              "['positive']    45.099196\n",
              "['neutral']     43.136908\n",
              "['negative']    11.763896\n",
              "Name: sentiment, dtype: float64"
            ]
          },
          "metadata": {
            "tags": []
          },
          "execution_count": 11
        },
        {
          "output_type": "display_data",
          "data": {
            "image/png": "[encoded data removed]",
            "text/plain": [
              "<Figure size 432x288 with 1 Axes>"
            ]
          },
          "metadata": {
            "tags": []
          }
        }
      ]
    },
    {
      "cell_type": "code",
      "metadata": {
        "id": "l6SQM1zu627a",
        "colab_type": "code",
        "colab": {}
      },
      "source": [
        "labeled_df['date'] = pd.to_datetime(labeled_df['date'])"
      ],
      "execution_count": 0,
      "outputs": []
    },
    {
      "cell_type": "code",
      "metadata": {
        "id": "NWFw0WfY65c3",
        "colab_type": "code",
        "colab": {}
      },
      "source": [
        "def clean_text(s):\n",
        "    s = re.sub(r'http\\S+', '', str(s))\n",
        "    s = re.sub('(RT|via)((?:\\\\b\\\\W*@\\\\w+)+)', ' ', str(s))\n",
        "    s = re.sub(r'@\\S+', '', str(s))\n",
        "    s = re.sub('&amp', ' ', str(s))\n",
        "    return s"
      ],
      "execution_count": 0,
      "outputs": []
    },
    {
      "cell_type": "code",
      "metadata": {
        "id": "pGndhIyo7AU4",
        "colab_type": "code",
        "colab": {}
      },
      "source": [
        "labeled_df['clean_tweets'] = labeled_df['tweets'].apply(clean_text)"
      ],
      "execution_count": 0,
      "outputs": []
    },
    {
      "cell_type": "code",
      "metadata": {
        "id": "iFXSTd8q7Bnb",
        "colab_type": "code",
        "colab": {}
      },
      "source": [
        "labeled_df.drop(['tweets'],axis=1, inplace=True)"
      ],
      "execution_count": 0,
      "outputs": []
    },
    {
      "cell_type": "code",
      "metadata": {
        "id": "zNGskzSU8yxi",
        "colab_type": "code",
        "outputId": "9fe6ad94-0d0e-4c6b-e6c3-69cf9c0fa7cb",
        "colab": {
          "base_uri": "https://localhost:8080/",
          "height": 68
        }
      },
      "source": [
        "nltk.download('stopwords')"
      ],
      "execution_count": 0,
      "outputs": [
        {
          "output_type": "stream",
          "text": [
            "[nltk_data] Downloading package stopwords to /root/nltk_data...\n",
            "[nltk_data]   Unzipping corpora/stopwords.zip.\n"
          ],
          "name": "stdout"
        },
        {
          "output_type": "execute_result",
          "data": {
            "text/plain": [
              "True"
            ]
          },
          "metadata": {
            "tags": []
          },
          "execution_count": 39
        }
      ]
    },
    {
      "cell_type": "code",
      "metadata": {
        "id": "aOftZbXy7C4l",
        "colab_type": "code",
        "outputId": "aba0d135-a13c-4fbf-8457-b2ec9cac6d38",
        "colab": {
          "base_uri": "https://localhost:8080/",
          "height": 366
        }
      },
      "source": [
        "text = labeled_df[\"clean_tweets\"].to_string()\n",
        "wordcloud = WordCloud(relative_scaling=0.5 , background_color='white',stopwords=set(stopwords.words('english'))).generate(text)\n",
        "plt.figure(figsize=(12,12))\n",
        "plt.imshow(wordcloud)\n",
        "plt.axis(\"off\")\n",
        "plt.show()"
      ],
      "execution_count": 0,
      "outputs": [
        {
          "output_type": "display_data",
          "data": {
            "image/png": "[encoded data removed]",
            "text/plain": [
              "<Figure size 864x864 with 1 Axes>"
            ]
          },
          "metadata": {
            "tags": []
          }
        }
      ]
    },
    {
      "cell_type": "markdown",
      "metadata": {
        "id": "o0X7YB1g844y",
        "colab_type": "text"
      },
      "source": [
        "### Train Test Split"
      ]
    },
    {
      "cell_type": "code",
      "metadata": {
        "id": "dUDjOITu87rx",
        "colab_type": "code",
        "outputId": "a8e5a456-54dd-4ccb-9723-5f04c15a9693",
        "colab": {
          "base_uri": "https://localhost:8080/",
          "height": 204
        }
      },
      "source": [
        "X = labeled_df[\"clean_tweets\"]\n",
        "y = pd.get_dummies(labeled_df[\"sentiment\"].values)\n",
        "y.head()"
      ],
      "execution_count": 0,
      "outputs": [
        {
          "output_type": "execute_result",
          "data": {
            "text/html": [
              "<div>\n",
              "<style scoped>\n",
              "    .dataframe tbody tr th:only-of-type {\n",
              "        vertical-align: middle;\n",
              "    }\n",
              "\n",
              "    .dataframe tbody tr th {\n",
              "        vertical-align: top;\n",
              "    }\n",
              "\n",
              "    .dataframe thead th {\n",
              "        text-align: right;\n",
              "    }\n",
              "</style>\n",
              "<table border=\"1\" class=\"dataframe\">\n",
              "  <thead>\n",
              "    <tr style=\"text-align: right;\">\n",
              "      <th></th>\n",
              "      <th>['negative']</th>\n",
              "      <th>['neutral']</th>\n",
              "      <th>['positive']</th>\n",
              "    </tr>\n",
              "  </thead>\n",
              "  <tbody>\n",
              "    <tr>\n",
              "      <th>0</th>\n",
              "      <td>0</td>\n",
              "      <td>1</td>\n",
              "      <td>0</td>\n",
              "    </tr>\n",
              "    <tr>\n",
              "      <th>1</th>\n",
              "      <td>0</td>\n",
              "      <td>1</td>\n",
              "      <td>0</td>\n",
              "    </tr>\n",
              "    <tr>\n",
              "      <th>2</th>\n",
              "      <td>0</td>\n",
              "      <td>0</td>\n",
              "      <td>1</td>\n",
              "    </tr>\n",
              "    <tr>\n",
              "      <th>3</th>\n",
              "      <td>0</td>\n",
              "      <td>0</td>\n",
              "      <td>1</td>\n",
              "    </tr>\n",
              "    <tr>\n",
              "      <th>4</th>\n",
              "      <td>0</td>\n",
              "      <td>0</td>\n",
              "      <td>1</td>\n",
              "    </tr>\n",
              "  </tbody>\n",
              "</table>\n",
              "</div>"
            ],
            "text/plain": [
              "   ['negative']  ['neutral']  ['positive']\n",
              "0             0            1             0\n",
              "1             0            1             0\n",
              "2             0            0             1\n",
              "3             0            0             1\n",
              "4             0            0             1"
            ]
          },
          "metadata": {
            "tags": []
          },
          "execution_count": 10
        }
      ]
    },
    {
      "cell_type": "code",
      "metadata": {
        "id": "jRrUiESM89vL",
        "colab_type": "code",
        "colab": {}
      },
      "source": [
        "y = np.array(y)\n",
        "num_classes = labeled_df[\"sentiment\"].nunique()"
      ],
      "execution_count": 0,
      "outputs": []
    },
    {
      "cell_type": "code",
      "metadata": {
        "id": "MTmzdkOT8__0",
        "colab_type": "code",
        "colab": {}
      },
      "source": [
        "X_train , X_test , y_train , y_test = train_test_split(X , y , test_size = 0.2 , random_state = 42)\n"
      ],
      "execution_count": 0,
      "outputs": []
    },
    {
      "cell_type": "code",
      "metadata": {
        "id": "w440NyZS9CGJ",
        "colab_type": "code",
        "outputId": "f7a0c148-10c5-4eac-efd7-59080ee75966",
        "colab": {
          "base_uri": "https://localhost:8080/",
          "height": 221
        }
      },
      "source": [
        "X_train"
      ],
      "execution_count": 0,
      "outputs": [
        {
          "output_type": "execute_result",
          "data": {
            "text/plain": [
              "28589    #cryptkeeper How much money can bitcoin miners...\n",
              "15363    You love your laptop, but its WiFi network ada...\n",
              "10609     : #Bitcoin #Satoshi #Earn_Money #cryptocurren...\n",
              "29157     : Here reporting from Blockchain  ; Bitcoin C...\n",
              "9683      : #Bitcoin #cryptocurrency  #Airdrop\\nNew Air...\n",
              "                               ...                        \n",
              "11284    TRON (TRX) Airdrop Free 352 USD\\n#airdrop #bou...\n",
              "44732     : We have been attending a lot of conferences...\n",
              "38158    Shocking, Secret Facts Part IIII  $btcusd #bit...\n",
              "860                                2) whispered.\\n#bitcoin\n",
              "15795     : Official Bitcoin Cloud #Airdrop 1\\n\\n\\n\\nLi...\n",
              "Name: clean_tweets, Length: 40687, dtype: object"
            ]
          },
          "metadata": {
            "tags": []
          },
          "execution_count": 19
        }
      ]
    },
    {
      "cell_type": "code",
      "metadata": {
        "id": "PlwnsrSH9DpJ",
        "colab_type": "code",
        "outputId": "b4bee82e-84a5-4b55-a044-1d3e244d5591",
        "colab": {
          "base_uri": "https://localhost:8080/",
          "height": 136
        }
      },
      "source": [
        "y_train"
      ],
      "execution_count": 0,
      "outputs": [
        {
          "output_type": "execute_result",
          "data": {
            "text/plain": [
              "array([[0, 0, 1],\n",
              "       [0, 0, 1],\n",
              "       [0, 0, 1],\n",
              "       ...,\n",
              "       [1, 0, 0],\n",
              "       [0, 1, 0],\n",
              "       [1, 0, 0]], dtype=uint8)"
            ]
          },
          "metadata": {
            "tags": []
          },
          "execution_count": 20
        }
      ]
    },
    {
      "cell_type": "markdown",
      "metadata": {
        "id": "hIy088gy9I_t",
        "colab_type": "text"
      },
      "source": [
        "### Tokenize the words"
      ]
    },
    {
      "cell_type": "code",
      "metadata": {
        "id": "8yjxivk69FSe",
        "colab_type": "code",
        "colab": {}
      },
      "source": [
        "max_features = 20000\n",
        "tokenizer = Tokenizer(num_words=max_features)\n",
        "tokenizer.fit_on_texts(list(X_train))\n",
        "X_train = tokenizer.texts_to_sequences(X_train)\n",
        "X_test = tokenizer.texts_to_sequences(X_test)"
      ],
      "execution_count": 0,
      "outputs": []
    },
    {
      "cell_type": "code",
      "metadata": {
        "id": "uDGUnBgy9Gib",
        "colab_type": "code",
        "outputId": "ba988526-a1f9-4fda-ec47-b545e62dce54",
        "colab": {
          "base_uri": "https://localhost:8080/",
          "height": 265
        }
      },
      "source": [
        "totalNumWords = [len(one_cleaned_tweet) for one_cleaned_tweet in X_train]\n",
        "plt.hist(totalNumWords,bins=30)\n",
        "plt.show()"
      ],
      "execution_count": 0,
      "outputs": [
        {
          "output_type": "display_data",
          "data": {
            "image/png": "[encoded data removed]",
            "text/plain": [
              "<Figure size 432x288 with 1 Axes>"
            ]
          },
          "metadata": {
            "tags": []
          }
        }
      ]
    },
    {
      "cell_type": "code",
      "metadata": {
        "id": "isJI4wfZ9Oi_",
        "colab_type": "code",
        "outputId": "31ed3182-51f6-4aad-ea15-a55980feeb64",
        "colab": {
          "base_uri": "https://localhost:8080/",
          "height": 34
        }
      },
      "source": [
        "max_words = max(totalNumWords)\n",
        "X_train = sequence.pad_sequences(X_train , maxlen = max_words)\n",
        "X_test = sequence.pad_sequences(X_test , maxlen = max_words)\n",
        "print(X_train.shape,X_test.shape)"
      ],
      "execution_count": 0,
      "outputs": [
        {
          "output_type": "stream",
          "text": [
            "(40687, 36) (10172, 36)\n"
          ],
          "name": "stdout"
        }
      ]
    },
    {
      "cell_type": "code",
      "metadata": {
        "id": "m9hR0kpz9QyV",
        "colab_type": "code",
        "colab": {}
      },
      "source": [
        ""
      ],
      "execution_count": 0,
      "outputs": []
    },
    {
      "cell_type": "markdown",
      "metadata": {
        "id": "2ZktNjq19TIs",
        "colab_type": "text"
      },
      "source": [
        "## Construct model"
      ]
    },
    {
      "cell_type": "markdown",
      "metadata": {
        "id": "HpuFauqBFBzD",
        "colab_type": "text"
      },
      "source": [
        "### Baseline model - Random Forest"
      ]
    },
    {
      "cell_type": "code",
      "metadata": {
        "id": "35K2aSyIGooV",
        "colab_type": "code",
        "colab": {}
      },
      "source": [
        "X_train, X_val, y_train, y_val = train_test_split(X_train,y_train , test_size=0.2, random_state=42)\n"
      ],
      "execution_count": 0,
      "outputs": []
    },
    {
      "cell_type": "code",
      "metadata": {
        "id": "YEthTKtOFFP9",
        "colab_type": "code",
        "outputId": "5e0a152b-9a81-4902-d55d-e5c7087128ac",
        "colab": {
          "base_uri": "https://localhost:8080/",
          "height": 51
        }
      },
      "source": [
        "random_forest = RandomForestClassifier(random_state=123)\n",
        "random_forest.fit(X_train,y_train)\n",
        "print(random_forest.score(X_train, y_train))\n",
        "print(random_forest.score(X_val, y_val))"
      ],
      "execution_count": 0,
      "outputs": [
        {
          "output_type": "stream",
          "text": [
            "0.9999078312697779\n",
            "0.8354632587859425\n"
          ],
          "name": "stdout"
        }
      ]
    },
    {
      "cell_type": "markdown",
      "metadata": {
        "id": "Qoia6hWrmM-K",
        "colab_type": "text"
      },
      "source": [
        "### GRU model"
      ]
    },
    {
      "cell_type": "code",
      "metadata": {
        "id": "-ALs8la4mLJc",
        "colab_type": "code",
        "colab": {}
      },
      "source": [
        "def get_model_gru(max_features , embed_dim):\n",
        "    np.random.seed(42)\n",
        "    K.clear_session()\n",
        "    model = Sequential()\n",
        "    model.add(Embedding(max_features , embed_dim , input_length=X_train.shape[1]))\n",
        "    model.add(GRU(100 , dropout=0.2 , recurrent_dropout=0.2))\n",
        "    model.add(Dense(num_classes , activation='softmax'))\n",
        "    model.compile(loss = 'categorical_crossentropy' , optimizer = 'adam' , metrics = ['accuracy'])\n",
        "    print(model.summary())\n",
        "    return model"
      ],
      "execution_count": 0,
      "outputs": []
    },
    {
      "cell_type": "code",
      "metadata": {
        "id": "kxSd3UK0rh7f",
        "colab_type": "code",
        "outputId": "eb5a402e-83bd-4192-e937-eeddd2556e50",
        "colab": {
          "base_uri": "https://localhost:8080/",
          "height": 1000
        }
      },
      "source": [
        "max_features = 20000\n",
        "embed_dim =100\n",
        "gru_model = get_model_gru(max_features,embed_dim)\n",
        "model_train(gru_model)"
      ],
      "execution_count": 0,
      "outputs": [
        {
          "output_type": "stream",
          "text": [
            "WARNING:tensorflow:From /usr/local/lib/python3.6/dist-packages/keras/backend/tensorflow_backend.py:107: The name tf.reset_default_graph is deprecated. Please use tf.compat.v1.reset_default_graph instead.\n",
            "\n",
            "WARNING:tensorflow:From /usr/local/lib/python3.6/dist-packages/keras/backend/tensorflow_backend.py:111: The name tf.placeholder_with_default is deprecated. Please use tf.compat.v1.placeholder_with_default instead.\n",
            "\n",
            "WARNING:tensorflow:From /usr/local/lib/python3.6/dist-packages/keras/backend/tensorflow_backend.py:66: The name tf.get_default_graph is deprecated. Please use tf.compat.v1.get_default_graph instead.\n",
            "\n",
            "WARNING:tensorflow:From /usr/local/lib/python3.6/dist-packages/keras/backend/tensorflow_backend.py:541: The name tf.placeholder is deprecated. Please use tf.compat.v1.placeholder instead.\n",
            "\n",
            "WARNING:tensorflow:From /usr/local/lib/python3.6/dist-packages/keras/backend/tensorflow_backend.py:4432: The name tf.random_uniform is deprecated. Please use tf.random.uniform instead.\n",
            "\n",
            "WARNING:tensorflow:From /usr/local/lib/python3.6/dist-packages/keras/backend/tensorflow_backend.py:3733: calling dropout (from tensorflow.python.ops.nn_ops) with keep_prob is deprecated and will be removed in a future version.\n",
            "Instructions for updating:\n",
            "Please use `rate` instead of `keep_prob`. Rate should be set to `rate = 1 - keep_prob`.\n",
            "WARNING:tensorflow:From /usr/local/lib/python3.6/dist-packages/keras/optimizers.py:793: The name tf.train.Optimizer is deprecated. Please use tf.compat.v1.train.Optimizer instead.\n",
            "\n",
            "WARNING:tensorflow:From /usr/local/lib/python3.6/dist-packages/keras/backend/tensorflow_backend.py:3576: The name tf.log is deprecated. Please use tf.math.log instead.\n",
            "\n",
            "Model: \"sequential_1\"\n",
            "_________________________________________________________________\n",
            "Layer (type)                 Output Shape              Param #   \n",
            "=================================================================\n",
            "embedding_1 (Embedding)      (None, 36, 100)           2000000   \n",
            "_________________________________________________________________\n",
            "gru_1 (GRU)                  (None, 100)               60300     \n",
            "_________________________________________________________________\n",
            "dense_1 (Dense)              (None, 3)                 303       \n",
            "=================================================================\n",
            "Total params: 2,060,603\n",
            "Trainable params: 2,060,603\n",
            "Non-trainable params: 0\n",
            "_________________________________________________________________\n",
            "None\n",
            "WARNING:tensorflow:From /usr/local/lib/python3.6/dist-packages/tensorflow_core/python/ops/math_grad.py:1424: where (from tensorflow.python.ops.array_ops) is deprecated and will be removed in a future version.\n",
            "Instructions for updating:\n",
            "Use tf.where in 2.0, which has the same broadcast rule as np.where\n",
            "WARNING:tensorflow:From /usr/local/lib/python3.6/dist-packages/keras/backend/tensorflow_backend.py:1033: The name tf.assign_add is deprecated. Please use tf.compat.v1.assign_add instead.\n",
            "\n",
            "WARNING:tensorflow:From /usr/local/lib/python3.6/dist-packages/keras/backend/tensorflow_backend.py:1020: The name tf.assign is deprecated. Please use tf.compat.v1.assign instead.\n",
            "\n",
            "WARNING:tensorflow:From /usr/local/lib/python3.6/dist-packages/keras/backend/tensorflow_backend.py:3005: The name tf.Session is deprecated. Please use tf.compat.v1.Session instead.\n",
            "\n",
            "Train on 40687 samples, validate on 10172 samples\n",
            "Epoch 1/3\n",
            "WARNING:tensorflow:From /usr/local/lib/python3.6/dist-packages/keras/backend/tensorflow_backend.py:190: The name tf.get_default_session is deprecated. Please use tf.compat.v1.get_default_session instead.\n",
            "\n",
            "WARNING:tensorflow:From /usr/local/lib/python3.6/dist-packages/keras/backend/tensorflow_backend.py:197: The name tf.ConfigProto is deprecated. Please use tf.compat.v1.ConfigProto instead.\n",
            "\n",
            "WARNING:tensorflow:From /usr/local/lib/python3.6/dist-packages/keras/backend/tensorflow_backend.py:207: The name tf.global_variables is deprecated. Please use tf.compat.v1.global_variables instead.\n",
            "\n",
            "WARNING:tensorflow:From /usr/local/lib/python3.6/dist-packages/keras/backend/tensorflow_backend.py:216: The name tf.is_variable_initialized is deprecated. Please use tf.compat.v1.is_variable_initialized instead.\n",
            "\n",
            "WARNING:tensorflow:From /usr/local/lib/python3.6/dist-packages/keras/backend/tensorflow_backend.py:223: The name tf.variables_initializer is deprecated. Please use tf.compat.v1.variables_initializer instead.\n",
            "\n",
            " - 27s - loss: 0.3181 - acc: 0.8810 - val_loss: 0.1046 - val_acc: 0.9696\n",
            "Epoch 2/3\n",
            " - 17s - loss: 0.0596 - acc: 0.9836 - val_loss: 0.0916 - val_acc: 0.9747\n",
            "Epoch 3/3\n",
            " - 17s - loss: 0.0275 - acc: 0.9926 - val_loss: 0.0822 - val_acc: 0.9792\n"
          ],
          "name": "stdout"
        },
        {
          "output_type": "execute_result",
          "data": {
            "text/plain": [
              "<keras.callbacks.History at 0x7f0877100cf8>"
            ]
          },
          "metadata": {
            "tags": []
          },
          "execution_count": 21
        }
      ]
    },
    {
      "cell_type": "markdown",
      "metadata": {
        "id": "NaGWg-OZG1Oc",
        "colab_type": "text"
      },
      "source": [
        "### LSTM model"
      ]
    },
    {
      "cell_type": "code",
      "metadata": {
        "id": "EQaJsDsn9WEQ",
        "colab_type": "code",
        "colab": {}
      },
      "source": [
        "batch_size = 128\n",
        "epochs = 3"
      ],
      "execution_count": 0,
      "outputs": []
    },
    {
      "cell_type": "code",
      "metadata": {
        "id": "8GQ1KpyQ9czK",
        "colab_type": "code",
        "colab": {}
      },
      "source": [
        "def get_model(max_features , embed_dim):\n",
        "    np.random.seed(42)\n",
        "    K.clear_session()\n",
        "    model = Sequential()\n",
        "    model.add(Embedding(max_features , embed_dim , input_length=X_train.shape[1]))\n",
        "    model.add(LSTM(100 , dropout=0.2 , recurrent_dropout=0.2))\n",
        "    model.add(Dense(num_classes , activation='softmax'))\n",
        "    model.compile(loss = 'categorical_crossentropy' , optimizer = 'adam' , metrics = ['accuracy'])\n",
        "    print(model.summary())\n",
        "    return model"
      ],
      "execution_count": 0,
      "outputs": []
    },
    {
      "cell_type": "code",
      "metadata": {
        "id": "MCWfEPfN9epk",
        "colab_type": "code",
        "colab": {}
      },
      "source": [
        "def model_train(model):\n",
        "    #training the model\n",
        "    model_history = model.fit(X_train , y_train , validation_data = (X_test , y_test), \n",
        "                              epochs = epochs ,batch_size= batch_size,verbose = 2)\n",
        "    return model_history"
      ],
      "execution_count": 0,
      "outputs": []
    },
    {
      "cell_type": "code",
      "metadata": {
        "id": "7O06jcBt9ga7",
        "colab_type": "code",
        "colab": {}
      },
      "source": [
        ""
      ],
      "execution_count": 0,
      "outputs": []
    },
    {
      "cell_type": "code",
      "metadata": {
        "id": "Ym2Dc6cD9h-P",
        "colab_type": "code",
        "outputId": "e00fe22a-2fdb-4ab4-c93b-60318464e457",
        "colab": {
          "base_uri": "https://localhost:8080/",
          "height": 408
        }
      },
      "source": [
        "max_features = 20000\n",
        "embed_dim =100\n",
        "lstm_model = get_model(max_features,embed_dim)\n",
        "lstm_model_train(model)"
      ],
      "execution_count": 0,
      "outputs": [
        {
          "output_type": "stream",
          "text": [
            "Model: \"sequential_1\"\n",
            "_________________________________________________________________\n",
            "Layer (type)                 Output Shape              Param #   \n",
            "=================================================================\n",
            "embedding_1 (Embedding)      (None, 36, 100)           2000000   \n",
            "_________________________________________________________________\n",
            "lstm_1 (LSTM)                (None, 100)               80400     \n",
            "_________________________________________________________________\n",
            "dense_1 (Dense)              (None, 3)                 303       \n",
            "=================================================================\n",
            "Total params: 2,080,703\n",
            "Trainable params: 2,080,703\n",
            "Non-trainable params: 0\n",
            "_________________________________________________________________\n",
            "None\n",
            "Train on 32549 samples, validate on 10172 samples\n",
            "Epoch 1/3\n",
            " - 38s - loss: 0.3843 - acc: 0.8500 - val_loss: 0.1341 - val_acc: 0.9569\n",
            "Epoch 2/3\n",
            " - 36s - loss: 0.0726 - acc: 0.9791 - val_loss: 0.0962 - val_acc: 0.9714\n",
            "Epoch 3/3\n",
            " - 36s - loss: 0.0297 - acc: 0.9918 - val_loss: 0.1080 - val_acc: 0.9729\n"
          ],
          "name": "stdout"
        },
        {
          "output_type": "execute_result",
          "data": {
            "text/plain": [
              "<keras.callbacks.History at 0x7fa4f6fac470>"
            ]
          },
          "metadata": {
            "tags": []
          },
          "execution_count": 96
        }
      ]
    },
    {
      "cell_type": "markdown",
      "metadata": {
        "id": "RKxCzBpCuP0W",
        "colab_type": "text"
      },
      "source": [
        "### Evaluate on test dataset"
      ]
    },
    {
      "cell_type": "code",
      "metadata": {
        "id": "JxvBEW0OuV9W",
        "colab_type": "code",
        "colab": {}
      },
      "source": [
        "def model_evaluate(model):\n",
        "    #predict classes with test set\n",
        "    y_pred_test = model.predict_classes(X_test , batch_size = batch_size, verbose =0)\n",
        "    print(\"Predicted \", y_pred_test)\n",
        "    print(\"True \" , np.argmax(y_test,axis = 1))\n",
        "    print('Accuracy:\\t{:0.1f}%'.format(accuracy_score(np.argmax(y_test,axis = 1),y_pred_test)*100))\n",
        "    \n",
        "    #Classification Report\n",
        "    print(\"\\n\")\n",
        "    print(classification_report(np.argmax(y_test, axis =1),y_pred_test))\n",
        "    \n",
        "    #Confusion Matrix\n",
        "    confmat = confusion_matrix(np.argmax(y_test , axis = 1), y_pred_test)\n",
        "    fig , ax = plt.subplots(figsize=(4,4))\n",
        "    ax.matshow(confmat , cmap =plt.cm.Blues , alpha = 0.3)\n",
        "    \n",
        "    for i in range(confmat.shape[0]):\n",
        "        for j in range(confmat.shape[1]):\n",
        "            ax.text( x = j , y = i , s =confmat[i,j] , va = 'center' , ha = 'center')\n",
        "    \n",
        "    plt.xlabel(\"Predicted Label\")\n",
        "    plt.ylabel(\"True Label\")\n",
        "    plt.tight_layout()"
      ],
      "execution_count": 0,
      "outputs": []
    },
    {
      "cell_type": "code",
      "metadata": {
        "id": "JoVwuSuAuaEo",
        "colab_type": "code",
        "outputId": "ce6bdf96-0b24-42e8-8767-e9ee9a1d9922",
        "colab": {
          "base_uri": "https://localhost:8080/",
          "height": 552
        }
      },
      "source": [
        "model_evaluate(gru_model)"
      ],
      "execution_count": 0,
      "outputs": [
        {
          "output_type": "stream",
          "text": [
            "Predicted  [0 0 1 ... 1 0 2]\n",
            "True  [0 0 1 ... 1 0 2]\n",
            "Accuracy:\t97.6%\n",
            "\n",
            "\n",
            "              precision    recall  f1-score   support\n",
            "\n",
            "           0       0.94      0.93      0.94      1164\n",
            "           1       0.98      0.98      0.98      4345\n",
            "           2       0.98      0.98      0.98      4663\n",
            "\n",
            "    accuracy                           0.98     10172\n",
            "   macro avg       0.97      0.96      0.97     10172\n",
            "weighted avg       0.98      0.98      0.98     10172\n",
            "\n"
          ],
          "name": "stdout"
        },
        {
          "output_type": "display_data",
          "data": {
            "image/png": "[encoded data removed]",
            "text/plain": [
              "<Figure size 288x288 with 1 Axes>"
            ]
          },
          "metadata": {
            "tags": []
          }
        }
      ]
    },
    {
      "cell_type": "markdown",
      "metadata": {
        "id": "LQZL7gcI-U6i",
        "colab_type": "text"
      },
      "source": [
        "### Store model"
      ]
    },
    {
      "cell_type": "code",
      "metadata": {
        "id": "10SjOD2k-GWL",
        "colab_type": "code",
        "colab": {}
      },
      "source": [
        "pickle.dump(gru_model, open(\"/content/drive/My Drive/Colab Notebooks/gru_model_v1.p\", \"wb\"))"
      ],
      "execution_count": 0,
      "outputs": []
    },
    {
      "cell_type": "markdown",
      "metadata": {
        "id": "-aMEayhIUbR9",
        "colab_type": "text"
      },
      "source": [
        "## Playground: Pre-trained NLTK model"
      ]
    },
    {
      "cell_type": "code",
      "metadata": {
        "id": "FOgmJf_xUdNp",
        "colab_type": "code",
        "outputId": "2da3de41-7fea-4b15-c750-dbbeeca00792",
        "colab": {
          "base_uri": "https://localhost:8080/",
          "height": 88
        }
      },
      "source": [
        "nltk.download('vader_lexicon')\n",
        "from nltk.sentiment.vader import SentimentIntensityAnalyzer\n"
      ],
      "execution_count": 0,
      "outputs": [
        {
          "output_type": "stream",
          "text": [
            "[nltk_data] Downloading package vader_lexicon to /root/nltk_data...\n"
          ],
          "name": "stdout"
        },
        {
          "output_type": "stream",
          "text": [
            "/usr/local/lib/python3.6/dist-packages/nltk/twitter/__init__.py:20: UserWarning: The twython library has not been installed. Some functionality from the twitter package will not be available.\n",
            "  warnings.warn(\"The twython library has not been installed. \"\n"
          ],
          "name": "stderr"
        }
      ]
    },
    {
      "cell_type": "code",
      "metadata": {
        "id": "deen8ou-bGXC",
        "colab_type": "code",
        "outputId": "8141176c-2828-474f-be71-035256a22229",
        "colab": {
          "base_uri": "https://localhost:8080/",
          "height": 419
        }
      },
      "source": [
        "prepr_df"
      ],
      "execution_count": 0,
      "outputs": [
        {
          "output_type": "execute_result",
          "data": {
            "text/html": [
              "<div>\n",
              "<style scoped>\n",
              "    .dataframe tbody tr th:only-of-type {\n",
              "        vertical-align: middle;\n",
              "    }\n",
              "\n",
              "    .dataframe tbody tr th {\n",
              "        vertical-align: top;\n",
              "    }\n",
              "\n",
              "    .dataframe thead th {\n",
              "        text-align: right;\n",
              "    }\n",
              "</style>\n",
              "<table border=\"1\" class=\"dataframe\">\n",
              "  <thead>\n",
              "    <tr style=\"text-align: right;\">\n",
              "      <th></th>\n",
              "      <th>Unnamed: 0</th>\n",
              "      <th>timestamp</th>\n",
              "      <th>clean_tweets</th>\n",
              "    </tr>\n",
              "  </thead>\n",
              "  <tbody>\n",
              "    <tr>\n",
              "      <th>0</th>\n",
              "      <td>0</td>\n",
              "      <td>2016-06-25 23:59:52</td>\n",
              "      <td>Bitcoin: Pissed-off customers sue GAW Miners i...</td>\n",
              "    </tr>\n",
              "    <tr>\n",
              "      <th>1</th>\n",
              "      <td>1</td>\n",
              "      <td>2016-06-25 23:59:36</td>\n",
              "      <td>I'm not gone lie I be staring at pplwhat btc's...</td>\n",
              "    </tr>\n",
              "    <tr>\n",
              "      <th>2</th>\n",
              "      <td>2</td>\n",
              "      <td>2016-06-25 23:59:17</td>\n",
              "      <td>Did you miss Beyond Bitcoin Hangout? I CANNOT ...</td>\n",
              "    </tr>\n",
              "    <tr>\n",
              "      <th>3</th>\n",
              "      <td>3</td>\n",
              "      <td>2016-06-25 23:59:15</td>\n",
              "      <td>What are the merits and risks of investing in ...</td>\n",
              "    </tr>\n",
              "    <tr>\n",
              "      <th>4</th>\n",
              "      <td>4</td>\n",
              "      <td>2016-06-25 23:59:08</td>\n",
              "      <td>Hash Ocean #Bitcoin Cloud Mining №1 in the wor...</td>\n",
              "    </tr>\n",
              "    <tr>\n",
              "      <th>...</th>\n",
              "      <td>...</td>\n",
              "      <td>...</td>\n",
              "      <td>...</td>\n",
              "    </tr>\n",
              "    <tr>\n",
              "      <th>3294884</th>\n",
              "      <td>3707951</td>\n",
              "      <td>2019-01-16 10:57:11</td>\n",
              "      <td>What the #Bitcoin #Pizza is worth today! …</td>\n",
              "    </tr>\n",
              "    <tr>\n",
              "      <th>3294885</th>\n",
              "      <td>3707952</td>\n",
              "      <td>2019-01-16 10:57:11</td>\n",
              "      <td>Bankrupt Bitcoin Miner Giga Watt Forced to Cea...</td>\n",
              "    </tr>\n",
              "    <tr>\n",
              "      <th>3294886</th>\n",
              "      <td>3707953</td>\n",
              "      <td>2019-01-16 10:57:11</td>\n",
              "      <td>#crypto #bitcoin #blockchain …</td>\n",
              "    </tr>\n",
              "    <tr>\n",
              "      <th>3294887</th>\n",
              "      <td>3707957</td>\n",
              "      <td>2019-01-16 10:57:03</td>\n",
              "      <td>\"Bitcoin - A method of secure transactions bas...</td>\n",
              "    </tr>\n",
              "    <tr>\n",
              "      <th>3294888</th>\n",
              "      <td>3707958</td>\n",
              "      <td>2019-01-16 10:57:02</td>\n",
              "      <td>MARKET BRAZIL CC SHOP [ ] | transactions = 98 ...</td>\n",
              "    </tr>\n",
              "  </tbody>\n",
              "</table>\n",
              "<p>3294889 rows × 3 columns</p>\n",
              "</div>"
            ],
            "text/plain": [
              "         Unnamed: 0  ...                                       clean_tweets\n",
              "0                 0  ...  Bitcoin: Pissed-off customers sue GAW Miners i...\n",
              "1                 1  ...  I'm not gone lie I be staring at pplwhat btc's...\n",
              "2                 2  ...  Did you miss Beyond Bitcoin Hangout? I CANNOT ...\n",
              "3                 3  ...  What are the merits and risks of investing in ...\n",
              "4                 4  ...  Hash Ocean #Bitcoin Cloud Mining №1 in the wor...\n",
              "...             ...  ...                                                ...\n",
              "3294884     3707951  ...         What the #Bitcoin #Pizza is worth today! …\n",
              "3294885     3707952  ...  Bankrupt Bitcoin Miner Giga Watt Forced to Cea...\n",
              "3294886     3707953  ...                     #crypto #bitcoin #blockchain …\n",
              "3294887     3707957  ...  \"Bitcoin - A method of secure transactions bas...\n",
              "3294888     3707958  ...  MARKET BRAZIL CC SHOP [ ] | transactions = 98 ...\n",
              "\n",
              "[3294889 rows x 3 columns]"
            ]
          },
          "metadata": {
            "tags": []
          },
          "execution_count": 31
        }
      ]
    },
    {
      "cell_type": "code",
      "metadata": {
        "id": "n2Zb_2nzVaO7",
        "colab_type": "code",
        "colab": {}
      },
      "source": [
        "sid = SentimentIntensityAnalyzer()\n",
        "sentiment_score = sid.polarity_scores(labeled_df['clean_tweets'][1])"
      ],
      "execution_count": 0,
      "outputs": []
    },
    {
      "cell_type": "code",
      "metadata": {
        "id": "niSAIawObOpZ",
        "colab_type": "code",
        "outputId": "c41a3796-9ee9-4992-d6f9-c1a2494cd977",
        "colab": {
          "base_uri": "https://localhost:8080/",
          "height": 34
        }
      },
      "source": [
        "sentiment_score"
      ],
      "execution_count": 0,
      "outputs": [
        {
          "output_type": "execute_result",
          "data": {
            "text/plain": [
              "{'compound': 0.0, 'neg': 0.0, 'neu': 1.0, 'pos': 0.0}"
            ]
          },
          "metadata": {
            "tags": []
          },
          "execution_count": 33
        }
      ]
    },
    {
      "cell_type": "code",
      "metadata": {
        "id": "GtgvTfbJe772",
        "colab_type": "code",
        "outputId": "06148a21-2b7c-41c7-b075-64a812fc4387",
        "colab": {
          "base_uri": "https://localhost:8080/",
          "height": 68
        }
      },
      "source": [
        "%time   #to calulate the time it takes the algorithm to compute a VADER score\n",
        "i=0 #counter\n",
        "compval1 = [ ]  #empty list to hold our computed 'compound' VADER scores\n",
        "while (i<len(labeled_df)):\n",
        "\n",
        "    k = sid.polarity_scores(labeled_df.iloc[i]['clean_tweets'])\n",
        "    compval1.append(k['compound'])    \n",
        "    i = i+1   \n",
        "#converting sentiment values to numpy for easier usage\n",
        "compval1 = np.array(compval1)\n",
        "len(compval1)"
      ],
      "execution_count": 0,
      "outputs": [
        {
          "output_type": "stream",
          "text": [
            "CPU times: user 4 µs, sys: 0 ns, total: 4 µs\n",
            "Wall time: 7.39 µs\n"
          ],
          "name": "stdout"
        },
        {
          "output_type": "execute_result",
          "data": {
            "text/plain": [
              "50859"
            ]
          },
          "metadata": {
            "tags": []
          },
          "execution_count": 44
        }
      ]
    },
    {
      "cell_type": "code",
      "metadata": {
        "id": "2Lp9SCD9fXaB",
        "colab_type": "code",
        "colab": {}
      },
      "source": [
        "labeled_df['VADER_score'] = compval1"
      ],
      "execution_count": 0,
      "outputs": []
    },
    {
      "cell_type": "code",
      "metadata": {
        "id": "IePwPRlXffCF",
        "colab_type": "code",
        "outputId": "f1b05b80-61a3-47f7-af6b-cde4472f5266",
        "colab": {
          "base_uri": "https://localhost:8080/",
          "height": 204
        }
      },
      "source": [
        "labeled_df.head()"
      ],
      "execution_count": 0,
      "outputs": [
        {
          "output_type": "execute_result",
          "data": {
            "text/html": [
              "<div>\n",
              "<style scoped>\n",
              "    .dataframe tbody tr th:only-of-type {\n",
              "        vertical-align: middle;\n",
              "    }\n",
              "\n",
              "    .dataframe tbody tr th {\n",
              "        vertical-align: top;\n",
              "    }\n",
              "\n",
              "    .dataframe thead th {\n",
              "        text-align: right;\n",
              "    }\n",
              "</style>\n",
              "<table border=\"1\" class=\"dataframe\">\n",
              "  <thead>\n",
              "    <tr style=\"text-align: right;\">\n",
              "      <th></th>\n",
              "      <th>date</th>\n",
              "      <th>sentiment</th>\n",
              "      <th>clean_tweets</th>\n",
              "      <th>VADER_score</th>\n",
              "    </tr>\n",
              "  </thead>\n",
              "  <tbody>\n",
              "    <tr>\n",
              "      <th>0</th>\n",
              "      <td>2018-03-23 00:40:32+00:00</td>\n",
              "      <td>['neutral']</td>\n",
              "      <td>: Paul Krugman, Nobel Luddite. I had to tweak...</td>\n",
              "      <td>-0.6808</td>\n",
              "    </tr>\n",
              "    <tr>\n",
              "      <th>1</th>\n",
              "      <td>2018-03-23 00:40:34+00:00</td>\n",
              "      <td>['neutral']</td>\n",
              "      <td>But  (dum b a ss) said you know nothing ab...</td>\n",
              "      <td>0.0000</td>\n",
              "    </tr>\n",
              "    <tr>\n",
              "      <th>2</th>\n",
              "      <td>2018-03-23 00:40:35+00:00</td>\n",
              "      <td>['positive']</td>\n",
              "      <td>: Another use case for #blockchain and #Tippe...</td>\n",
              "      <td>0.0000</td>\n",
              "    </tr>\n",
              "    <tr>\n",
              "      <th>3</th>\n",
              "      <td>2018-03-23 00:40:36+00:00</td>\n",
              "      <td>['positive']</td>\n",
              "      <td>free coins</td>\n",
              "      <td>0.5106</td>\n",
              "    </tr>\n",
              "    <tr>\n",
              "      <th>4</th>\n",
              "      <td>2018-03-23 00:40:36+00:00</td>\n",
              "      <td>['positive']</td>\n",
              "      <td>: WE are happy to announce that PayVX Presale...</td>\n",
              "      <td>0.6114</td>\n",
              "    </tr>\n",
              "  </tbody>\n",
              "</table>\n",
              "</div>"
            ],
            "text/plain": [
              "                       date  ... VADER_score\n",
              "0 2018-03-23 00:40:32+00:00  ...     -0.6808\n",
              "1 2018-03-23 00:40:34+00:00  ...      0.0000\n",
              "2 2018-03-23 00:40:35+00:00  ...      0.0000\n",
              "3 2018-03-23 00:40:36+00:00  ...      0.5106\n",
              "4 2018-03-23 00:40:36+00:00  ...      0.6114\n",
              "\n",
              "[5 rows x 4 columns]"
            ]
          },
          "metadata": {
            "tags": []
          },
          "execution_count": 46
        }
      ]
    },
    {
      "cell_type": "code",
      "metadata": {
        "id": "T7SjeTDbfku4",
        "colab_type": "code",
        "outputId": "79bf2ce5-e9a0-4d1f-8ad7-a1e23c686d57",
        "colab": {
          "base_uri": "https://localhost:8080/",
          "height": 51
        }
      },
      "source": [
        "%time\n",
        "#Assigning score categories and logic\n",
        "i = 0\n",
        "predicted_value = [ ] #empty series to hold our predicted values\n",
        "while(i<len(labeled_df)):\n",
        "    if ((labeled_df.iloc[i]['VADER_score'] >= 0.2)):\n",
        "        predicted_value.append('positive')\n",
        "        i = i+1\n",
        "    elif ((labeled_df.iloc[i]['VADER_score'] >= -0.5) & (labeled_df.iloc[i]['VADER_score'] < 0.2)):\n",
        "        predicted_value.append('neutral')\n",
        "        i = i+1\n",
        "    else:\n",
        "        predicted_value.append('negative')\n",
        "        i = i+1"
      ],
      "execution_count": 0,
      "outputs": [
        {
          "output_type": "stream",
          "text": [
            "CPU times: user 3 µs, sys: 0 ns, total: 3 µs\n",
            "Wall time: 5.48 µs\n"
          ],
          "name": "stdout"
        }
      ]
    },
    {
      "cell_type": "code",
      "metadata": {
        "id": "cSFkfBB9f6OA",
        "colab_type": "code",
        "colab": {}
      },
      "source": [
        "labeled_df['predicted_sentiment'] = predicted_value"
      ],
      "execution_count": 0,
      "outputs": []
    },
    {
      "cell_type": "code",
      "metadata": {
        "id": "eZR7jgdEgEfG",
        "colab_type": "code",
        "outputId": "c77edee2-7749-4e4f-f18c-37c7d81794a1",
        "colab": {
          "base_uri": "https://localhost:8080/",
          "height": 1000
        }
      },
      "source": [
        "labeled_df.tail(50)"
      ],
      "execution_count": 0,
      "outputs": [
        {
          "output_type": "execute_result",
          "data": {
            "text/html": [
              "<div>\n",
              "<style scoped>\n",
              "    .dataframe tbody tr th:only-of-type {\n",
              "        vertical-align: middle;\n",
              "    }\n",
              "\n",
              "    .dataframe tbody tr th {\n",
              "        vertical-align: top;\n",
              "    }\n",
              "\n",
              "    .dataframe thead th {\n",
              "        text-align: right;\n",
              "    }\n",
              "</style>\n",
              "<table border=\"1\" class=\"dataframe\">\n",
              "  <thead>\n",
              "    <tr style=\"text-align: right;\">\n",
              "      <th></th>\n",
              "      <th>date</th>\n",
              "      <th>sentiment</th>\n",
              "      <th>clean_tweets</th>\n",
              "      <th>VADER_score</th>\n",
              "      <th>predicted_sentiment</th>\n",
              "    </tr>\n",
              "  </thead>\n",
              "  <tbody>\n",
              "    <tr>\n",
              "      <th>50809</th>\n",
              "      <td>2018-03-23 08:54:56+00:00</td>\n",
              "      <td>['positive']</td>\n",
              "      <td>: Great news! Aeron Pilot application now in ...</td>\n",
              "      <td>0.6588</td>\n",
              "      <td>positive</td>\n",
              "    </tr>\n",
              "    <tr>\n",
              "      <th>50810</th>\n",
              "      <td>2018-03-23 08:54:58+00:00</td>\n",
              "      <td>['positive']</td>\n",
              "      <td>: Here reporting from Blockchain  ; Bitcoin C...</td>\n",
              "      <td>0.8977</td>\n",
              "      <td>positive</td>\n",
              "    </tr>\n",
              "    <tr>\n",
              "      <th>50811</th>\n",
              "      <td>2018-03-23 08:55:00+00:00</td>\n",
              "      <td>['neutral']</td>\n",
              "      <td>5 min #RSI Signals:\\n\\n$BTC - $BRK: 1.02\\n$BTC...</td>\n",
              "      <td>0.0000</td>\n",
              "      <td>neutral</td>\n",
              "    </tr>\n",
              "    <tr>\n",
              "      <th>50812</th>\n",
              "      <td>2018-03-23 08:55:00+00:00</td>\n",
              "      <td>['positive']</td>\n",
              "      <td>: We are very pleased to announce we are star...</td>\n",
              "      <td>0.9268</td>\n",
              "      <td>positive</td>\n",
              "    </tr>\n",
              "    <tr>\n",
              "      <th>50813</th>\n",
              "      <td>2018-03-23 08:55:00+00:00</td>\n",
              "      <td>['positive']</td>\n",
              "      <td>The latest Chatback #Security News!  Thanks to...</td>\n",
              "      <td>0.4926</td>\n",
              "      <td>positive</td>\n",
              "    </tr>\n",
              "    <tr>\n",
              "      <th>50814</th>\n",
              "      <td>2018-03-23 08:55:00+00:00</td>\n",
              "      <td>['negative']</td>\n",
              "      <td>Bitcoin Will Be World's 'Single Currency' Says...</td>\n",
              "      <td>0.0000</td>\n",
              "      <td>neutral</td>\n",
              "    </tr>\n",
              "    <tr>\n",
              "      <th>50815</th>\n",
              "      <td>2018-03-23 08:55:02+00:00</td>\n",
              "      <td>['neutral']</td>\n",
              "      <td>College students are using student loans to in...</td>\n",
              "      <td>0.0000</td>\n",
              "      <td>neutral</td>\n",
              "    </tr>\n",
              "    <tr>\n",
              "      <th>50816</th>\n",
              "      <td>2018-03-23 08:55:02+00:00</td>\n",
              "      <td>['positive']</td>\n",
              "      <td>: After a successful launch of our Bounty cam...</td>\n",
              "      <td>0.5859</td>\n",
              "      <td>positive</td>\n",
              "    </tr>\n",
              "    <tr>\n",
              "      <th>50817</th>\n",
              "      <td>2018-03-23 08:55:02+00:00</td>\n",
              "      <td>['neutral']</td>\n",
              "      <td>: It's been 72 hours since the official launc...</td>\n",
              "      <td>0.3818</td>\n",
              "      <td>positive</td>\n",
              "    </tr>\n",
              "    <tr>\n",
              "      <th>50818</th>\n",
              "      <td>2018-03-23 08:55:03+00:00</td>\n",
              "      <td>['negative']</td>\n",
              "      <td>: Use the code: HF18BDAY30 at purchase to get...</td>\n",
              "      <td>-0.2263</td>\n",
              "      <td>neutral</td>\n",
              "    </tr>\n",
              "    <tr>\n",
              "      <th>50819</th>\n",
              "      <td>2018-03-23 08:55:03+00:00</td>\n",
              "      <td>['neutral']</td>\n",
              "      <td>I've transferred your tip of 0.00010115 BCH (...</td>\n",
              "      <td>0.0000</td>\n",
              "      <td>neutral</td>\n",
              "    </tr>\n",
              "    <tr>\n",
              "      <th>50820</th>\n",
              "      <td>2018-03-23 08:55:03+00:00</td>\n",
              "      <td>['neutral']</td>\n",
              "      <td>: Meet  team 22-23 of March on Blockchain con...</td>\n",
              "      <td>0.0000</td>\n",
              "      <td>neutral</td>\n",
              "    </tr>\n",
              "    <tr>\n",
              "      <th>50821</th>\n",
              "      <td>2018-03-23 08:55:03+00:00</td>\n",
              "      <td>['positive']</td>\n",
              "      <td>How to Buy the Best Bitcoin and Cryptocurrency...</td>\n",
              "      <td>0.6369</td>\n",
              "      <td>positive</td>\n",
              "    </tr>\n",
              "    <tr>\n",
              "      <th>50822</th>\n",
              "      <td>2018-03-23 08:55:04+00:00</td>\n",
              "      <td>['positive']</td>\n",
              "      <td>Buying and Selling Bitcoin: The Best Time To D...</td>\n",
              "      <td>0.6369</td>\n",
              "      <td>positive</td>\n",
              "    </tr>\n",
              "    <tr>\n",
              "      <th>50823</th>\n",
              "      <td>2018-03-23 08:55:04+00:00</td>\n",
              "      <td>['positive']</td>\n",
              "      <td>Earn bitcoin on a daily basis!\\n\\n1. Follow  \\...</td>\n",
              "      <td>0.0000</td>\n",
              "      <td>neutral</td>\n",
              "    </tr>\n",
              "    <tr>\n",
              "      <th>50824</th>\n",
              "      <td>2018-03-23 08:55:04+00:00</td>\n",
              "      <td>['neutral']</td>\n",
              "      <td>: Get your week's #blockchain  ; #cryptocurre...</td>\n",
              "      <td>0.0000</td>\n",
              "      <td>neutral</td>\n",
              "    </tr>\n",
              "    <tr>\n",
              "      <th>50825</th>\n",
              "      <td>2018-03-23 08:55:04+00:00</td>\n",
              "      <td>['neutral']</td>\n",
              "      <td>: Bug Caught That Allowed Coinbase Users to G...</td>\n",
              "      <td>0.0000</td>\n",
              "      <td>neutral</td>\n",
              "    </tr>\n",
              "    <tr>\n",
              "      <th>50826</th>\n",
              "      <td>2018-03-23 08:55:05+00:00</td>\n",
              "      <td>['positive']</td>\n",
              "      <td>Earn bitcoin on a daily basis!\\n\\n1. Follow  \\...</td>\n",
              "      <td>0.0000</td>\n",
              "      <td>neutral</td>\n",
              "    </tr>\n",
              "    <tr>\n",
              "      <th>50827</th>\n",
              "      <td>2018-03-23 08:55:05+00:00</td>\n",
              "      <td>['neutral']</td>\n",
              "      <td>TechCrunch: Ben is a chatbot that lets you lea...</td>\n",
              "      <td>0.0000</td>\n",
              "      <td>neutral</td>\n",
              "    </tr>\n",
              "    <tr>\n",
              "      <th>50828</th>\n",
              "      <td>2018-03-23 08:55:05+00:00</td>\n",
              "      <td>['neutral']</td>\n",
              "      <td>YES! Some of our team members are currently in...</td>\n",
              "      <td>0.6145</td>\n",
              "      <td>positive</td>\n",
              "    </tr>\n",
              "    <tr>\n",
              "      <th>50829</th>\n",
              "      <td>2018-03-23 08:55:06+00:00</td>\n",
              "      <td>['positive']</td>\n",
              "      <td>: Great news! Aeron Pilot application now in ...</td>\n",
              "      <td>0.6588</td>\n",
              "      <td>positive</td>\n",
              "    </tr>\n",
              "    <tr>\n",
              "      <th>50830</th>\n",
              "      <td>2018-03-23 08:55:06+00:00</td>\n",
              "      <td>['neutral']</td>\n",
              "      <td>💥The Gladius Airdrop💥 is a valuable opportunit...</td>\n",
              "      <td>0.7096</td>\n",
              "      <td>positive</td>\n",
              "    </tr>\n",
              "    <tr>\n",
              "      <th>50831</th>\n",
              "      <td>2018-03-23 08:55:06+00:00</td>\n",
              "      <td>['neutral']</td>\n",
              "      <td>: Register Now  ; go Long📈 or Short📉 on #Zcas...</td>\n",
              "      <td>0.0000</td>\n",
              "      <td>neutral</td>\n",
              "    </tr>\n",
              "    <tr>\n",
              "      <th>50832</th>\n",
              "      <td>2018-03-23 08:55:07+00:00</td>\n",
              "      <td>['positive']</td>\n",
              "      <td>: OK Internet... I need your help... let’s br...</td>\n",
              "      <td>0.4466</td>\n",
              "      <td>positive</td>\n",
              "    </tr>\n",
              "    <tr>\n",
              "      <th>50833</th>\n",
              "      <td>2018-03-23 08:55:07+00:00</td>\n",
              "      <td>['neutral']</td>\n",
              "      <td>No 6. The Emperor Wears No Clothes: No One Act...</td>\n",
              "      <td>-0.6808</td>\n",
              "      <td>negative</td>\n",
              "    </tr>\n",
              "    <tr>\n",
              "      <th>50834</th>\n",
              "      <td>2018-03-23 08:55:07+00:00</td>\n",
              "      <td>['neutral']</td>\n",
              "      <td>: Token Issuance on Syscoin Platform and Mast...</td>\n",
              "      <td>0.0000</td>\n",
              "      <td>neutral</td>\n",
              "    </tr>\n",
              "    <tr>\n",
              "      <th>50835</th>\n",
              "      <td>2018-03-23 08:55:08+00:00</td>\n",
              "      <td>['positive']</td>\n",
              "      <td>plans to implement Lightning Network - the so...</td>\n",
              "      <td>0.4767</td>\n",
              "      <td>positive</td>\n",
              "    </tr>\n",
              "    <tr>\n",
              "      <th>50836</th>\n",
              "      <td>2018-03-23 08:55:08+00:00</td>\n",
              "      <td>['neutral']</td>\n",
              "      <td>U.S. Plans to Cut Funding for Bitcoin Futures ...</td>\n",
              "      <td>-0.2732</td>\n",
              "      <td>neutral</td>\n",
              "    </tr>\n",
              "    <tr>\n",
              "      <th>50837</th>\n",
              "      <td>2018-03-23 08:55:09+00:00</td>\n",
              "      <td>['negative']</td>\n",
              "      <td>Twitter CEO Says Bitcoin Will Be World’s ‘Sing...</td>\n",
              "      <td>0.0000</td>\n",
              "      <td>neutral</td>\n",
              "    </tr>\n",
              "    <tr>\n",
              "      <th>50838</th>\n",
              "      <td>2018-03-23 08:55:10+00:00</td>\n",
              "      <td>['neutral']</td>\n",
              "      <td>Install CryptoTab and mine Bitcoin!</td>\n",
              "      <td>0.0000</td>\n",
              "      <td>neutral</td>\n",
              "    </tr>\n",
              "    <tr>\n",
              "      <th>50839</th>\n",
              "      <td>2018-03-23 08:55:10+00:00</td>\n",
              "      <td>['neutral']</td>\n",
              "      <td>15 min #RSI Signals:\\n\\n$BTC - $GAM: 8.67\\n$BT...</td>\n",
              "      <td>0.0000</td>\n",
              "      <td>neutral</td>\n",
              "    </tr>\n",
              "    <tr>\n",
              "      <th>50840</th>\n",
              "      <td>2018-03-23 08:55:11+00:00</td>\n",
              "      <td>['neutral']</td>\n",
              "      <td>: This are our ICO periods and their bonus! P...</td>\n",
              "      <td>0.5848</td>\n",
              "      <td>positive</td>\n",
              "    </tr>\n",
              "    <tr>\n",
              "      <th>50841</th>\n",
              "      <td>2018-03-23 08:55:11+00:00</td>\n",
              "      <td>['positive']</td>\n",
              "      <td>: Great news! Aeron Pilot application now in ...</td>\n",
              "      <td>0.6588</td>\n",
              "      <td>positive</td>\n",
              "    </tr>\n",
              "    <tr>\n",
              "      <th>50842</th>\n",
              "      <td>2018-03-23 08:55:11+00:00</td>\n",
              "      <td>['neutral']</td>\n",
              "      <td>: Today we're celebrating our #birthday! 🎂\\nC...</td>\n",
              "      <td>0.6114</td>\n",
              "      <td>positive</td>\n",
              "    </tr>\n",
              "    <tr>\n",
              "      <th>50843</th>\n",
              "      <td>2018-03-23 08:55:12+00:00</td>\n",
              "      <td>['neutral']</td>\n",
              "      <td>Twitter CEO believes that #cryptocurrency will...</td>\n",
              "      <td>0.0000</td>\n",
              "      <td>neutral</td>\n",
              "    </tr>\n",
              "    <tr>\n",
              "      <th>50844</th>\n",
              "      <td>2018-03-23 08:55:12+00:00</td>\n",
              "      <td>['neutral']</td>\n",
              "      <td>: Meet  team 22-23 of March on Blockchain con...</td>\n",
              "      <td>0.0000</td>\n",
              "      <td>neutral</td>\n",
              "    </tr>\n",
              "    <tr>\n",
              "      <th>50845</th>\n",
              "      <td>2018-03-23 08:55:14+00:00</td>\n",
              "      <td>['neutral']</td>\n",
              "      <td>cryptocurrency miner, who is growing 'cryptoma...</td>\n",
              "      <td>0.1779</td>\n",
              "      <td>neutral</td>\n",
              "    </tr>\n",
              "    <tr>\n",
              "      <th>50846</th>\n",
              "      <td>2018-03-23 08:55:14+00:00</td>\n",
              "      <td>['neutral']</td>\n",
              "      <td>Bitcoin: Mastering Bitcoin: Discover How I (An...</td>\n",
              "      <td>0.0000</td>\n",
              "      <td>neutral</td>\n",
              "    </tr>\n",
              "    <tr>\n",
              "      <th>50847</th>\n",
              "      <td>2018-03-23 08:55:14+00:00</td>\n",
              "      <td>['positive']</td>\n",
              "      <td>: Create custom group bets and invite your fr...</td>\n",
              "      <td>0.8402</td>\n",
              "      <td>positive</td>\n",
              "    </tr>\n",
              "    <tr>\n",
              "      <th>50848</th>\n",
              "      <td>2018-03-23 08:55:14+00:00</td>\n",
              "      <td>['neutral']</td>\n",
              "      <td>#Zhao #Dong #Recounts How He Lost 9,000 #BTC  ...</td>\n",
              "      <td>-0.3182</td>\n",
              "      <td>neutral</td>\n",
              "    </tr>\n",
              "    <tr>\n",
              "      <th>50849</th>\n",
              "      <td>2018-03-23 08:55:15+00:00</td>\n",
              "      <td>['negative']</td>\n",
              "      <td>: Decentralizing businesses reputation enable...</td>\n",
              "      <td>0.0000</td>\n",
              "      <td>neutral</td>\n",
              "    </tr>\n",
              "    <tr>\n",
              "      <th>50850</th>\n",
              "      <td>2018-03-23 08:55:15+00:00</td>\n",
              "      <td>['positive']</td>\n",
              "      <td>: Maaan, BiTCh is a bitch,\\nI've had enuff.\\n...</td>\n",
              "      <td>-0.8225</td>\n",
              "      <td>negative</td>\n",
              "    </tr>\n",
              "    <tr>\n",
              "      <th>50851</th>\n",
              "      <td>2018-03-23 08:55:15+00:00</td>\n",
              "      <td>['neutral']</td>\n",
              "      <td>Bitcoin Price Technical Analysis for 03/23/201...</td>\n",
              "      <td>0.0000</td>\n",
              "      <td>neutral</td>\n",
              "    </tr>\n",
              "    <tr>\n",
              "      <th>50852</th>\n",
              "      <td>2018-03-23 08:55:15+00:00</td>\n",
              "      <td>['positive']</td>\n",
              "      <td>: Coinbase Is In Talks to Buy One of Bitcoin'...</td>\n",
              "      <td>0.6369</td>\n",
              "      <td>positive</td>\n",
              "    </tr>\n",
              "    <tr>\n",
              "      <th>50853</th>\n",
              "      <td>2018-03-23 08:55:16+00:00</td>\n",
              "      <td>['neutral']</td>\n",
              "      <td>: 2,000,000 PHT TOKEN #airdrop \\n1. Follow \\n...</td>\n",
              "      <td>0.6808</td>\n",
              "      <td>positive</td>\n",
              "    </tr>\n",
              "    <tr>\n",
              "      <th>50854</th>\n",
              "      <td>2018-03-23 08:55:16+00:00</td>\n",
              "      <td>['positive']</td>\n",
              "      <td>: Fixy Network brings popular cryptocurrencie...</td>\n",
              "      <td>0.6597</td>\n",
              "      <td>positive</td>\n",
              "    </tr>\n",
              "    <tr>\n",
              "      <th>50855</th>\n",
              "      <td>2018-03-23 08:55:17+00:00</td>\n",
              "      <td>['positive']</td>\n",
              "      <td>: After a successful launch of our Bounty cam...</td>\n",
              "      <td>0.5859</td>\n",
              "      <td>positive</td>\n",
              "    </tr>\n",
              "    <tr>\n",
              "      <th>50856</th>\n",
              "      <td>2018-03-23 08:55:18+00:00</td>\n",
              "      <td>['neutral']</td>\n",
              "      <td>: Buy #GYMRewards Tokens, Bonus Time is endin...</td>\n",
              "      <td>0.5848</td>\n",
              "      <td>positive</td>\n",
              "    </tr>\n",
              "    <tr>\n",
              "      <th>50857</th>\n",
              "      <td>2018-03-23 08:55:19+00:00</td>\n",
              "      <td>['positive']</td>\n",
              "      <td>I added a video to a  playlist  How To Bitcoin...</td>\n",
              "      <td>0.5106</td>\n",
              "      <td>positive</td>\n",
              "    </tr>\n",
              "    <tr>\n",
              "      <th>50858</th>\n",
              "      <td>2018-03-23 08:55:19+00:00</td>\n",
              "      <td>['positive']</td>\n",
              "      <td>: Airdrop PhotoCoin Airdrop Round#2. 100 #Pho...</td>\n",
              "      <td>0.3400</td>\n",
              "      <td>positive</td>\n",
              "    </tr>\n",
              "  </tbody>\n",
              "</table>\n",
              "</div>"
            ],
            "text/plain": [
              "                           date     sentiment  ... VADER_score  predicted_sentiment\n",
              "50809 2018-03-23 08:54:56+00:00  ['positive']  ...      0.6588             positive\n",
              "50810 2018-03-23 08:54:58+00:00  ['positive']  ...      0.8977             positive\n",
              "50811 2018-03-23 08:55:00+00:00   ['neutral']  ...      0.0000              neutral\n",
              "50812 2018-03-23 08:55:00+00:00  ['positive']  ...      0.9268             positive\n",
              "50813 2018-03-23 08:55:00+00:00  ['positive']  ...      0.4926             positive\n",
              "50814 2018-03-23 08:55:00+00:00  ['negative']  ...      0.0000              neutral\n",
              "50815 2018-03-23 08:55:02+00:00   ['neutral']  ...      0.0000              neutral\n",
              "50816 2018-03-23 08:55:02+00:00  ['positive']  ...      0.5859             positive\n",
              "50817 2018-03-23 08:55:02+00:00   ['neutral']  ...      0.3818             positive\n",
              "50818 2018-03-23 08:55:03+00:00  ['negative']  ...     -0.2263              neutral\n",
              "50819 2018-03-23 08:55:03+00:00   ['neutral']  ...      0.0000              neutral\n",
              "50820 2018-03-23 08:55:03+00:00   ['neutral']  ...      0.0000              neutral\n",
              "50821 2018-03-23 08:55:03+00:00  ['positive']  ...      0.6369             positive\n",
              "50822 2018-03-23 08:55:04+00:00  ['positive']  ...      0.6369             positive\n",
              "50823 2018-03-23 08:55:04+00:00  ['positive']  ...      0.0000              neutral\n",
              "50824 2018-03-23 08:55:04+00:00   ['neutral']  ...      0.0000              neutral\n",
              "50825 2018-03-23 08:55:04+00:00   ['neutral']  ...      0.0000              neutral\n",
              "50826 2018-03-23 08:55:05+00:00  ['positive']  ...      0.0000              neutral\n",
              "50827 2018-03-23 08:55:05+00:00   ['neutral']  ...      0.0000              neutral\n",
              "50828 2018-03-23 08:55:05+00:00   ['neutral']  ...      0.6145             positive\n",
              "50829 2018-03-23 08:55:06+00:00  ['positive']  ...      0.6588             positive\n",
              "50830 2018-03-23 08:55:06+00:00   ['neutral']  ...      0.7096             positive\n",
              "50831 2018-03-23 08:55:06+00:00   ['neutral']  ...      0.0000              neutral\n",
              "50832 2018-03-23 08:55:07+00:00  ['positive']  ...      0.4466             positive\n",
              "50833 2018-03-23 08:55:07+00:00   ['neutral']  ...     -0.6808             negative\n",
              "50834 2018-03-23 08:55:07+00:00   ['neutral']  ...      0.0000              neutral\n",
              "50835 2018-03-23 08:55:08+00:00  ['positive']  ...      0.4767             positive\n",
              "50836 2018-03-23 08:55:08+00:00   ['neutral']  ...     -0.2732              neutral\n",
              "50837 2018-03-23 08:55:09+00:00  ['negative']  ...      0.0000              neutral\n",
              "50838 2018-03-23 08:55:10+00:00   ['neutral']  ...      0.0000              neutral\n",
              "50839 2018-03-23 08:55:10+00:00   ['neutral']  ...      0.0000              neutral\n",
              "50840 2018-03-23 08:55:11+00:00   ['neutral']  ...      0.5848             positive\n",
              "50841 2018-03-23 08:55:11+00:00  ['positive']  ...      0.6588             positive\n",
              "50842 2018-03-23 08:55:11+00:00   ['neutral']  ...      0.6114             positive\n",
              "50843 2018-03-23 08:55:12+00:00   ['neutral']  ...      0.0000              neutral\n",
              "50844 2018-03-23 08:55:12+00:00   ['neutral']  ...      0.0000              neutral\n",
              "50845 2018-03-23 08:55:14+00:00   ['neutral']  ...      0.1779              neutral\n",
              "50846 2018-03-23 08:55:14+00:00   ['neutral']  ...      0.0000              neutral\n",
              "50847 2018-03-23 08:55:14+00:00  ['positive']  ...      0.8402             positive\n",
              "50848 2018-03-23 08:55:14+00:00   ['neutral']  ...     -0.3182              neutral\n",
              "50849 2018-03-23 08:55:15+00:00  ['negative']  ...      0.0000              neutral\n",
              "50850 2018-03-23 08:55:15+00:00  ['positive']  ...     -0.8225             negative\n",
              "50851 2018-03-23 08:55:15+00:00   ['neutral']  ...      0.0000              neutral\n",
              "50852 2018-03-23 08:55:15+00:00  ['positive']  ...      0.6369             positive\n",
              "50853 2018-03-23 08:55:16+00:00   ['neutral']  ...      0.6808             positive\n",
              "50854 2018-03-23 08:55:16+00:00  ['positive']  ...      0.6597             positive\n",
              "50855 2018-03-23 08:55:17+00:00  ['positive']  ...      0.5859             positive\n",
              "50856 2018-03-23 08:55:18+00:00   ['neutral']  ...      0.5848             positive\n",
              "50857 2018-03-23 08:55:19+00:00  ['positive']  ...      0.5106             positive\n",
              "50858 2018-03-23 08:55:19+00:00  ['positive']  ...      0.3400             positive\n",
              "\n",
              "[50 rows x 5 columns]"
            ]
          },
          "metadata": {
            "tags": []
          },
          "execution_count": 222
        }
      ]
    },
    {
      "cell_type": "markdown",
      "metadata": {
        "id": "nLqOkNw9-YpR",
        "colab_type": "text"
      },
      "source": [
        "## Load best performed model"
      ]
    },
    {
      "cell_type": "code",
      "metadata": {
        "id": "HmUm1rWc-O0K",
        "colab_type": "code",
        "colab": {}
      },
      "source": [
        "gru_model = pickle.load(open(\"/content/drive/My Drive/Colab Notebooks/gru_model_v1.p\", \"rb\"))"
      ],
      "execution_count": 0,
      "outputs": []
    },
    {
      "cell_type": "code",
      "metadata": {
        "id": "81qd3MaL-Q-u",
        "colab_type": "code",
        "colab": {}
      },
      "source": [
        "prepr_df = pd.read_csv('/content/drive/My Drive/Colab Notebooks/cleanprep.csv',header=None)"
      ],
      "execution_count": 0,
      "outputs": []
    },
    {
      "cell_type": "code",
      "metadata": {
        "id": "Tb55bGADWIyj",
        "colab_type": "code",
        "colab": {}
      },
      "source": [
        "prepr_df.head()\n",
        "prepr_df.rename(columns={0:'timestamp',2:'text'},inplace=True)"
      ],
      "execution_count": 0,
      "outputs": []
    },
    {
      "cell_type": "code",
      "metadata": {
        "id": "DaaMCwEQW7GV",
        "colab_type": "code",
        "colab": {}
      },
      "source": [
        "prepr_df.drop(columns=[1,3,4],inplace=True)"
      ],
      "execution_count": 0,
      "outputs": []
    },
    {
      "cell_type": "code",
      "metadata": {
        "id": "nIVDTt6RXNqZ",
        "colab_type": "code",
        "outputId": "43b0bd95-45cb-4c35-95fa-fd91f1323f1d",
        "colab": {
          "base_uri": "https://localhost:8080/",
          "height": 204
        }
      },
      "source": [
        "prepr_df.head()"
      ],
      "execution_count": 0,
      "outputs": [
        {
          "output_type": "execute_result",
          "data": {
            "text/html": [
              "<div>\n",
              "<style scoped>\n",
              "    .dataframe tbody tr th:only-of-type {\n",
              "        vertical-align: middle;\n",
              "    }\n",
              "\n",
              "    .dataframe tbody tr th {\n",
              "        vertical-align: top;\n",
              "    }\n",
              "\n",
              "    .dataframe thead th {\n",
              "        text-align: right;\n",
              "    }\n",
              "</style>\n",
              "<table border=\"1\" class=\"dataframe\">\n",
              "  <thead>\n",
              "    <tr style=\"text-align: right;\">\n",
              "      <th></th>\n",
              "      <th>timestamp</th>\n",
              "      <th>text</th>\n",
              "    </tr>\n",
              "  </thead>\n",
              "  <tbody>\n",
              "    <tr>\n",
              "      <th>0</th>\n",
              "      <td>2018-07-11 19:35:15.363270</td>\n",
              "      <td>b\"Next two weeks prob v boring (climb up to 9k...</td>\n",
              "    </tr>\n",
              "    <tr>\n",
              "      <th>1</th>\n",
              "      <td>2018-07-11 19:35:15.736769</td>\n",
              "      <td>b'@Miss_rinola But you\\xe2\\x80\\x99ve heard abo...</td>\n",
              "    </tr>\n",
              "    <tr>\n",
              "      <th>2</th>\n",
              "      <td>2018-07-11 19:35:15.744769</td>\n",
              "      <td>b'Duplicate skilled traders automatically with...</td>\n",
              "    </tr>\n",
              "    <tr>\n",
              "      <th>3</th>\n",
              "      <td>2018-07-11 19:35:15.867339</td>\n",
              "      <td>b'Project Manager - Technical - FinTech - Cent...</td>\n",
              "    </tr>\n",
              "    <tr>\n",
              "      <th>4</th>\n",
              "      <td>2018-07-11 19:35:16.021448</td>\n",
              "      <td>b'Coinbase App Downloads Drop, Crypto Hype Fad...</td>\n",
              "    </tr>\n",
              "  </tbody>\n",
              "</table>\n",
              "</div>"
            ],
            "text/plain": [
              "                    timestamp                                               text\n",
              "0  2018-07-11 19:35:15.363270  b\"Next two weeks prob v boring (climb up to 9k...\n",
              "1  2018-07-11 19:35:15.736769  b'@Miss_rinola But you\\xe2\\x80\\x99ve heard abo...\n",
              "2  2018-07-11 19:35:15.744769  b'Duplicate skilled traders automatically with...\n",
              "3  2018-07-11 19:35:15.867339  b'Project Manager - Technical - FinTech - Cent...\n",
              "4  2018-07-11 19:35:16.021448  b'Coinbase App Downloads Drop, Crypto Hype Fad..."
            ]
          },
          "metadata": {
            "tags": []
          },
          "execution_count": 42
        }
      ]
    },
    {
      "cell_type": "markdown",
      "metadata": {
        "id": "RN7i-MGo_Bae",
        "colab_type": "text"
      },
      "source": [
        "## Initialize the real time dataset\n",
        "\n"
      ]
    },
    {
      "cell_type": "code",
      "metadata": {
        "id": "RSjFRv3P_GoU",
        "colab_type": "code",
        "colab": {}
      },
      "source": [
        "prepr_df['clean_tweets'] = prepr_df['text'].apply(clean_text)\n",
        "prepr_df.drop(['text'],axis=1, inplace=True)"
      ],
      "execution_count": 0,
      "outputs": []
    },
    {
      "cell_type": "code",
      "metadata": {
        "id": "vXP3gPO8_MyL",
        "colab_type": "code",
        "colab": {}
      },
      "source": [
        "X_prepr = prepr_df[\"clean_tweets\"]"
      ],
      "execution_count": 0,
      "outputs": []
    },
    {
      "cell_type": "code",
      "metadata": {
        "id": "c6vTzu-H_TGv",
        "colab_type": "code",
        "colab": {}
      },
      "source": [
        "X_prepr = tokenizer.texts_to_sequences(X_prepr)\n",
        "X_prepr = sequence.pad_sequences(X_prepr , maxlen = max_words)"
      ],
      "execution_count": 0,
      "outputs": []
    },
    {
      "cell_type": "markdown",
      "metadata": {
        "id": "r3DMOjg9_fpT",
        "colab_type": "text"
      },
      "source": [
        "## Model prediction"
      ]
    },
    {
      "cell_type": "code",
      "metadata": {
        "id": "PQVncZwH_cTn",
        "colab_type": "code",
        "colab": {}
      },
      "source": [
        "y_prepr = gru_model.predict_classes(X_prepr , batch_size = batch_size, verbose =0)\n",
        "prepr_df['sentiment'] = y_prepr"
      ],
      "execution_count": 0,
      "outputs": []
    },
    {
      "cell_type": "code",
      "metadata": {
        "id": "E22m1QYJ_sRP",
        "colab_type": "code",
        "outputId": "b5206acf-6009-4208-cf53-dc14860eba27",
        "colab": {
          "base_uri": "https://localhost:8080/",
          "height": 419
        }
      },
      "source": [
        "prepr_df"
      ],
      "execution_count": 0,
      "outputs": [
        {
          "output_type": "execute_result",
          "data": {
            "text/html": [
              "<div>\n",
              "<style scoped>\n",
              "    .dataframe tbody tr th:only-of-type {\n",
              "        vertical-align: middle;\n",
              "    }\n",
              "\n",
              "    .dataframe tbody tr th {\n",
              "        vertical-align: top;\n",
              "    }\n",
              "\n",
              "    .dataframe thead th {\n",
              "        text-align: right;\n",
              "    }\n",
              "</style>\n",
              "<table border=\"1\" class=\"dataframe\">\n",
              "  <thead>\n",
              "    <tr style=\"text-align: right;\">\n",
              "      <th></th>\n",
              "      <th>timestamp</th>\n",
              "      <th>clean_tweets</th>\n",
              "      <th>sentiment</th>\n",
              "    </tr>\n",
              "  </thead>\n",
              "  <tbody>\n",
              "    <tr>\n",
              "      <th>0</th>\n",
              "      <td>2018-07-11 19:35:15.363270</td>\n",
              "      <td>b\"Next two weeks prob v boring (climb up to 9k...</td>\n",
              "      <td>2</td>\n",
              "    </tr>\n",
              "    <tr>\n",
              "      <th>1</th>\n",
              "      <td>2018-07-11 19:35:15.736769</td>\n",
              "      <td>b' But you\\xe2\\x80\\x99ve heard about BITCOIN?'</td>\n",
              "      <td>0</td>\n",
              "    </tr>\n",
              "    <tr>\n",
              "      <th>2</th>\n",
              "      <td>2018-07-11 19:35:15.744769</td>\n",
              "      <td>b'Duplicate skilled traders automatically with...</td>\n",
              "      <td>1</td>\n",
              "    </tr>\n",
              "    <tr>\n",
              "      <th>3</th>\n",
              "      <td>2018-07-11 19:35:15.867339</td>\n",
              "      <td>b'Project Manager - Technical - FinTech - Cent...</td>\n",
              "      <td>1</td>\n",
              "    </tr>\n",
              "    <tr>\n",
              "      <th>4</th>\n",
              "      <td>2018-07-11 19:35:16.021448</td>\n",
              "      <td>b'Coinbase App Downloads Drop, Crypto Hype Fad...</td>\n",
              "      <td>2</td>\n",
              "    </tr>\n",
              "    <tr>\n",
              "      <th>...</th>\n",
              "      <td>...</td>\n",
              "      <td>...</td>\n",
              "      <td>...</td>\n",
              "    </tr>\n",
              "    <tr>\n",
              "      <th>1412996</th>\n",
              "      <td>2018-07-24 08:17:01.654579</td>\n",
              "      <td>b'#BlockBuratino</td>\n",
              "      <td>1</td>\n",
              "    </tr>\n",
              "    <tr>\n",
              "      <th>1412997</th>\n",
              "      <td>2018-07-24 08:17:02.342093</td>\n",
              "      <td>b'Cointelegraph: #CT_index Provided by Cointel...</td>\n",
              "      <td>1</td>\n",
              "    </tr>\n",
              "    <tr>\n",
              "      <th>1412998</th>\n",
              "      <td>2018-07-24 08:17:02.951448</td>\n",
              "      <td>b'Congrats  for reaching $ 8k again \\xf0\\x9f\\x...</td>\n",
              "      <td>1</td>\n",
              "    </tr>\n",
              "    <tr>\n",
              "      <th>1412999</th>\n",
              "      <td>2018-07-24 08:17:03.388879</td>\n",
              "      <td>b'BTC wants to breakout again this morning and...</td>\n",
              "      <td>2</td>\n",
              "    </tr>\n",
              "    <tr>\n",
              "      <th>1413000</th>\n",
              "      <td>2018-07-24 08:17:03.576424</td>\n",
              "      <td>b'via \\xe2\\x86\\x92  BTC Strong resistance line.</td>\n",
              "      <td>2</td>\n",
              "    </tr>\n",
              "  </tbody>\n",
              "</table>\n",
              "<p>1413001 rows × 3 columns</p>\n",
              "</div>"
            ],
            "text/plain": [
              "                          timestamp  ... sentiment\n",
              "0        2018-07-11 19:35:15.363270  ...         2\n",
              "1        2018-07-11 19:35:15.736769  ...         0\n",
              "2        2018-07-11 19:35:15.744769  ...         1\n",
              "3        2018-07-11 19:35:15.867339  ...         1\n",
              "4        2018-07-11 19:35:16.021448  ...         2\n",
              "...                             ...  ...       ...\n",
              "1412996  2018-07-24 08:17:01.654579  ...         1\n",
              "1412997  2018-07-24 08:17:02.342093  ...         1\n",
              "1412998  2018-07-24 08:17:02.951448  ...         1\n",
              "1412999  2018-07-24 08:17:03.388879  ...         2\n",
              "1413000  2018-07-24 08:17:03.576424  ...         2\n",
              "\n",
              "[1413001 rows x 3 columns]"
            ]
          },
          "metadata": {
            "tags": []
          },
          "execution_count": 47
        }
      ]
    },
    {
      "cell_type": "code",
      "metadata": {
        "id": "iz29JUXTCFO_",
        "colab_type": "code",
        "outputId": "12f2d13f-ea09-4fb6-fd9e-4af11274d798",
        "colab": {
          "base_uri": "https://localhost:8080/",
          "height": 347
        }
      },
      "source": [
        "sns.countplot(prepr_df['sentiment'])\n",
        "prepr_df['sentiment'].value_counts(normalize=True) * 100"
      ],
      "execution_count": 0,
      "outputs": [
        {
          "output_type": "execute_result",
          "data": {
            "text/plain": [
              "1    64.961171\n",
              "2    25.490923\n",
              "0     9.547905\n",
              "Name: sentiment, dtype: float64"
            ]
          },
          "metadata": {
            "tags": []
          },
          "execution_count": 48
        },
        {
          "output_type": "display_data",
          "data": {
            "image/png": "[encoded data removed]",
            "text/plain": [
              "<Figure size 432x288 with 1 Axes>"
            ]
          },
          "metadata": {
            "tags": []
          }
        }
      ]
    },
    {
      "cell_type": "code",
      "metadata": {
        "id": "dD_5loma3Ryt",
        "colab_type": "code",
        "colab": {}
      },
      "source": [
        "# pd.get_dummies(prepr_df['sentiment'])\n",
        "prepr_df = pd.concat([prepr_df,pd.get_dummies(prepr_df['sentiment'], prefix='sentiment')],axis=1)\n",
        "prepr_df.drop(['sentiment'],axis=1,inplace=True)"
      ],
      "execution_count": 0,
      "outputs": []
    },
    {
      "cell_type": "code",
      "metadata": {
        "id": "TC-0KPmXAeaS",
        "colab_type": "code",
        "colab": {}
      },
      "source": [
        "prepr_df.rename(columns={'sentiment_0':'negative','sentiment_1':'neutral','sentiment_2':'positive',},inplace=True)"
      ],
      "execution_count": 0,
      "outputs": []
    },
    {
      "cell_type": "code",
      "metadata": {
        "id": "cjIGbHxQ2R0_",
        "colab_type": "code",
        "colab": {}
      },
      "source": [
        "prepr_df.timestamp = pd.to_datetime(prepr_df.timestamp)\n"
      ],
      "execution_count": 0,
      "outputs": []
    },
    {
      "cell_type": "code",
      "metadata": {
        "id": "xsuLfqkF2jBg",
        "colab_type": "code",
        "outputId": "2a908870-f5fe-4bf6-890c-3de235f9648a",
        "colab": {
          "base_uri": "https://localhost:8080/",
          "height": 221
        }
      },
      "source": [
        "prepr_df.timestamp"
      ],
      "execution_count": 0,
      "outputs": [
        {
          "output_type": "execute_result",
          "data": {
            "text/plain": [
              "0         2018-07-11 19:35:15.363270\n",
              "1         2018-07-11 19:35:15.736769\n",
              "2         2018-07-11 19:35:15.744769\n",
              "3         2018-07-11 19:35:15.867339\n",
              "4         2018-07-11 19:35:16.021448\n",
              "                     ...            \n",
              "1412996   2018-07-24 08:17:01.654579\n",
              "1412997   2018-07-24 08:17:02.342093\n",
              "1412998   2018-07-24 08:17:02.951448\n",
              "1412999   2018-07-24 08:17:03.388879\n",
              "1413000   2018-07-24 08:17:03.576424\n",
              "Name: timestamp, Length: 1413001, dtype: datetime64[ns]"
            ]
          },
          "metadata": {
            "tags": []
          },
          "execution_count": 52
        }
      ]
    },
    {
      "cell_type": "code",
      "metadata": {
        "id": "vOEsktdUKtIi",
        "colab_type": "code",
        "colab": {}
      },
      "source": [
        "prepr_df = prepr_df.sort_values(by='timestamp')"
      ],
      "execution_count": 0,
      "outputs": []
    },
    {
      "cell_type": "code",
      "metadata": {
        "id": "HNPANA3hK4R4",
        "colab_type": "code",
        "colab": {}
      },
      "source": [
        "# prepr_df=prepr_df[prepr_df.clean_tweets!='nan']\n"
      ],
      "execution_count": 0,
      "outputs": []
    },
    {
      "cell_type": "code",
      "metadata": {
        "id": "MhHVjBShLI3J",
        "colab_type": "code",
        "colab": {}
      },
      "source": [
        "prepr_df.reset_index(drop=True,inplace=True)"
      ],
      "execution_count": 0,
      "outputs": []
    },
    {
      "cell_type": "code",
      "metadata": {
        "id": "cAtcumWOCrzZ",
        "colab_type": "code",
        "colab": {}
      },
      "source": [
        "new_df = prepr_df.groupby(prepr_df.timestamp.dt.to_period('Min')).sum()\n"
      ],
      "execution_count": 0,
      "outputs": []
    },
    {
      "cell_type": "code",
      "metadata": {
        "id": "qYEgPUy-B3IB",
        "colab_type": "code",
        "colab": {}
      },
      "source": [
        "new_df.reset_index(inplace=True)"
      ],
      "execution_count": 0,
      "outputs": []
    },
    {
      "cell_type": "code",
      "metadata": {
        "id": "clgsusaOCHZD",
        "colab_type": "code",
        "outputId": "5afbab24-305c-46b6-9c90-b8c267ec6200",
        "colab": {
          "base_uri": "https://localhost:8080/",
          "height": 419
        }
      },
      "source": [
        "new_df"
      ],
      "execution_count": 0,
      "outputs": [
        {
          "output_type": "execute_result",
          "data": {
            "text/html": [
              "<div>\n",
              "<style scoped>\n",
              "    .dataframe tbody tr th:only-of-type {\n",
              "        vertical-align: middle;\n",
              "    }\n",
              "\n",
              "    .dataframe tbody tr th {\n",
              "        vertical-align: top;\n",
              "    }\n",
              "\n",
              "    .dataframe thead th {\n",
              "        text-align: right;\n",
              "    }\n",
              "</style>\n",
              "<table border=\"1\" class=\"dataframe\">\n",
              "  <thead>\n",
              "    <tr style=\"text-align: right;\">\n",
              "      <th></th>\n",
              "      <th>timestamp</th>\n",
              "      <th>negative</th>\n",
              "      <th>neutral</th>\n",
              "      <th>positive</th>\n",
              "    </tr>\n",
              "  </thead>\n",
              "  <tbody>\n",
              "    <tr>\n",
              "      <th>0</th>\n",
              "      <td>2018-07-11 19:35</td>\n",
              "      <td>3</td>\n",
              "      <td>31</td>\n",
              "      <td>16</td>\n",
              "    </tr>\n",
              "    <tr>\n",
              "      <th>1</th>\n",
              "      <td>2018-07-11 19:36</td>\n",
              "      <td>4</td>\n",
              "      <td>36</td>\n",
              "      <td>18</td>\n",
              "    </tr>\n",
              "    <tr>\n",
              "      <th>2</th>\n",
              "      <td>2018-07-11 19:37</td>\n",
              "      <td>5</td>\n",
              "      <td>53</td>\n",
              "      <td>18</td>\n",
              "    </tr>\n",
              "    <tr>\n",
              "      <th>3</th>\n",
              "      <td>2018-07-11 19:38</td>\n",
              "      <td>1</td>\n",
              "      <td>40</td>\n",
              "      <td>10</td>\n",
              "    </tr>\n",
              "    <tr>\n",
              "      <th>4</th>\n",
              "      <td>2018-07-11 19:39</td>\n",
              "      <td>3</td>\n",
              "      <td>49</td>\n",
              "      <td>19</td>\n",
              "    </tr>\n",
              "    <tr>\n",
              "      <th>...</th>\n",
              "      <td>...</td>\n",
              "      <td>...</td>\n",
              "      <td>...</td>\n",
              "      <td>...</td>\n",
              "    </tr>\n",
              "    <tr>\n",
              "      <th>18038</th>\n",
              "      <td>2018-07-24 08:13</td>\n",
              "      <td>1</td>\n",
              "      <td>69</td>\n",
              "      <td>21</td>\n",
              "    </tr>\n",
              "    <tr>\n",
              "      <th>18039</th>\n",
              "      <td>2018-07-24 08:14</td>\n",
              "      <td>9</td>\n",
              "      <td>71</td>\n",
              "      <td>17</td>\n",
              "    </tr>\n",
              "    <tr>\n",
              "      <th>18040</th>\n",
              "      <td>2018-07-24 08:15</td>\n",
              "      <td>6</td>\n",
              "      <td>95</td>\n",
              "      <td>40</td>\n",
              "    </tr>\n",
              "    <tr>\n",
              "      <th>18041</th>\n",
              "      <td>2018-07-24 08:16</td>\n",
              "      <td>6</td>\n",
              "      <td>76</td>\n",
              "      <td>26</td>\n",
              "    </tr>\n",
              "    <tr>\n",
              "      <th>18042</th>\n",
              "      <td>2018-07-24 08:17</td>\n",
              "      <td>1</td>\n",
              "      <td>5</td>\n",
              "      <td>2</td>\n",
              "    </tr>\n",
              "  </tbody>\n",
              "</table>\n",
              "<p>18043 rows × 4 columns</p>\n",
              "</div>"
            ],
            "text/plain": [
              "              timestamp  negative  neutral  positive\n",
              "0      2018-07-11 19:35         3       31        16\n",
              "1      2018-07-11 19:36         4       36        18\n",
              "2      2018-07-11 19:37         5       53        18\n",
              "3      2018-07-11 19:38         1       40        10\n",
              "4      2018-07-11 19:39         3       49        19\n",
              "...                 ...       ...      ...       ...\n",
              "18038  2018-07-24 08:13         1       69        21\n",
              "18039  2018-07-24 08:14         9       71        17\n",
              "18040  2018-07-24 08:15         6       95        40\n",
              "18041  2018-07-24 08:16         6       76        26\n",
              "18042  2018-07-24 08:17         1        5         2\n",
              "\n",
              "[18043 rows x 4 columns]"
            ]
          },
          "metadata": {
            "tags": []
          },
          "execution_count": 47
        }
      ]
    },
    {
      "cell_type": "code",
      "metadata": {
        "id": "6dR6VKONhO-y",
        "colab_type": "code",
        "colab": {}
      },
      "source": [
        "new_df.to_csv('/content/drive/My Drive/Colab Notebooks/tweets_final.csv')"
      ],
      "execution_count": 0,
      "outputs": []
    },
    {
      "cell_type": "markdown",
      "metadata": {
        "id": "TxQAFlvNl4Oc",
        "colab_type": "text"
      },
      "source": [
        "# PART 2"
      ]
    },
    {
      "cell_type": "code",
      "metadata": {
        "id": "D_NZO67ElIH6",
        "colab_type": "code",
        "colab": {}
      },
      "source": [
        "tw_df = pd.read_csv('/content/drive/My Drive/Colab Notebooks/tweets_final.csv')"
      ],
      "execution_count": 0,
      "outputs": []
    },
    {
      "cell_type": "code",
      "metadata": {
        "id": "7ee2liNdmMQh",
        "colab_type": "code",
        "colab": {}
      },
      "source": [
        "tw_df.drop('Unnamed: 0',axis=1,inplace=True)"
      ],
      "execution_count": 0,
      "outputs": []
    },
    {
      "cell_type": "code",
      "metadata": {
        "id": "_S40XIjxmO7S",
        "colab_type": "code",
        "outputId": "eb363691-3d22-46b9-9f75-fb517ab84385",
        "colab": {
          "base_uri": "https://localhost:8080/",
          "height": 419
        }
      },
      "source": [
        "tw_df"
      ],
      "execution_count": 0,
      "outputs": [
        {
          "output_type": "execute_result",
          "data": {
            "text/html": [
              "<div>\n",
              "<style scoped>\n",
              "    .dataframe tbody tr th:only-of-type {\n",
              "        vertical-align: middle;\n",
              "    }\n",
              "\n",
              "    .dataframe tbody tr th {\n",
              "        vertical-align: top;\n",
              "    }\n",
              "\n",
              "    .dataframe thead th {\n",
              "        text-align: right;\n",
              "    }\n",
              "</style>\n",
              "<table border=\"1\" class=\"dataframe\">\n",
              "  <thead>\n",
              "    <tr style=\"text-align: right;\">\n",
              "      <th></th>\n",
              "      <th>timestamp</th>\n",
              "      <th>negative</th>\n",
              "      <th>neutral</th>\n",
              "      <th>positive</th>\n",
              "    </tr>\n",
              "  </thead>\n",
              "  <tbody>\n",
              "    <tr>\n",
              "      <th>0</th>\n",
              "      <td>2018-07-11 19:35</td>\n",
              "      <td>3</td>\n",
              "      <td>31</td>\n",
              "      <td>16</td>\n",
              "    </tr>\n",
              "    <tr>\n",
              "      <th>1</th>\n",
              "      <td>2018-07-11 19:36</td>\n",
              "      <td>4</td>\n",
              "      <td>36</td>\n",
              "      <td>18</td>\n",
              "    </tr>\n",
              "    <tr>\n",
              "      <th>2</th>\n",
              "      <td>2018-07-11 19:37</td>\n",
              "      <td>5</td>\n",
              "      <td>53</td>\n",
              "      <td>18</td>\n",
              "    </tr>\n",
              "    <tr>\n",
              "      <th>3</th>\n",
              "      <td>2018-07-11 19:38</td>\n",
              "      <td>1</td>\n",
              "      <td>40</td>\n",
              "      <td>10</td>\n",
              "    </tr>\n",
              "    <tr>\n",
              "      <th>4</th>\n",
              "      <td>2018-07-11 19:39</td>\n",
              "      <td>3</td>\n",
              "      <td>49</td>\n",
              "      <td>19</td>\n",
              "    </tr>\n",
              "    <tr>\n",
              "      <th>...</th>\n",
              "      <td>...</td>\n",
              "      <td>...</td>\n",
              "      <td>...</td>\n",
              "      <td>...</td>\n",
              "    </tr>\n",
              "    <tr>\n",
              "      <th>18038</th>\n",
              "      <td>2018-07-24 08:13</td>\n",
              "      <td>1</td>\n",
              "      <td>69</td>\n",
              "      <td>21</td>\n",
              "    </tr>\n",
              "    <tr>\n",
              "      <th>18039</th>\n",
              "      <td>2018-07-24 08:14</td>\n",
              "      <td>9</td>\n",
              "      <td>71</td>\n",
              "      <td>17</td>\n",
              "    </tr>\n",
              "    <tr>\n",
              "      <th>18040</th>\n",
              "      <td>2018-07-24 08:15</td>\n",
              "      <td>6</td>\n",
              "      <td>95</td>\n",
              "      <td>40</td>\n",
              "    </tr>\n",
              "    <tr>\n",
              "      <th>18041</th>\n",
              "      <td>2018-07-24 08:16</td>\n",
              "      <td>6</td>\n",
              "      <td>76</td>\n",
              "      <td>26</td>\n",
              "    </tr>\n",
              "    <tr>\n",
              "      <th>18042</th>\n",
              "      <td>2018-07-24 08:17</td>\n",
              "      <td>1</td>\n",
              "      <td>5</td>\n",
              "      <td>2</td>\n",
              "    </tr>\n",
              "  </tbody>\n",
              "</table>\n",
              "<p>18043 rows × 4 columns</p>\n",
              "</div>"
            ],
            "text/plain": [
              "              timestamp  negative  neutral  positive\n",
              "0      2018-07-11 19:35         3       31        16\n",
              "1      2018-07-11 19:36         4       36        18\n",
              "2      2018-07-11 19:37         5       53        18\n",
              "3      2018-07-11 19:38         1       40        10\n",
              "4      2018-07-11 19:39         3       49        19\n",
              "...                 ...       ...      ...       ...\n",
              "18038  2018-07-24 08:13         1       69        21\n",
              "18039  2018-07-24 08:14         9       71        17\n",
              "18040  2018-07-24 08:15         6       95        40\n",
              "18041  2018-07-24 08:16         6       76        26\n",
              "18042  2018-07-24 08:17         1        5         2\n",
              "\n",
              "[18043 rows x 4 columns]"
            ]
          },
          "metadata": {
            "tags": []
          },
          "execution_count": 49
        }
      ]
    },
    {
      "cell_type": "code",
      "metadata": {
        "id": "i9YZtIVjmp1E",
        "colab_type": "code",
        "colab": {}
      },
      "source": [
        "btc_df = pd.read_csv('/content/drive/My Drive/Colab Notebooks/bitstampUSD.csv')"
      ],
      "execution_count": 0,
      "outputs": []
    },
    {
      "cell_type": "code",
      "metadata": {
        "id": "j0i36UTLm6hx",
        "colab_type": "code",
        "outputId": "2ee0b713-4324-4479-c2ba-b87262504bcd",
        "colab": {
          "base_uri": "https://localhost:8080/",
          "height": 204
        }
      },
      "source": [
        "btc_df.head()"
      ],
      "execution_count": 0,
      "outputs": [
        {
          "output_type": "execute_result",
          "data": {
            "text/html": [
              "<div>\n",
              "<style scoped>\n",
              "    .dataframe tbody tr th:only-of-type {\n",
              "        vertical-align: middle;\n",
              "    }\n",
              "\n",
              "    .dataframe tbody tr th {\n",
              "        vertical-align: top;\n",
              "    }\n",
              "\n",
              "    .dataframe thead th {\n",
              "        text-align: right;\n",
              "    }\n",
              "</style>\n",
              "<table border=\"1\" class=\"dataframe\">\n",
              "  <thead>\n",
              "    <tr style=\"text-align: right;\">\n",
              "      <th></th>\n",
              "      <th>Timestamp</th>\n",
              "      <th>Open</th>\n",
              "      <th>High</th>\n",
              "      <th>Low</th>\n",
              "      <th>Close</th>\n",
              "      <th>Volume_(BTC)</th>\n",
              "      <th>Volume_(Currency)</th>\n",
              "      <th>Weighted_Price</th>\n",
              "    </tr>\n",
              "  </thead>\n",
              "  <tbody>\n",
              "    <tr>\n",
              "      <th>0</th>\n",
              "      <td>1325317920</td>\n",
              "      <td>4.39</td>\n",
              "      <td>4.39</td>\n",
              "      <td>4.39</td>\n",
              "      <td>4.39</td>\n",
              "      <td>0.455581</td>\n",
              "      <td>2.0</td>\n",
              "      <td>4.39</td>\n",
              "    </tr>\n",
              "    <tr>\n",
              "      <th>1</th>\n",
              "      <td>1325317980</td>\n",
              "      <td>NaN</td>\n",
              "      <td>NaN</td>\n",
              "      <td>NaN</td>\n",
              "      <td>NaN</td>\n",
              "      <td>NaN</td>\n",
              "      <td>NaN</td>\n",
              "      <td>NaN</td>\n",
              "    </tr>\n",
              "    <tr>\n",
              "      <th>2</th>\n",
              "      <td>1325318040</td>\n",
              "      <td>NaN</td>\n",
              "      <td>NaN</td>\n",
              "      <td>NaN</td>\n",
              "      <td>NaN</td>\n",
              "      <td>NaN</td>\n",
              "      <td>NaN</td>\n",
              "      <td>NaN</td>\n",
              "    </tr>\n",
              "    <tr>\n",
              "      <th>3</th>\n",
              "      <td>1325318100</td>\n",
              "      <td>NaN</td>\n",
              "      <td>NaN</td>\n",
              "      <td>NaN</td>\n",
              "      <td>NaN</td>\n",
              "      <td>NaN</td>\n",
              "      <td>NaN</td>\n",
              "      <td>NaN</td>\n",
              "    </tr>\n",
              "    <tr>\n",
              "      <th>4</th>\n",
              "      <td>1325318160</td>\n",
              "      <td>NaN</td>\n",
              "      <td>NaN</td>\n",
              "      <td>NaN</td>\n",
              "      <td>NaN</td>\n",
              "      <td>NaN</td>\n",
              "      <td>NaN</td>\n",
              "      <td>NaN</td>\n",
              "    </tr>\n",
              "  </tbody>\n",
              "</table>\n",
              "</div>"
            ],
            "text/plain": [
              "    Timestamp  Open  High  ...  Volume_(BTC)  Volume_(Currency)  Weighted_Price\n",
              "0  1325317920  4.39  4.39  ...      0.455581                2.0            4.39\n",
              "1  1325317980   NaN   NaN  ...           NaN                NaN             NaN\n",
              "2  1325318040   NaN   NaN  ...           NaN                NaN             NaN\n",
              "3  1325318100   NaN   NaN  ...           NaN                NaN             NaN\n",
              "4  1325318160   NaN   NaN  ...           NaN                NaN             NaN\n",
              "\n",
              "[5 rows x 8 columns]"
            ]
          },
          "metadata": {
            "tags": []
          },
          "execution_count": 51
        }
      ]
    },
    {
      "cell_type": "code",
      "metadata": {
        "id": "staawRHxm_d5",
        "colab_type": "code",
        "colab": {}
      },
      "source": [
        "btc_df['Timestamp'] = pd.to_datetime(btc_df['Timestamp'],unit='s')"
      ],
      "execution_count": 0,
      "outputs": []
    },
    {
      "cell_type": "code",
      "metadata": {
        "id": "tBoXxlZlorN7",
        "colab_type": "code",
        "outputId": "fb7f7e39-b575-4fc3-af7e-eda2503972f8",
        "colab": {
          "base_uri": "https://localhost:8080/",
          "height": 419
        }
      },
      "source": [
        "btc_df"
      ],
      "execution_count": 0,
      "outputs": [
        {
          "output_type": "execute_result",
          "data": {
            "text/html": [
              "<div>\n",
              "<style scoped>\n",
              "    .dataframe tbody tr th:only-of-type {\n",
              "        vertical-align: middle;\n",
              "    }\n",
              "\n",
              "    .dataframe tbody tr th {\n",
              "        vertical-align: top;\n",
              "    }\n",
              "\n",
              "    .dataframe thead th {\n",
              "        text-align: right;\n",
              "    }\n",
              "</style>\n",
              "<table border=\"1\" class=\"dataframe\">\n",
              "  <thead>\n",
              "    <tr style=\"text-align: right;\">\n",
              "      <th></th>\n",
              "      <th>Timestamp</th>\n",
              "      <th>Open</th>\n",
              "      <th>High</th>\n",
              "      <th>Low</th>\n",
              "      <th>Close</th>\n",
              "      <th>Volume_(BTC)</th>\n",
              "      <th>Volume_(Currency)</th>\n",
              "      <th>Weighted_Price</th>\n",
              "    </tr>\n",
              "  </thead>\n",
              "  <tbody>\n",
              "    <tr>\n",
              "      <th>0</th>\n",
              "      <td>2011-12-31 07:52:00</td>\n",
              "      <td>4.39</td>\n",
              "      <td>4.39</td>\n",
              "      <td>4.39</td>\n",
              "      <td>4.39</td>\n",
              "      <td>0.455581</td>\n",
              "      <td>2.000000</td>\n",
              "      <td>4.390000</td>\n",
              "    </tr>\n",
              "    <tr>\n",
              "      <th>1</th>\n",
              "      <td>2011-12-31 07:53:00</td>\n",
              "      <td>NaN</td>\n",
              "      <td>NaN</td>\n",
              "      <td>NaN</td>\n",
              "      <td>NaN</td>\n",
              "      <td>NaN</td>\n",
              "      <td>NaN</td>\n",
              "      <td>NaN</td>\n",
              "    </tr>\n",
              "    <tr>\n",
              "      <th>2</th>\n",
              "      <td>2011-12-31 07:54:00</td>\n",
              "      <td>NaN</td>\n",
              "      <td>NaN</td>\n",
              "      <td>NaN</td>\n",
              "      <td>NaN</td>\n",
              "      <td>NaN</td>\n",
              "      <td>NaN</td>\n",
              "      <td>NaN</td>\n",
              "    </tr>\n",
              "    <tr>\n",
              "      <th>3</th>\n",
              "      <td>2011-12-31 07:55:00</td>\n",
              "      <td>NaN</td>\n",
              "      <td>NaN</td>\n",
              "      <td>NaN</td>\n",
              "      <td>NaN</td>\n",
              "      <td>NaN</td>\n",
              "      <td>NaN</td>\n",
              "      <td>NaN</td>\n",
              "    </tr>\n",
              "    <tr>\n",
              "      <th>4</th>\n",
              "      <td>2011-12-31 07:56:00</td>\n",
              "      <td>NaN</td>\n",
              "      <td>NaN</td>\n",
              "      <td>NaN</td>\n",
              "      <td>NaN</td>\n",
              "      <td>NaN</td>\n",
              "      <td>NaN</td>\n",
              "      <td>NaN</td>\n",
              "    </tr>\n",
              "    <tr>\n",
              "      <th>...</th>\n",
              "      <td>...</td>\n",
              "      <td>...</td>\n",
              "      <td>...</td>\n",
              "      <td>...</td>\n",
              "      <td>...</td>\n",
              "      <td>...</td>\n",
              "      <td>...</td>\n",
              "      <td>...</td>\n",
              "    </tr>\n",
              "    <tr>\n",
              "      <th>3997692</th>\n",
              "      <td>2019-08-11 23:56:00</td>\n",
              "      <td>11555.57</td>\n",
              "      <td>11555.57</td>\n",
              "      <td>11540.37</td>\n",
              "      <td>11540.58</td>\n",
              "      <td>0.036868</td>\n",
              "      <td>425.909106</td>\n",
              "      <td>11552.336234</td>\n",
              "    </tr>\n",
              "    <tr>\n",
              "      <th>3997693</th>\n",
              "      <td>2019-08-11 23:57:00</td>\n",
              "      <td>11553.49</td>\n",
              "      <td>11556.22</td>\n",
              "      <td>11553.49</td>\n",
              "      <td>11556.22</td>\n",
              "      <td>0.623462</td>\n",
              "      <td>7204.428272</td>\n",
              "      <td>11555.520505</td>\n",
              "    </tr>\n",
              "    <tr>\n",
              "      <th>3997694</th>\n",
              "      <td>2019-08-11 23:58:00</td>\n",
              "      <td>11559.73</td>\n",
              "      <td>11561.22</td>\n",
              "      <td>11546.77</td>\n",
              "      <td>11561.22</td>\n",
              "      <td>0.159070</td>\n",
              "      <td>1838.731403</td>\n",
              "      <td>11559.252199</td>\n",
              "    </tr>\n",
              "    <tr>\n",
              "      <th>3997695</th>\n",
              "      <td>2019-08-11 23:59:00</td>\n",
              "      <td>11559.73</td>\n",
              "      <td>11589.73</td>\n",
              "      <td>11528.73</td>\n",
              "      <td>11528.73</td>\n",
              "      <td>16.198210</td>\n",
              "      <td>187504.635170</td>\n",
              "      <td>11575.638889</td>\n",
              "    </tr>\n",
              "    <tr>\n",
              "      <th>3997696</th>\n",
              "      <td>2019-08-12 00:00:00</td>\n",
              "      <td>11527.44</td>\n",
              "      <td>11551.57</td>\n",
              "      <td>11520.00</td>\n",
              "      <td>11520.00</td>\n",
              "      <td>23.805939</td>\n",
              "      <td>274731.256920</td>\n",
              "      <td>11540.450291</td>\n",
              "    </tr>\n",
              "  </tbody>\n",
              "</table>\n",
              "<p>3997697 rows × 8 columns</p>\n",
              "</div>"
            ],
            "text/plain": [
              "                  Timestamp      Open  ...  Volume_(Currency)  Weighted_Price\n",
              "0       2011-12-31 07:52:00      4.39  ...           2.000000        4.390000\n",
              "1       2011-12-31 07:53:00       NaN  ...                NaN             NaN\n",
              "2       2011-12-31 07:54:00       NaN  ...                NaN             NaN\n",
              "3       2011-12-31 07:55:00       NaN  ...                NaN             NaN\n",
              "4       2011-12-31 07:56:00       NaN  ...                NaN             NaN\n",
              "...                     ...       ...  ...                ...             ...\n",
              "3997692 2019-08-11 23:56:00  11555.57  ...         425.909106    11552.336234\n",
              "3997693 2019-08-11 23:57:00  11553.49  ...        7204.428272    11555.520505\n",
              "3997694 2019-08-11 23:58:00  11559.73  ...        1838.731403    11559.252199\n",
              "3997695 2019-08-11 23:59:00  11559.73  ...      187504.635170    11575.638889\n",
              "3997696 2019-08-12 00:00:00  11527.44  ...      274731.256920    11540.450291\n",
              "\n",
              "[3997697 rows x 8 columns]"
            ]
          },
          "metadata": {
            "tags": []
          },
          "execution_count": 58
        }
      ]
    },
    {
      "cell_type": "code",
      "metadata": {
        "id": "NOV7lMKDotNp",
        "colab_type": "code",
        "colab": {}
      },
      "source": [
        "mask = (btc_df['Timestamp'] >= '2018-07-11 19:35') & (btc_df['Timestamp'] <= '2018-07-24 08:17')\n"
      ],
      "execution_count": 0,
      "outputs": []
    },
    {
      "cell_type": "code",
      "metadata": {
        "id": "7wAZUiAaqIUz",
        "colab_type": "code",
        "colab": {}
      },
      "source": [
        "btc_df = btc_df.loc[mask]"
      ],
      "execution_count": 0,
      "outputs": []
    },
    {
      "cell_type": "code",
      "metadata": {
        "id": "HtfBYud1qM-I",
        "colab_type": "code",
        "outputId": "b0213bd9-ed14-4ca0-e5c3-e30726353d1d",
        "colab": {
          "base_uri": "https://localhost:8080/",
          "height": 419
        }
      },
      "source": [
        "btc_df.reset_index(inplace=True,drop=True)\n",
        "btc_df"
      ],
      "execution_count": 0,
      "outputs": [
        {
          "output_type": "execute_result",
          "data": {
            "text/html": [
              "<div>\n",
              "<style scoped>\n",
              "    .dataframe tbody tr th:only-of-type {\n",
              "        vertical-align: middle;\n",
              "    }\n",
              "\n",
              "    .dataframe tbody tr th {\n",
              "        vertical-align: top;\n",
              "    }\n",
              "\n",
              "    .dataframe thead th {\n",
              "        text-align: right;\n",
              "    }\n",
              "</style>\n",
              "<table border=\"1\" class=\"dataframe\">\n",
              "  <thead>\n",
              "    <tr style=\"text-align: right;\">\n",
              "      <th></th>\n",
              "      <th>Timestamp</th>\n",
              "      <th>Open</th>\n",
              "      <th>High</th>\n",
              "      <th>Low</th>\n",
              "      <th>Close</th>\n",
              "      <th>Volume_(BTC)</th>\n",
              "      <th>Volume_(Currency)</th>\n",
              "      <th>Weighted_Price</th>\n",
              "    </tr>\n",
              "  </thead>\n",
              "  <tbody>\n",
              "    <tr>\n",
              "      <th>0</th>\n",
              "      <td>2018-07-11 19:35:00</td>\n",
              "      <td>6325.90</td>\n",
              "      <td>6327.93</td>\n",
              "      <td>6299.83</td>\n",
              "      <td>6300.00</td>\n",
              "      <td>285.687119</td>\n",
              "      <td>1.801016e+06</td>\n",
              "      <td>6304.156385</td>\n",
              "    </tr>\n",
              "    <tr>\n",
              "      <th>1</th>\n",
              "      <td>2018-07-11 19:36:00</td>\n",
              "      <td>6300.95</td>\n",
              "      <td>6304.08</td>\n",
              "      <td>6291.00</td>\n",
              "      <td>6293.04</td>\n",
              "      <td>142.725122</td>\n",
              "      <td>8.989601e+05</td>\n",
              "      <td>6298.541264</td>\n",
              "    </tr>\n",
              "    <tr>\n",
              "      <th>2</th>\n",
              "      <td>2018-07-11 19:37:00</td>\n",
              "      <td>6293.04</td>\n",
              "      <td>6300.00</td>\n",
              "      <td>6293.04</td>\n",
              "      <td>6295.50</td>\n",
              "      <td>9.574724</td>\n",
              "      <td>6.031536e+04</td>\n",
              "      <td>6299.435459</td>\n",
              "    </tr>\n",
              "    <tr>\n",
              "      <th>3</th>\n",
              "      <td>2018-07-11 19:38:00</td>\n",
              "      <td>6299.99</td>\n",
              "      <td>6306.99</td>\n",
              "      <td>6299.98</td>\n",
              "      <td>6306.99</td>\n",
              "      <td>130.653981</td>\n",
              "      <td>8.231237e+05</td>\n",
              "      <td>6300.027354</td>\n",
              "    </tr>\n",
              "    <tr>\n",
              "      <th>4</th>\n",
              "      <td>2018-07-11 19:39:00</td>\n",
              "      <td>6307.89</td>\n",
              "      <td>6312.63</td>\n",
              "      <td>6303.04</td>\n",
              "      <td>6307.96</td>\n",
              "      <td>2.452288</td>\n",
              "      <td>1.546638e+04</td>\n",
              "      <td>6306.917629</td>\n",
              "    </tr>\n",
              "    <tr>\n",
              "      <th>...</th>\n",
              "      <td>...</td>\n",
              "      <td>...</td>\n",
              "      <td>...</td>\n",
              "      <td>...</td>\n",
              "      <td>...</td>\n",
              "      <td>...</td>\n",
              "      <td>...</td>\n",
              "      <td>...</td>\n",
              "    </tr>\n",
              "    <tr>\n",
              "      <th>18038</th>\n",
              "      <td>2018-07-24 08:13:00</td>\n",
              "      <td>7988.99</td>\n",
              "      <td>7989.01</td>\n",
              "      <td>7982.75</td>\n",
              "      <td>7986.59</td>\n",
              "      <td>5.748321</td>\n",
              "      <td>4.591996e+04</td>\n",
              "      <td>7988.413456</td>\n",
              "    </tr>\n",
              "    <tr>\n",
              "      <th>18039</th>\n",
              "      <td>2018-07-24 08:14:00</td>\n",
              "      <td>7985.99</td>\n",
              "      <td>7993.98</td>\n",
              "      <td>7985.99</td>\n",
              "      <td>7993.98</td>\n",
              "      <td>1.626415</td>\n",
              "      <td>1.299918e+04</td>\n",
              "      <td>7992.532816</td>\n",
              "    </tr>\n",
              "    <tr>\n",
              "      <th>18040</th>\n",
              "      <td>2018-07-24 08:15:00</td>\n",
              "      <td>7991.78</td>\n",
              "      <td>8000.99</td>\n",
              "      <td>7991.78</td>\n",
              "      <td>8000.99</td>\n",
              "      <td>11.275343</td>\n",
              "      <td>9.019224e+04</td>\n",
              "      <td>7999.068113</td>\n",
              "    </tr>\n",
              "    <tr>\n",
              "      <th>18041</th>\n",
              "      <td>2018-07-24 08:16:00</td>\n",
              "      <td>7997.61</td>\n",
              "      <td>8003.95</td>\n",
              "      <td>7995.40</td>\n",
              "      <td>8000.14</td>\n",
              "      <td>2.959437</td>\n",
              "      <td>2.367199e+04</td>\n",
              "      <td>7998.813555</td>\n",
              "    </tr>\n",
              "    <tr>\n",
              "      <th>18042</th>\n",
              "      <td>2018-07-24 08:17:00</td>\n",
              "      <td>7996.36</td>\n",
              "      <td>8000.36</td>\n",
              "      <td>7986.96</td>\n",
              "      <td>7989.12</td>\n",
              "      <td>3.421646</td>\n",
              "      <td>2.734174e+04</td>\n",
              "      <td>7990.817103</td>\n",
              "    </tr>\n",
              "  </tbody>\n",
              "</table>\n",
              "<p>18043 rows × 8 columns</p>\n",
              "</div>"
            ],
            "text/plain": [
              "                Timestamp     Open  ...  Volume_(Currency)  Weighted_Price\n",
              "0     2018-07-11 19:35:00  6325.90  ...       1.801016e+06     6304.156385\n",
              "1     2018-07-11 19:36:00  6300.95  ...       8.989601e+05     6298.541264\n",
              "2     2018-07-11 19:37:00  6293.04  ...       6.031536e+04     6299.435459\n",
              "3     2018-07-11 19:38:00  6299.99  ...       8.231237e+05     6300.027354\n",
              "4     2018-07-11 19:39:00  6307.89  ...       1.546638e+04     6306.917629\n",
              "...                   ...      ...  ...                ...             ...\n",
              "18038 2018-07-24 08:13:00  7988.99  ...       4.591996e+04     7988.413456\n",
              "18039 2018-07-24 08:14:00  7985.99  ...       1.299918e+04     7992.532816\n",
              "18040 2018-07-24 08:15:00  7991.78  ...       9.019224e+04     7999.068113\n",
              "18041 2018-07-24 08:16:00  7997.61  ...       2.367199e+04     7998.813555\n",
              "18042 2018-07-24 08:17:00  7996.36  ...       2.734174e+04     7990.817103\n",
              "\n",
              "[18043 rows x 8 columns]"
            ]
          },
          "metadata": {
            "tags": []
          },
          "execution_count": 72
        }
      ]
    },
    {
      "cell_type": "code",
      "metadata": {
        "id": "Kzk73P9gqPQF",
        "colab_type": "code",
        "colab": {}
      },
      "source": [
        "btc_tw_df = pd.concat([btc_df,tw_df],axis=1)"
      ],
      "execution_count": 0,
      "outputs": []
    },
    {
      "cell_type": "code",
      "metadata": {
        "id": "TjjbTA8VquRN",
        "colab_type": "code",
        "outputId": "c77d6eaa-0262-4ab4-d160-e0ac25d16a53",
        "colab": {
          "base_uri": "https://localhost:8080/",
          "height": 419
        }
      },
      "source": [
        "btc_tw_df.drop('timestamp',axis=1,inplace=True)\n",
        "btc_tw_df"
      ],
      "execution_count": 0,
      "outputs": [
        {
          "output_type": "execute_result",
          "data": {
            "text/html": [
              "<div>\n",
              "<style scoped>\n",
              "    .dataframe tbody tr th:only-of-type {\n",
              "        vertical-align: middle;\n",
              "    }\n",
              "\n",
              "    .dataframe tbody tr th {\n",
              "        vertical-align: top;\n",
              "    }\n",
              "\n",
              "    .dataframe thead th {\n",
              "        text-align: right;\n",
              "    }\n",
              "</style>\n",
              "<table border=\"1\" class=\"dataframe\">\n",
              "  <thead>\n",
              "    <tr style=\"text-align: right;\">\n",
              "      <th></th>\n",
              "      <th>Timestamp</th>\n",
              "      <th>Open</th>\n",
              "      <th>High</th>\n",
              "      <th>Low</th>\n",
              "      <th>Close</th>\n",
              "      <th>Volume_(BTC)</th>\n",
              "      <th>Volume_(Currency)</th>\n",
              "      <th>Weighted_Price</th>\n",
              "      <th>negative</th>\n",
              "      <th>neutral</th>\n",
              "      <th>positive</th>\n",
              "    </tr>\n",
              "  </thead>\n",
              "  <tbody>\n",
              "    <tr>\n",
              "      <th>0</th>\n",
              "      <td>2018-07-11 19:35:00</td>\n",
              "      <td>6325.90</td>\n",
              "      <td>6327.93</td>\n",
              "      <td>6299.83</td>\n",
              "      <td>6300.00</td>\n",
              "      <td>285.687119</td>\n",
              "      <td>1.801016e+06</td>\n",
              "      <td>6304.156385</td>\n",
              "      <td>3</td>\n",
              "      <td>31</td>\n",
              "      <td>16</td>\n",
              "    </tr>\n",
              "    <tr>\n",
              "      <th>1</th>\n",
              "      <td>2018-07-11 19:36:00</td>\n",
              "      <td>6300.95</td>\n",
              "      <td>6304.08</td>\n",
              "      <td>6291.00</td>\n",
              "      <td>6293.04</td>\n",
              "      <td>142.725122</td>\n",
              "      <td>8.989601e+05</td>\n",
              "      <td>6298.541264</td>\n",
              "      <td>4</td>\n",
              "      <td>36</td>\n",
              "      <td>18</td>\n",
              "    </tr>\n",
              "    <tr>\n",
              "      <th>2</th>\n",
              "      <td>2018-07-11 19:37:00</td>\n",
              "      <td>6293.04</td>\n",
              "      <td>6300.00</td>\n",
              "      <td>6293.04</td>\n",
              "      <td>6295.50</td>\n",
              "      <td>9.574724</td>\n",
              "      <td>6.031536e+04</td>\n",
              "      <td>6299.435459</td>\n",
              "      <td>5</td>\n",
              "      <td>53</td>\n",
              "      <td>18</td>\n",
              "    </tr>\n",
              "    <tr>\n",
              "      <th>3</th>\n",
              "      <td>2018-07-11 19:38:00</td>\n",
              "      <td>6299.99</td>\n",
              "      <td>6306.99</td>\n",
              "      <td>6299.98</td>\n",
              "      <td>6306.99</td>\n",
              "      <td>130.653981</td>\n",
              "      <td>8.231237e+05</td>\n",
              "      <td>6300.027354</td>\n",
              "      <td>1</td>\n",
              "      <td>40</td>\n",
              "      <td>10</td>\n",
              "    </tr>\n",
              "    <tr>\n",
              "      <th>4</th>\n",
              "      <td>2018-07-11 19:39:00</td>\n",
              "      <td>6307.89</td>\n",
              "      <td>6312.63</td>\n",
              "      <td>6303.04</td>\n",
              "      <td>6307.96</td>\n",
              "      <td>2.452288</td>\n",
              "      <td>1.546638e+04</td>\n",
              "      <td>6306.917629</td>\n",
              "      <td>3</td>\n",
              "      <td>49</td>\n",
              "      <td>19</td>\n",
              "    </tr>\n",
              "    <tr>\n",
              "      <th>...</th>\n",
              "      <td>...</td>\n",
              "      <td>...</td>\n",
              "      <td>...</td>\n",
              "      <td>...</td>\n",
              "      <td>...</td>\n",
              "      <td>...</td>\n",
              "      <td>...</td>\n",
              "      <td>...</td>\n",
              "      <td>...</td>\n",
              "      <td>...</td>\n",
              "      <td>...</td>\n",
              "    </tr>\n",
              "    <tr>\n",
              "      <th>18038</th>\n",
              "      <td>2018-07-24 08:13:00</td>\n",
              "      <td>7988.99</td>\n",
              "      <td>7989.01</td>\n",
              "      <td>7982.75</td>\n",
              "      <td>7986.59</td>\n",
              "      <td>5.748321</td>\n",
              "      <td>4.591996e+04</td>\n",
              "      <td>7988.413456</td>\n",
              "      <td>1</td>\n",
              "      <td>69</td>\n",
              "      <td>21</td>\n",
              "    </tr>\n",
              "    <tr>\n",
              "      <th>18039</th>\n",
              "      <td>2018-07-24 08:14:00</td>\n",
              "      <td>7985.99</td>\n",
              "      <td>7993.98</td>\n",
              "      <td>7985.99</td>\n",
              "      <td>7993.98</td>\n",
              "      <td>1.626415</td>\n",
              "      <td>1.299918e+04</td>\n",
              "      <td>7992.532816</td>\n",
              "      <td>9</td>\n",
              "      <td>71</td>\n",
              "      <td>17</td>\n",
              "    </tr>\n",
              "    <tr>\n",
              "      <th>18040</th>\n",
              "      <td>2018-07-24 08:15:00</td>\n",
              "      <td>7991.78</td>\n",
              "      <td>8000.99</td>\n",
              "      <td>7991.78</td>\n",
              "      <td>8000.99</td>\n",
              "      <td>11.275343</td>\n",
              "      <td>9.019224e+04</td>\n",
              "      <td>7999.068113</td>\n",
              "      <td>6</td>\n",
              "      <td>95</td>\n",
              "      <td>40</td>\n",
              "    </tr>\n",
              "    <tr>\n",
              "      <th>18041</th>\n",
              "      <td>2018-07-24 08:16:00</td>\n",
              "      <td>7997.61</td>\n",
              "      <td>8003.95</td>\n",
              "      <td>7995.40</td>\n",
              "      <td>8000.14</td>\n",
              "      <td>2.959437</td>\n",
              "      <td>2.367199e+04</td>\n",
              "      <td>7998.813555</td>\n",
              "      <td>6</td>\n",
              "      <td>76</td>\n",
              "      <td>26</td>\n",
              "    </tr>\n",
              "    <tr>\n",
              "      <th>18042</th>\n",
              "      <td>2018-07-24 08:17:00</td>\n",
              "      <td>7996.36</td>\n",
              "      <td>8000.36</td>\n",
              "      <td>7986.96</td>\n",
              "      <td>7989.12</td>\n",
              "      <td>3.421646</td>\n",
              "      <td>2.734174e+04</td>\n",
              "      <td>7990.817103</td>\n",
              "      <td>1</td>\n",
              "      <td>5</td>\n",
              "      <td>2</td>\n",
              "    </tr>\n",
              "  </tbody>\n",
              "</table>\n",
              "<p>18043 rows × 11 columns</p>\n",
              "</div>"
            ],
            "text/plain": [
              "                Timestamp     Open     High  ...  negative  neutral  positive\n",
              "0     2018-07-11 19:35:00  6325.90  6327.93  ...         3       31        16\n",
              "1     2018-07-11 19:36:00  6300.95  6304.08  ...         4       36        18\n",
              "2     2018-07-11 19:37:00  6293.04  6300.00  ...         5       53        18\n",
              "3     2018-07-11 19:38:00  6299.99  6306.99  ...         1       40        10\n",
              "4     2018-07-11 19:39:00  6307.89  6312.63  ...         3       49        19\n",
              "...                   ...      ...      ...  ...       ...      ...       ...\n",
              "18038 2018-07-24 08:13:00  7988.99  7989.01  ...         1       69        21\n",
              "18039 2018-07-24 08:14:00  7985.99  7993.98  ...         9       71        17\n",
              "18040 2018-07-24 08:15:00  7991.78  8000.99  ...         6       95        40\n",
              "18041 2018-07-24 08:16:00  7997.61  8003.95  ...         6       76        26\n",
              "18042 2018-07-24 08:17:00  7996.36  8000.36  ...         1        5         2\n",
              "\n",
              "[18043 rows x 11 columns]"
            ]
          },
          "metadata": {
            "tags": []
          },
          "execution_count": 75
        }
      ]
    },
    {
      "cell_type": "code",
      "metadata": {
        "id": "cEQAYWpcy0uC",
        "colab_type": "code",
        "colab": {}
      },
      "source": [
        "btc_tw_df['daily_change']=btc_tw_df['Close']-btc_tw_df['Open']"
      ],
      "execution_count": 0,
      "outputs": []
    },
    {
      "cell_type": "code",
      "metadata": {
        "id": "a3NvekkzzFcP",
        "colab_type": "code",
        "outputId": "fda132d8-db59-453c-a258-ec8269486849",
        "colab": {
          "base_uri": "https://localhost:8080/",
          "height": 419
        }
      },
      "source": [
        "btc_tw_df"
      ],
      "execution_count": 0,
      "outputs": [
        {
          "output_type": "execute_result",
          "data": {
            "text/html": [
              "<div>\n",
              "<style scoped>\n",
              "    .dataframe tbody tr th:only-of-type {\n",
              "        vertical-align: middle;\n",
              "    }\n",
              "\n",
              "    .dataframe tbody tr th {\n",
              "        vertical-align: top;\n",
              "    }\n",
              "\n",
              "    .dataframe thead th {\n",
              "        text-align: right;\n",
              "    }\n",
              "</style>\n",
              "<table border=\"1\" class=\"dataframe\">\n",
              "  <thead>\n",
              "    <tr style=\"text-align: right;\">\n",
              "      <th></th>\n",
              "      <th>Timestamp</th>\n",
              "      <th>Open</th>\n",
              "      <th>High</th>\n",
              "      <th>Low</th>\n",
              "      <th>Close</th>\n",
              "      <th>Volume_(BTC)</th>\n",
              "      <th>Volume_(Currency)</th>\n",
              "      <th>Weighted_Price</th>\n",
              "      <th>negative</th>\n",
              "      <th>neutral</th>\n",
              "      <th>positive</th>\n",
              "      <th>daily_change</th>\n",
              "    </tr>\n",
              "  </thead>\n",
              "  <tbody>\n",
              "    <tr>\n",
              "      <th>0</th>\n",
              "      <td>2018-07-11 19:35:00</td>\n",
              "      <td>6325.90</td>\n",
              "      <td>6327.93</td>\n",
              "      <td>6299.83</td>\n",
              "      <td>6300.00</td>\n",
              "      <td>285.687119</td>\n",
              "      <td>1.801016e+06</td>\n",
              "      <td>6304.156385</td>\n",
              "      <td>3</td>\n",
              "      <td>31</td>\n",
              "      <td>16</td>\n",
              "      <td>-25.90</td>\n",
              "    </tr>\n",
              "    <tr>\n",
              "      <th>1</th>\n",
              "      <td>2018-07-11 19:36:00</td>\n",
              "      <td>6300.95</td>\n",
              "      <td>6304.08</td>\n",
              "      <td>6291.00</td>\n",
              "      <td>6293.04</td>\n",
              "      <td>142.725122</td>\n",
              "      <td>8.989601e+05</td>\n",
              "      <td>6298.541264</td>\n",
              "      <td>4</td>\n",
              "      <td>36</td>\n",
              "      <td>18</td>\n",
              "      <td>-7.91</td>\n",
              "    </tr>\n",
              "    <tr>\n",
              "      <th>2</th>\n",
              "      <td>2018-07-11 19:37:00</td>\n",
              "      <td>6293.04</td>\n",
              "      <td>6300.00</td>\n",
              "      <td>6293.04</td>\n",
              "      <td>6295.50</td>\n",
              "      <td>9.574724</td>\n",
              "      <td>6.031536e+04</td>\n",
              "      <td>6299.435459</td>\n",
              "      <td>5</td>\n",
              "      <td>53</td>\n",
              "      <td>18</td>\n",
              "      <td>2.46</td>\n",
              "    </tr>\n",
              "    <tr>\n",
              "      <th>3</th>\n",
              "      <td>2018-07-11 19:38:00</td>\n",
              "      <td>6299.99</td>\n",
              "      <td>6306.99</td>\n",
              "      <td>6299.98</td>\n",
              "      <td>6306.99</td>\n",
              "      <td>130.653981</td>\n",
              "      <td>8.231237e+05</td>\n",
              "      <td>6300.027354</td>\n",
              "      <td>1</td>\n",
              "      <td>40</td>\n",
              "      <td>10</td>\n",
              "      <td>7.00</td>\n",
              "    </tr>\n",
              "    <tr>\n",
              "      <th>4</th>\n",
              "      <td>2018-07-11 19:39:00</td>\n",
              "      <td>6307.89</td>\n",
              "      <td>6312.63</td>\n",
              "      <td>6303.04</td>\n",
              "      <td>6307.96</td>\n",
              "      <td>2.452288</td>\n",
              "      <td>1.546638e+04</td>\n",
              "      <td>6306.917629</td>\n",
              "      <td>3</td>\n",
              "      <td>49</td>\n",
              "      <td>19</td>\n",
              "      <td>0.07</td>\n",
              "    </tr>\n",
              "    <tr>\n",
              "      <th>...</th>\n",
              "      <td>...</td>\n",
              "      <td>...</td>\n",
              "      <td>...</td>\n",
              "      <td>...</td>\n",
              "      <td>...</td>\n",
              "      <td>...</td>\n",
              "      <td>...</td>\n",
              "      <td>...</td>\n",
              "      <td>...</td>\n",
              "      <td>...</td>\n",
              "      <td>...</td>\n",
              "      <td>...</td>\n",
              "    </tr>\n",
              "    <tr>\n",
              "      <th>18038</th>\n",
              "      <td>2018-07-24 08:13:00</td>\n",
              "      <td>7988.99</td>\n",
              "      <td>7989.01</td>\n",
              "      <td>7982.75</td>\n",
              "      <td>7986.59</td>\n",
              "      <td>5.748321</td>\n",
              "      <td>4.591996e+04</td>\n",
              "      <td>7988.413456</td>\n",
              "      <td>1</td>\n",
              "      <td>69</td>\n",
              "      <td>21</td>\n",
              "      <td>-2.40</td>\n",
              "    </tr>\n",
              "    <tr>\n",
              "      <th>18039</th>\n",
              "      <td>2018-07-24 08:14:00</td>\n",
              "      <td>7985.99</td>\n",
              "      <td>7993.98</td>\n",
              "      <td>7985.99</td>\n",
              "      <td>7993.98</td>\n",
              "      <td>1.626415</td>\n",
              "      <td>1.299918e+04</td>\n",
              "      <td>7992.532816</td>\n",
              "      <td>9</td>\n",
              "      <td>71</td>\n",
              "      <td>17</td>\n",
              "      <td>7.99</td>\n",
              "    </tr>\n",
              "    <tr>\n",
              "      <th>18040</th>\n",
              "      <td>2018-07-24 08:15:00</td>\n",
              "      <td>7991.78</td>\n",
              "      <td>8000.99</td>\n",
              "      <td>7991.78</td>\n",
              "      <td>8000.99</td>\n",
              "      <td>11.275343</td>\n",
              "      <td>9.019224e+04</td>\n",
              "      <td>7999.068113</td>\n",
              "      <td>6</td>\n",
              "      <td>95</td>\n",
              "      <td>40</td>\n",
              "      <td>9.21</td>\n",
              "    </tr>\n",
              "    <tr>\n",
              "      <th>18041</th>\n",
              "      <td>2018-07-24 08:16:00</td>\n",
              "      <td>7997.61</td>\n",
              "      <td>8003.95</td>\n",
              "      <td>7995.40</td>\n",
              "      <td>8000.14</td>\n",
              "      <td>2.959437</td>\n",
              "      <td>2.367199e+04</td>\n",
              "      <td>7998.813555</td>\n",
              "      <td>6</td>\n",
              "      <td>76</td>\n",
              "      <td>26</td>\n",
              "      <td>2.53</td>\n",
              "    </tr>\n",
              "    <tr>\n",
              "      <th>18042</th>\n",
              "      <td>2018-07-24 08:17:00</td>\n",
              "      <td>7996.36</td>\n",
              "      <td>8000.36</td>\n",
              "      <td>7986.96</td>\n",
              "      <td>7989.12</td>\n",
              "      <td>3.421646</td>\n",
              "      <td>2.734174e+04</td>\n",
              "      <td>7990.817103</td>\n",
              "      <td>1</td>\n",
              "      <td>5</td>\n",
              "      <td>2</td>\n",
              "      <td>-7.24</td>\n",
              "    </tr>\n",
              "  </tbody>\n",
              "</table>\n",
              "<p>18043 rows × 12 columns</p>\n",
              "</div>"
            ],
            "text/plain": [
              "                Timestamp     Open     High  ...  neutral  positive  daily_change\n",
              "0     2018-07-11 19:35:00  6325.90  6327.93  ...       31        16        -25.90\n",
              "1     2018-07-11 19:36:00  6300.95  6304.08  ...       36        18         -7.91\n",
              "2     2018-07-11 19:37:00  6293.04  6300.00  ...       53        18          2.46\n",
              "3     2018-07-11 19:38:00  6299.99  6306.99  ...       40        10          7.00\n",
              "4     2018-07-11 19:39:00  6307.89  6312.63  ...       49        19          0.07\n",
              "...                   ...      ...      ...  ...      ...       ...           ...\n",
              "18038 2018-07-24 08:13:00  7988.99  7989.01  ...       69        21         -2.40\n",
              "18039 2018-07-24 08:14:00  7985.99  7993.98  ...       71        17          7.99\n",
              "18040 2018-07-24 08:15:00  7991.78  8000.99  ...       95        40          9.21\n",
              "18041 2018-07-24 08:16:00  7997.61  8003.95  ...       76        26          2.53\n",
              "18042 2018-07-24 08:17:00  7996.36  8000.36  ...        5         2         -7.24\n",
              "\n",
              "[18043 rows x 12 columns]"
            ]
          },
          "metadata": {
            "tags": []
          },
          "execution_count": 115
        }
      ]
    },
    {
      "cell_type": "code",
      "metadata": {
        "id": "ltiDGjFGGQiM",
        "colab_type": "code",
        "colab": {}
      },
      "source": [
        "btc_tw_df.to_csv('/content/drive/My Drive/Colab Notebooks/btc_tw.csv')"
      ],
      "execution_count": 0,
      "outputs": []
    },
    {
      "cell_type": "code",
      "metadata": {
        "id": "Z5oOpPNofT-x",
        "colab_type": "code",
        "colab": {}
      },
      "source": [
        "btc_tw_df=pd.read_csv('/content/drive/My Drive/Colab Notebooks/btc_tw.csv')"
      ],
      "execution_count": 0,
      "outputs": []
    },
    {
      "cell_type": "code",
      "metadata": {
        "id": "1s2ry0Blqv4W",
        "colab_type": "code",
        "outputId": "56b87699-376a-40fa-8418-ed76a1a51eea",
        "colab": {
          "base_uri": "https://localhost:8080/",
          "height": 643
        }
      },
      "source": [
        "fig = plt.gcf()\n",
        "fig.set_size_inches( 16, 10)\n",
        "sns.lineplot(x=\"Timestamp\", y=\"Weighted_Price\", data=btc_tw_df)\n",
        "plt.xticks(rotation=15)\n",
        "plt.title('time series for btc price')\n",
        "plt.show()"
      ],
      "execution_count": 0,
      "outputs": [
        {
          "output_type": "display_data",
          "data": {
            "image/png": "[encoded data removed]",
            "text/plain": [
              "<Figure size 1152x720 with 1 Axes>"
            ]
          },
          "metadata": {
            "tags": []
          }
        }
      ]
    },
    {
      "cell_type": "code",
      "metadata": {
        "id": "DSMSVg_Vtoxz",
        "colab_type": "code",
        "outputId": "91de3094-7ec6-4db3-acea-849efd73e1c1",
        "colab": {
          "base_uri": "https://localhost:8080/",
          "height": 643
        }
      },
      "source": [
        "fig = plt.gcf()\n",
        "fig.set_size_inches( 16, 10)\n",
        "sns.lineplot(x=\"Timestamp\", y=\"daily_change\", data=btc_tw_df)\n",
        "plt.xticks(rotation=15)\n",
        "plt.title('time series for btc price change on daily basis')\n",
        "plt.show()"
      ],
      "execution_count": 0,
      "outputs": [
        {
          "output_type": "display_data",
          "data": {
            "image/png": "[encoded data removed]",
            "text/plain": [
              "<Figure size 1152x720 with 1 Axes>"
            ]
          },
          "metadata": {
            "tags": []
          }
        }
      ]
    },
    {
      "cell_type": "markdown",
      "metadata": {
        "id": "vMSQ_9A21vv5",
        "colab_type": "text"
      },
      "source": [
        "## Construct time series model\n"
      ]
    },
    {
      "cell_type": "markdown",
      "metadata": {
        "id": "H42lBUdXXZUX",
        "colab_type": "text"
      },
      "source": [
        "### SARIMAX model"
      ]
    },
    {
      "cell_type": "markdown",
      "metadata": {
        "id": "XzZGvAXUIt-2",
        "colab_type": "text"
      },
      "source": [
        "#### Stationarity check"
      ]
    },
    {
      "cell_type": "code",
      "metadata": {
        "id": "x73HEIJ9LZvH",
        "colab_type": "code",
        "colab": {}
      },
      "source": [
        "btc_diff = pd.DataFrame(btc_tw_df.Weighted_Price.diff()).dropna()"
      ],
      "execution_count": 0,
      "outputs": []
    },
    {
      "cell_type": "code",
      "metadata": {
        "id": "4EjN1A6dNIfy",
        "colab_type": "code",
        "colab": {
          "base_uri": "https://localhost:8080/",
          "height": 204
        },
        "outputId": "b28f857b-0e63-4b23-a1f7-732ce5aad93f"
      },
      "source": [
        "btc_diff.head()"
      ],
      "execution_count": 27,
      "outputs": [
        {
          "output_type": "execute_result",
          "data": {
            "text/html": [
              "<div>\n",
              "<style scoped>\n",
              "    .dataframe tbody tr th:only-of-type {\n",
              "        vertical-align: middle;\n",
              "    }\n",
              "\n",
              "    .dataframe tbody tr th {\n",
              "        vertical-align: top;\n",
              "    }\n",
              "\n",
              "    .dataframe thead th {\n",
              "        text-align: right;\n",
              "    }\n",
              "</style>\n",
              "<table border=\"1\" class=\"dataframe\">\n",
              "  <thead>\n",
              "    <tr style=\"text-align: right;\">\n",
              "      <th></th>\n",
              "      <th>Weighted_Price</th>\n",
              "    </tr>\n",
              "  </thead>\n",
              "  <tbody>\n",
              "    <tr>\n",
              "      <th>1</th>\n",
              "      <td>-5.615121</td>\n",
              "    </tr>\n",
              "    <tr>\n",
              "      <th>2</th>\n",
              "      <td>0.894195</td>\n",
              "    </tr>\n",
              "    <tr>\n",
              "      <th>3</th>\n",
              "      <td>0.591895</td>\n",
              "    </tr>\n",
              "    <tr>\n",
              "      <th>4</th>\n",
              "      <td>6.890275</td>\n",
              "    </tr>\n",
              "    <tr>\n",
              "      <th>5</th>\n",
              "      <td>18.000057</td>\n",
              "    </tr>\n",
              "  </tbody>\n",
              "</table>\n",
              "</div>"
            ],
            "text/plain": [
              "   Weighted_Price\n",
              "1       -5.615121\n",
              "2        0.894195\n",
              "3        0.591895\n",
              "4        6.890275\n",
              "5       18.000057"
            ]
          },
          "metadata": {
            "tags": []
          },
          "execution_count": 27
        }
      ]
    },
    {
      "cell_type": "code",
      "metadata": {
        "id": "9yuHe2h4LsUp",
        "colab_type": "code",
        "colab": {
          "base_uri": "https://localhost:8080/",
          "height": 34
        },
        "outputId": "f28e91f3-62a5-464e-dc0a-049218362950"
      },
      "source": [
        "results = sm.tsa.stattools.adfuller(btc_diff.Weighted_Price)\n",
        "print(f\"P-value:{results[1]}\")"
      ],
      "execution_count": 24,
      "outputs": [
        {
          "output_type": "stream",
          "text": [
            "P-value:0.0\n"
          ],
          "name": "stdout"
        }
      ]
    },
    {
      "cell_type": "markdown",
      "metadata": {
        "id": "G4cYL_f4RKYH",
        "colab_type": "text"
      },
      "source": [
        "check with boxcox tranformation"
      ]
    },
    {
      "cell_type": "code",
      "metadata": {
        "id": "s3DFL9jyO5nX",
        "colab_type": "code",
        "colab": {
          "base_uri": "https://localhost:8080/",
          "height": 51
        },
        "outputId": "25a9e9da-30d9-456f-f839-8c9cc8f17015"
      },
      "source": [
        "btc_tw_df['Weighted_Price_box'], lmbda = stats.boxcox(btc_tw_df.Weighted_Price)"
      ],
      "execution_count": 45,
      "outputs": [
        {
          "output_type": "stream",
          "text": [
            "/usr/local/lib/python3.6/dist-packages/scipy/stats/morestats.py:1044: RuntimeWarning: invalid value encountered in less_equal\n",
            "  if any(x <= 0):\n"
          ],
          "name": "stderr"
        }
      ]
    },
    {
      "cell_type": "code",
      "metadata": {
        "id": "M6dd3wJBQXUp",
        "colab_type": "code",
        "colab": {
          "base_uri": "https://localhost:8080/",
          "height": 221
        },
        "outputId": "b7284547-15a2-4c6f-c19c-de5365f6c82d"
      },
      "source": [
        "btc_tw_df['Weighted_Price_box']"
      ],
      "execution_count": 46,
      "outputs": [
        {
          "output_type": "execute_result",
          "data": {
            "text/plain": [
              "0        1.832158e+31\n",
              "1        1.818378e+31\n",
              "2        1.820566e+31\n",
              "3        1.822016e+31\n",
              "4        1.838968e+31\n",
              "             ...     \n",
              "18038    1.362018e+32\n",
              "18039    1.367980e+32\n",
              "18040    1.377485e+32\n",
              "18041    1.377114e+32\n",
              "18042    1.365494e+32\n",
              "Name: Weighted_Price_box, Length: 18043, dtype: float64"
            ]
          },
          "metadata": {
            "tags": []
          },
          "execution_count": 46
        }
      ]
    },
    {
      "cell_type": "code",
      "metadata": {
        "id": "47sjsYYIPOCH",
        "colab_type": "code",
        "colab": {}
      },
      "source": [
        "btc_tw_box_df_diff = pd.DataFrame(btc_tw_df['Weighted_Price_box'].diff())"
      ],
      "execution_count": 0,
      "outputs": []
    },
    {
      "cell_type": "code",
      "metadata": {
        "id": "x4Eq6TGmQ3Wl",
        "colab_type": "code",
        "colab": {}
      },
      "source": [
        "btc_tw_box_df_diff.dropna(inplace=True)"
      ],
      "execution_count": 0,
      "outputs": []
    },
    {
      "cell_type": "code",
      "metadata": {
        "id": "GaxZyKaPPTKG",
        "colab_type": "code",
        "colab": {
          "base_uri": "https://localhost:8080/",
          "height": 34
        },
        "outputId": "54511711-08ff-4917-8fdb-4e3816931c44"
      },
      "source": [
        "results = sm.tsa.stattools.adfuller(btc_tw_box_df_diff.Weighted_Price_box)\n",
        "print(f\"P-value:{results[1]}\")"
      ],
      "execution_count": 58,
      "outputs": [
        {
          "output_type": "stream",
          "text": [
            "P-value:0.0\n"
          ],
          "name": "stdout"
        }
      ]
    },
    {
      "cell_type": "markdown",
      "metadata": {
        "id": "hdPFcbigKIb0",
        "colab_type": "text"
      },
      "source": [
        "#### Plot ACF and PACF"
      ]
    },
    {
      "cell_type": "code",
      "metadata": {
        "id": "j5RE0ACEKHsA",
        "colab_type": "code",
        "colab": {
          "base_uri": "https://localhost:8080/",
          "height": 437
        },
        "outputId": "bb1ec1ba-ae3e-4767-fbea-3a4bd53038a0"
      },
      "source": [
        "fig, ax = plt.subplots(figsize=(16,3))\n",
        "plot_acf(btc_tw_box_df_diff,ax=ax, lags=40);\n",
        "\n",
        "fig, ax = plt.subplots(figsize=(16,3))\n",
        "plot_pacf(btc_tw_box_df_diff,ax=ax, lags=40);"
      ],
      "execution_count": 59,
      "outputs": [
        {
          "output_type": "display_data",
          "data": {
            "image/png": "[encoded data removed]",
            "text/plain": [
              "<Figure size 1152x216 with 1 Axes>"
            ]
          },
          "metadata": {
            "tags": []
          }
        },
        {
          "output_type": "display_data",
          "data": {
            "image/png": "[encoded data removed]",
            "text/plain": [
              "<Figure size 1152x216 with 1 Axes>"
            ]
          },
          "metadata": {
            "tags": []
          }
        }
      ]
    },
    {
      "cell_type": "markdown",
      "metadata": {
        "id": "bfSODC8FN7xY",
        "colab_type": "text"
      },
      "source": [
        "\n",
        "#### Modelling"
      ]
    },
    {
      "cell_type": "markdown",
      "metadata": {
        "id": "LPcOkUBgVc7B",
        "colab_type": "text"
      },
      "source": [
        "Train test split"
      ]
    },
    {
      "cell_type": "code",
      "metadata": {
        "id": "2SPy-S5UVWQr",
        "colab_type": "code",
        "colab": {}
      },
      "source": [
        "index = round(len(btc_tw_df)*.80)\n",
        "train = btc_tw_df.Weighted_Price_box.iloc[:index]\n",
        "val = btc_tw_df.Weighted_Price_box.iloc[index:]"
      ],
      "execution_count": 0,
      "outputs": []
    },
    {
      "cell_type": "code",
      "metadata": {
        "id": "k04vT57jrojs",
        "colab_type": "code",
        "colab": {
          "base_uri": "https://localhost:8080/",
          "height": 221
        },
        "outputId": "b75a3cb2-176f-4e56-ced8-82f239e843b0"
      },
      "source": [
        "train"
      ],
      "execution_count": 114,
      "outputs": [
        {
          "output_type": "execute_result",
          "data": {
            "text/plain": [
              "0        1.832158e+31\n",
              "1        1.818378e+31\n",
              "2        1.820566e+31\n",
              "3        1.822016e+31\n",
              "4        1.838968e+31\n",
              "             ...     \n",
              "14429    7.296795e+31\n",
              "14430    7.296104e+31\n",
              "14431    7.282150e+31\n",
              "14432    7.378884e+31\n",
              "14433    7.394922e+31\n",
              "Name: Weighted_Price_box, Length: 14434, dtype: float64"
            ]
          },
          "metadata": {
            "tags": []
          },
          "execution_count": 114
        }
      ]
    },
    {
      "cell_type": "code",
      "metadata": {
        "id": "nnZMX1gtzRRU",
        "colab_type": "code",
        "colab": {}
      },
      "source": [
        "p = d = q = range(0, 3)\n",
        "pdq = list(itertools.product(p, d, q))\n"
      ],
      "execution_count": 0,
      "outputs": []
    },
    {
      "cell_type": "code",
      "metadata": {
        "id": "_TuCrLX714zP",
        "colab_type": "code",
        "outputId": "090ad5a8-b36a-4156-9abf-5dfe2db404da",
        "colab": {
          "base_uri": "https://localhost:8080/",
          "height": 476
        }
      },
      "source": [
        "pdq"
      ],
      "execution_count": 7,
      "outputs": [
        {
          "output_type": "execute_result",
          "data": {
            "text/plain": [
              "[(0, 0, 0),\n",
              " (0, 0, 1),\n",
              " (0, 0, 2),\n",
              " (0, 1, 0),\n",
              " (0, 1, 1),\n",
              " (0, 1, 2),\n",
              " (0, 2, 0),\n",
              " (0, 2, 1),\n",
              " (0, 2, 2),\n",
              " (1, 0, 0),\n",
              " (1, 0, 1),\n",
              " (1, 0, 2),\n",
              " (1, 1, 0),\n",
              " (1, 1, 1),\n",
              " (1, 1, 2),\n",
              " (1, 2, 0),\n",
              " (1, 2, 1),\n",
              " (1, 2, 2),\n",
              " (2, 0, 0),\n",
              " (2, 0, 1),\n",
              " (2, 0, 2),\n",
              " (2, 1, 0),\n",
              " (2, 1, 1),\n",
              " (2, 1, 2),\n",
              " (2, 2, 0),\n",
              " (2, 2, 1),\n",
              " (2, 2, 2)]"
            ]
          },
          "metadata": {
            "tags": []
          },
          "execution_count": 7
        }
      ]
    },
    {
      "cell_type": "code",
      "metadata": {
        "id": "C8hdLjl5HawZ",
        "colab_type": "code",
        "outputId": "e42af9d6-3d9d-4863-eada-80892fad3e06",
        "colab": {
          "base_uri": "https://localhost:8080/",
          "height": 51
        }
      },
      "source": [
        "Qs = range(0, 2)\n",
        "qs = range(0, 3)\n",
        "Ps = range(0, 3)\n",
        "ps = range(0, 3)\n",
        "D=1\n",
        "d=1\n",
        "parameters = product(ps, qs, Ps, Qs)\n",
        "parameters_list = list(parameters)\n",
        "len(parameters_list)\n",
        "\n",
        "# Model Selection\n",
        "results = []\n",
        "best_aic = float(\"inf\")\n",
        "for param in parameters_list:\n",
        "    try:\n",
        "        model=sm.tsa.statespace.SARIMAX(train.Weighted_Price_box, order=(param[0], d, param[1]), \n",
        "                                        seasonal_order=(param[2], D, param[3], 12)).fit(disp=-1)\n",
        "    except ValueError:\n",
        "        print('wrong parameters:', param)\n",
        "        continue\n",
        "    aic = model.aic\n",
        "    if aic < best_aic:\n",
        "        best_model = model\n",
        "        best_aic = aic\n",
        "        best_param = param\n",
        "    results.append([param, model.aic])"
      ],
      "execution_count": 0,
      "outputs": [
        {
          "output_type": "stream",
          "text": [
            "/usr/local/lib/python3.6/dist-packages/statsmodels/base/model.py:512: ConvergenceWarning: Maximum Likelihood optimization failed to converge. Check mle_retvals\n",
            "  \"Check mle_retvals\", ConvergenceWarning)\n"
          ],
          "name": "stderr"
        }
      ]
    },
    {
      "cell_type": "code",
      "metadata": {
        "id": "g9bomrgpK9gG",
        "colab_type": "code",
        "outputId": "98c979c5-22da-4e04-9e68-c95cf0b4c0dd",
        "colab": {
          "base_uri": "https://localhost:8080/",
          "height": 697
        }
      },
      "source": [
        "result_table = pd.DataFrame(results)\n",
        "result_table.columns = ['parameters', 'aic']\n",
        "print(result_table.sort_values(by = 'aic', ascending=True).head())\n",
        "print(best_model.summary())"
      ],
      "execution_count": 0,
      "outputs": [
        {
          "output_type": "stream",
          "text": [
            "      parameters           aic\n",
            "5   (0, 0, 2, 1)  2.487881e+06\n",
            "3   (0, 0, 1, 1)  2.487899e+06\n",
            "1   (0, 0, 0, 1)  2.487924e+06\n",
            "45  (2, 1, 1, 1)  2.490279e+06\n",
            "47  (2, 1, 2, 1)  2.490280e+06\n",
            "                                 Statespace Model Results                                 \n",
            "==========================================================================================\n",
            "Dep. Variable:                 Weighted_Price_box   No. Observations:                18043\n",
            "Model:             SARIMAX(0, 1, 0)x(2, 1, 1, 12)   Log Likelihood            -1243936.360\n",
            "Date:                            Wed, 19 Feb 2020   AIC                        2487880.721\n",
            "Time:                                    16:51:50   BIC                        2487911.920\n",
            "Sample:                                         0   HQIC                       2487890.980\n",
            "                                          - 18043                                         \n",
            "Covariance Type:                              opg                                         \n",
            "==============================================================================\n",
            "                 coef    std err          z      P>|z|      [0.025      0.975]\n",
            "------------------------------------------------------------------------------\n",
            "ar.S.L12       0.0414      0.004     10.407      0.000       0.034       0.049\n",
            "ar.S.L24      -0.0117      0.003     -4.042      0.000      -0.017      -0.006\n",
            "ma.S.L12      -0.9960      0.001  -1025.022      0.000      -0.998      -0.994\n",
            "sigma2       2.58e+59        nan        nan        nan         nan         nan\n",
            "===================================================================================\n",
            "Ljung-Box (Q):                      371.52   Jarque-Bera (JB):            530484.91\n",
            "Prob(Q):                              0.00   Prob(JB):                         0.00\n",
            "Heteroskedasticity (H):              14.19   Skew:                             0.05\n",
            "Prob(H) (two-sided):                  0.00   Kurtosis:                        29.57\n",
            "===================================================================================\n",
            "\n",
            "Warnings:\n",
            "[1] Covariance matrix calculated using the outer product of gradients (complex-step).\n",
            "[2] Covariance matrix is singular or near-singular, with condition number 3.06e+136. Standard errors may be unstable.\n"
          ],
          "name": "stdout"
        },
        {
          "output_type": "stream",
          "text": [
            "/usr/local/lib/python3.6/dist-packages/statsmodels/base/model.py:1286: RuntimeWarning: invalid value encountered in sqrt\n",
            "  bse_ = np.sqrt(np.diag(self.cov_params()))\n",
            "/usr/local/lib/python3.6/dist-packages/scipy/stats/_distn_infrastructure.py:903: RuntimeWarning: invalid value encountered in greater\n",
            "  return (a < x) & (x < b)\n",
            "/usr/local/lib/python3.6/dist-packages/scipy/stats/_distn_infrastructure.py:903: RuntimeWarning: invalid value encountered in less\n",
            "  return (a < x) & (x < b)\n",
            "/usr/local/lib/python3.6/dist-packages/scipy/stats/_distn_infrastructure.py:1912: RuntimeWarning: invalid value encountered in less_equal\n",
            "  cond2 = cond0 & (x <= _a)\n"
          ],
          "name": "stderr"
        }
      ]
    },
    {
      "cell_type": "markdown",
      "metadata": {
        "id": "1R8PdAkPTw70",
        "colab_type": "text"
      },
      "source": [
        "model fitting with best parameters"
      ]
    },
    {
      "cell_type": "code",
      "metadata": {
        "id": "HqXpsx63XNzL",
        "colab_type": "code",
        "colab": {}
      },
      "source": [
        "arima_model = sm.tsa.statespace.SARIMAX(train, \n",
        "                                        order=(0, 1, 0), \n",
        "                                        seasonal_order=(2, 1, 1, 12)\n",
        "                                        )\n",
        "\n",
        "# Fit the model and print results\n",
        "output = arima_model.fit()"
      ],
      "execution_count": 0,
      "outputs": []
    },
    {
      "cell_type": "code",
      "metadata": {
        "id": "zTWregTXgEN0",
        "colab_type": "code",
        "outputId": "189d786b-5b73-406f-9e20-f4be2d4d9a6e",
        "colab": {
          "base_uri": "https://localhost:8080/",
          "height": 595
        }
      },
      "source": [
        "print(output.summary())"
      ],
      "execution_count": 117,
      "outputs": [
        {
          "output_type": "stream",
          "text": [
            "                                 Statespace Model Results                                 \n",
            "==========================================================================================\n",
            "Dep. Variable:                 Weighted_Price_box   No. Observations:                14434\n",
            "Model:             SARIMAX(0, 1, 0)x(2, 1, 1, 12)   Log Likelihood             -993826.839\n",
            "Date:                            Thu, 20 Feb 2020   AIC                        1987661.679\n",
            "Time:                                    13:01:10   BIC                        1987691.985\n",
            "Sample:                                         0   HQIC                       1987671.753\n",
            "                                          - 14434                                         \n",
            "Covariance Type:                              opg                                         \n",
            "==============================================================================\n",
            "                 coef    std err          z      P>|z|      [0.025      0.975]\n",
            "------------------------------------------------------------------------------\n",
            "ar.S.L12       0.0367      0.003     11.181      0.000       0.030       0.043\n",
            "ar.S.L24      -0.0359      0.002    -15.775      0.000      -0.040      -0.031\n",
            "ma.S.L12      -0.9965      0.001   -974.769      0.000      -0.999      -0.995\n",
            "sigma2       1.79e+59        nan        nan        nan         nan         nan\n",
            "===================================================================================\n",
            "Ljung-Box (Q):                      454.86   Jarque-Bera (JB):            860264.55\n",
            "Prob(Q):                              0.00   Prob(JB):                         0.00\n",
            "Heteroskedasticity (H):               9.27   Skew:                             0.54\n",
            "Prob(H) (two-sided):                  0.00   Kurtosis:                        40.82\n",
            "===================================================================================\n",
            "\n",
            "Warnings:\n",
            "[1] Covariance matrix calculated using the outer product of gradients (complex-step).\n",
            "[2] Covariance matrix is singular or near-singular, with condition number 9.19e+135. Standard errors may be unstable.\n"
          ],
          "name": "stdout"
        },
        {
          "output_type": "stream",
          "text": [
            "/usr/local/lib/python3.6/dist-packages/statsmodels/base/model.py:1286: RuntimeWarning: invalid value encountered in sqrt\n",
            "  bse_ = np.sqrt(np.diag(self.cov_params()))\n",
            "/usr/local/lib/python3.6/dist-packages/scipy/stats/_distn_infrastructure.py:903: RuntimeWarning: invalid value encountered in greater\n",
            "  return (a < x) & (x < b)\n",
            "/usr/local/lib/python3.6/dist-packages/scipy/stats/_distn_infrastructure.py:903: RuntimeWarning: invalid value encountered in less\n",
            "  return (a < x) & (x < b)\n",
            "/usr/local/lib/python3.6/dist-packages/scipy/stats/_distn_infrastructure.py:1912: RuntimeWarning: invalid value encountered in less_equal\n",
            "  cond2 = cond0 & (x <= _a)\n"
          ],
          "name": "stderr"
        }
      ]
    },
    {
      "cell_type": "code",
      "metadata": {
        "id": "SI3W_9jagg9w",
        "colab_type": "code",
        "colab": {}
      },
      "source": [
        "pickle.dump(arima_model, open(\"/content/drive/My Drive/Colab Notebooks/arima_model_v1.p\", \"wb\"))"
      ],
      "execution_count": 0,
      "outputs": []
    },
    {
      "cell_type": "markdown",
      "metadata": {
        "id": "h6bTDZFfT8sp",
        "colab_type": "text"
      },
      "source": [
        "#### Predict validation set"
      ]
    },
    {
      "cell_type": "code",
      "metadata": {
        "id": "5zlh9dBJ8oIq",
        "colab_type": "code",
        "colab": {}
      },
      "source": [
        "def invboxcox(y,lmbda):\n",
        "   if lmbda == 0:\n",
        "      return(np.exp(y))\n",
        "   else:\n",
        "      return(np.exp(np.log(lmbda*y+1)/lmbda))"
      ],
      "execution_count": 0,
      "outputs": []
    },
    {
      "cell_type": "code",
      "metadata": {
        "id": "k4-cSvW3XRl9",
        "colab_type": "code",
        "colab": {
          "base_uri": "https://localhost:8080/",
          "height": 51
        },
        "outputId": "b5c9330a-cf5e-47cb-f0f4-e0e9743d8be4"
      },
      "source": [
        "# Values to test against the test set\n",
        "fc   = output.get_forecast(len(val))\n",
        "conf = fc.conf_int()\n",
        "\n",
        "# Transforming the values back to normal\n",
        "fc_series    = invboxcox(fc.predicted_mean,lmbda)\n",
        "lower_series = invboxcox(conf.iloc[:, 0],lmbda)\n",
        "upper_series = invboxcox(conf.iloc[:, 1],lmbda)\n",
        "\n",
        "etrain = invboxcox(train,lmbda)\n",
        "etest  = invboxcox(val,lmbda)\n",
        "\n",
        "# Values to test against the train set, see how the model fits\n",
        "predictions = output.get_prediction(start=0, dynamic=False)\n",
        "pred        = invboxcox(predictions.predicted_mean,lmbda)\n",
        "\n",
        "# Confidence interval for the training set\n",
        "conf_int   = invboxcox(predictions.conf_int(),lmbda)\n",
        "low_conf   = invboxcox(conf_int.iloc[:,0], lmbda)\n",
        "upper_conf = invboxcox(conf_int.iloc[:,1], lmbda)"
      ],
      "execution_count": 118,
      "outputs": [
        {
          "output_type": "stream",
          "text": [
            "/usr/local/lib/python3.6/dist-packages/ipykernel_launcher.py:5: RuntimeWarning: invalid value encountered in log\n",
            "  \"\"\"\n"
          ],
          "name": "stderr"
        }
      ]
    },
    {
      "cell_type": "code",
      "metadata": {
        "id": "ZF-sP_nUnLbz",
        "colab_type": "code",
        "colab": {
          "base_uri": "https://localhost:8080/",
          "height": 221
        },
        "outputId": "3fd3cef9-2c57-4355-f304-7b728971086f"
      },
      "source": [
        "fc.predicted_mean"
      ],
      "execution_count": 119,
      "outputs": [
        {
          "output_type": "execute_result",
          "data": {
            "text/plain": [
              "14434    7.397236e+31\n",
              "14435    7.394648e+31\n",
              "14436    7.394560e+31\n",
              "14437    7.393472e+31\n",
              "14438    7.394531e+31\n",
              "             ...     \n",
              "18038    8.758906e+31\n",
              "18039    8.759391e+31\n",
              "18040    8.759624e+31\n",
              "18041    8.762790e+31\n",
              "18042    8.760585e+31\n",
              "Length: 3609, dtype: float64"
            ]
          },
          "metadata": {
            "tags": []
          },
          "execution_count": 119
        }
      ]
    },
    {
      "cell_type": "code",
      "metadata": {
        "id": "3Sh7bP49ZbeM",
        "colab_type": "code",
        "colab": {
          "base_uri": "https://localhost:8080/",
          "height": 514
        },
        "outputId": "7d12e82b-b478-4810-a439-c8df6fd8f01b"
      },
      "source": [
        "from matplotlib.pylab import rcParams\n",
        "\n",
        "rcParams['figure.figsize'] = 16, 8\n",
        "\n",
        "# Plotting the training set, test set,forecast, and confidence interval.\n",
        "plt.plot(etrain, label='train')\n",
        "plt.plot(etest, label='actual')\n",
        "plt.plot(fc_series, label='forecast')\n",
        "plt.fill_between(lower_series.index, lower_series, upper_series, color='k', alpha=.15)\n",
        "\n",
        "# # Plotting against the training data\n",
        "pred.plot(label='Fit to Training', )\n",
        "\n",
        "# # # Confidence interval for the fitted data\n",
        "plt.fill_between(conf_int.index, conf_int.iloc[:,0], conf_int.iloc[:,1], color='g',alpha=.5)\n",
        "\n",
        "# # # Limiting the viewing size\n",
        "plt.ylim([5000, 8500])\n",
        "\n",
        "plt.title('Fit to Train Data and \\nForecasting vs Actual Validation Values')\n",
        "plt.legend()\n",
        "# plt.savefig('btc_fit_fc.png')\n",
        "plt.show()"
      ],
      "execution_count": 131,
      "outputs": [
        {
          "output_type": "display_data",
          "data": {
            "image/png": "[encoded data removed]",
            "text/plain": [
              "<Figure size 1152x576 with 1 Axes>"
            ]
          },
          "metadata": {
            "tags": []
          }
        }
      ]
    },
    {
      "cell_type": "markdown",
      "metadata": {
        "id": "ro5_Nj2LtsH9",
        "colab_type": "text"
      },
      "source": [
        "#### Calculate the RMSE for the model"
      ]
    },
    {
      "cell_type": "code",
      "metadata": {
        "id": "3BNaP1oWmhKy",
        "colab_type": "code",
        "colab": {
          "base_uri": "https://localhost:8080/",
          "height": 34
        },
        "outputId": "50830b71-eca6-4aff-aa88-d86940cb067c"
      },
      "source": [
        "forecast = pred\n",
        "actual_val = etrain\n",
        "\n",
        "# Calculating our errors\n",
        "rmse = np.sqrt(((forecast - actual_val) ** 2).mean())\n",
        "\n",
        "print(\"The Root Mean Squared Error: \", rmse)"
      ],
      "execution_count": 134,
      "outputs": [
        {
          "output_type": "stream",
          "text": [
            "The Root Mean Squared Error:  53.141975363316725\n"
          ],
          "name": "stdout"
        }
      ]
    },
    {
      "cell_type": "markdown",
      "metadata": {
        "id": "Uzbo-_BquxGX",
        "colab_type": "text"
      },
      "source": [
        "### Facebook Prophet model"
      ]
    },
    {
      "cell_type": "markdown",
      "metadata": {
        "id": "4-IL7A3uvewR",
        "colab_type": "text"
      },
      "source": [
        "#### Modelling"
      ]
    },
    {
      "cell_type": "code",
      "metadata": {
        "id": "s7a4FSr4uJEY",
        "colab_type": "code",
        "colab": {}
      },
      "source": [
        "prophet_model = Prophet(interval_width=0.95)"
      ],
      "execution_count": 0,
      "outputs": []
    },
    {
      "cell_type": "code",
      "metadata": {
        "id": "i6l95rGRvwoL",
        "colab_type": "code",
        "colab": {}
      },
      "source": [
        "pp_train = btc_tw_df.iloc[:index]\n",
        "pp_val = btc_tw_df.iloc[index:]"
      ],
      "execution_count": 0,
      "outputs": []
    },
    {
      "cell_type": "code",
      "metadata": {
        "id": "xR7InSDqvzGS",
        "colab_type": "code",
        "colab": {}
      },
      "source": [
        "pp_train=pp_train[['Timestamp','Weighted_Price']]"
      ],
      "execution_count": 0,
      "outputs": []
    },
    {
      "cell_type": "code",
      "metadata": {
        "id": "S92CKikQwDB4",
        "colab_type": "code",
        "colab": {
          "base_uri": "https://localhost:8080/",
          "height": 136
        },
        "outputId": "73b22324-be3b-4187-da04-d2dda6c5ac28"
      },
      "source": [
        "pp_train.rename(columns={'Timestamp':'ds','Weighted_Price':'y'},inplace=True)"
      ],
      "execution_count": 152,
      "outputs": [
        {
          "output_type": "stream",
          "text": [
            "/usr/local/lib/python3.6/dist-packages/pandas/core/frame.py:4238: SettingWithCopyWarning:\n",
            "\n",
            "\n",
            "A value is trying to be set on a copy of a slice from a DataFrame\n",
            "\n",
            "See the caveats in the documentation: http://pandas.pydata.org/pandas-docs/stable/user_guide/indexing.html#returning-a-view-versus-a-copy\n",
            "\n"
          ],
          "name": "stderr"
        }
      ]
    },
    {
      "cell_type": "code",
      "metadata": {
        "id": "QnoikR7bwuhC",
        "colab_type": "code",
        "colab": {
          "base_uri": "https://localhost:8080/",
          "height": 153
        },
        "outputId": "52dfd1c3-2981-4dae-f9de-49439d50f5cc"
      },
      "source": [
        "pp_train['ds'] = pd.DatetimeIndex(pp_train['ds'])\n"
      ],
      "execution_count": 153,
      "outputs": [
        {
          "output_type": "stream",
          "text": [
            "/usr/local/lib/python3.6/dist-packages/ipykernel_launcher.py:1: SettingWithCopyWarning:\n",
            "\n",
            "\n",
            "A value is trying to be set on a copy of a slice from a DataFrame.\n",
            "Try using .loc[row_indexer,col_indexer] = value instead\n",
            "\n",
            "See the caveats in the documentation: http://pandas.pydata.org/pandas-docs/stable/user_guide/indexing.html#returning-a-view-versus-a-copy\n",
            "\n"
          ],
          "name": "stderr"
        }
      ]
    },
    {
      "cell_type": "code",
      "metadata": {
        "id": "vYviVTNmwVlk",
        "colab_type": "code",
        "colab": {
          "base_uri": "https://localhost:8080/",
          "height": 68
        },
        "outputId": "af8a8027-a854-40ae-e867-8e1b572b672d"
      },
      "source": [
        "prophet_model.fit(pp_train)"
      ],
      "execution_count": 154,
      "outputs": [
        {
          "output_type": "stream",
          "text": [
            "INFO:fbprophet:Disabling yearly seasonality. Run prophet with yearly_seasonality=True to override this.\n",
            "INFO:fbprophet:Disabling weekly seasonality. Run prophet with weekly_seasonality=True to override this.\n"
          ],
          "name": "stderr"
        },
        {
          "output_type": "execute_result",
          "data": {
            "text/plain": [
              "<fbprophet.forecaster.Prophet at 0x7f82ed382940>"
            ]
          },
          "metadata": {
            "tags": []
          },
          "execution_count": 154
        }
      ]
    },
    {
      "cell_type": "markdown",
      "metadata": {
        "id": "Kn3ynOQO0UdA",
        "colab_type": "text"
      },
      "source": [
        "#### Predict validation set"
      ]
    },
    {
      "cell_type": "code",
      "metadata": {
        "id": "RZxoRa7jwjuG",
        "colab_type": "code",
        "colab": {
          "base_uri": "https://localhost:8080/",
          "height": 204
        },
        "outputId": "69a2feae-4464-4203-b50c-daa68b224200"
      },
      "source": [
        "future_dates = prophet_model.make_future_dataframe(periods=3609, freq='min')\n",
        "future_dates.tail()"
      ],
      "execution_count": 163,
      "outputs": [
        {
          "output_type": "execute_result",
          "data": {
            "text/html": [
              "<div>\n",
              "<style scoped>\n",
              "    .dataframe tbody tr th:only-of-type {\n",
              "        vertical-align: middle;\n",
              "    }\n",
              "\n",
              "    .dataframe tbody tr th {\n",
              "        vertical-align: top;\n",
              "    }\n",
              "\n",
              "    .dataframe thead th {\n",
              "        text-align: right;\n",
              "    }\n",
              "</style>\n",
              "<table border=\"1\" class=\"dataframe\">\n",
              "  <thead>\n",
              "    <tr style=\"text-align: right;\">\n",
              "      <th></th>\n",
              "      <th>ds</th>\n",
              "    </tr>\n",
              "  </thead>\n",
              "  <tbody>\n",
              "    <tr>\n",
              "      <th>18038</th>\n",
              "      <td>2018-07-24 08:13:00</td>\n",
              "    </tr>\n",
              "    <tr>\n",
              "      <th>18039</th>\n",
              "      <td>2018-07-24 08:14:00</td>\n",
              "    </tr>\n",
              "    <tr>\n",
              "      <th>18040</th>\n",
              "      <td>2018-07-24 08:15:00</td>\n",
              "    </tr>\n",
              "    <tr>\n",
              "      <th>18041</th>\n",
              "      <td>2018-07-24 08:16:00</td>\n",
              "    </tr>\n",
              "    <tr>\n",
              "      <th>18042</th>\n",
              "      <td>2018-07-24 08:17:00</td>\n",
              "    </tr>\n",
              "  </tbody>\n",
              "</table>\n",
              "</div>"
            ],
            "text/plain": [
              "                       ds\n",
              "18038 2018-07-24 08:13:00\n",
              "18039 2018-07-24 08:14:00\n",
              "18040 2018-07-24 08:15:00\n",
              "18041 2018-07-24 08:16:00\n",
              "18042 2018-07-24 08:17:00"
            ]
          },
          "metadata": {
            "tags": []
          },
          "execution_count": 163
        }
      ]
    },
    {
      "cell_type": "code",
      "metadata": {
        "id": "Om81WAtcxO46",
        "colab_type": "code",
        "colab": {}
      },
      "source": [
        "forecast = prophet_model.predict(future_dates)"
      ],
      "execution_count": 0,
      "outputs": []
    },
    {
      "cell_type": "code",
      "metadata": {
        "id": "85iA6l3LyNe8",
        "colab_type": "code",
        "colab": {
          "base_uri": "https://localhost:8080/",
          "height": 489
        },
        "outputId": "ad140b0f-2a25-4b4f-b187-c50482d38822"
      },
      "source": [
        "prophet_model.plot(forecast, uncertainty=True)\n",
        "plt.title('Fit to Train Data and \\nForecasting vs Actual Validation Values')\n",
        "plt.legend()\n",
        "plt.show()\n",
        "plt.show()"
      ],
      "execution_count": 166,
      "outputs": [
        {
          "output_type": "stream",
          "text": [
            "WARNING:matplotlib.legend:No handles with labels found to put in legend.\n"
          ],
          "name": "stderr"
        },
        {
          "output_type": "display_data",
          "data": {
            "image/png": "[encoded data removed]",
            "text/plain": [
              "<Figure size 720x432 with 1 Axes>"
            ]
          },
          "metadata": {
            "tags": []
          }
        }
      ]
    },
    {
      "cell_type": "code",
      "metadata": {
        "id": "iOXxF9Nuz--c",
        "colab_type": "code",
        "colab": {
          "base_uri": "https://localhost:8080/",
          "height": 779
        },
        "outputId": "076b8414-360a-4f11-d4e2-0ad7fdd0707f"
      },
      "source": [
        "forecast"
      ],
      "execution_count": 169,
      "outputs": [
        {
          "output_type": "execute_result",
          "data": {
            "text/html": [
              "<div>\n",
              "<style scoped>\n",
              "    .dataframe tbody tr th:only-of-type {\n",
              "        vertical-align: middle;\n",
              "    }\n",
              "\n",
              "    .dataframe tbody tr th {\n",
              "        vertical-align: top;\n",
              "    }\n",
              "\n",
              "    .dataframe thead th {\n",
              "        text-align: right;\n",
              "    }\n",
              "</style>\n",
              "<table border=\"1\" class=\"dataframe\">\n",
              "  <thead>\n",
              "    <tr style=\"text-align: right;\">\n",
              "      <th></th>\n",
              "      <th>ds</th>\n",
              "      <th>trend</th>\n",
              "      <th>yhat_lower</th>\n",
              "      <th>yhat_upper</th>\n",
              "      <th>trend_lower</th>\n",
              "      <th>trend_upper</th>\n",
              "      <th>additive_terms</th>\n",
              "      <th>additive_terms_lower</th>\n",
              "      <th>additive_terms_upper</th>\n",
              "      <th>daily</th>\n",
              "      <th>daily_lower</th>\n",
              "      <th>daily_upper</th>\n",
              "      <th>multiplicative_terms</th>\n",
              "      <th>multiplicative_terms_lower</th>\n",
              "      <th>multiplicative_terms_upper</th>\n",
              "      <th>yhat</th>\n",
              "    </tr>\n",
              "  </thead>\n",
              "  <tbody>\n",
              "    <tr>\n",
              "      <th>0</th>\n",
              "      <td>2018-07-11 19:35:00</td>\n",
              "      <td>6374.565700</td>\n",
              "      <td>6317.925996</td>\n",
              "      <td>6479.172709</td>\n",
              "      <td>6374.565700</td>\n",
              "      <td>6374.565700</td>\n",
              "      <td>25.407869</td>\n",
              "      <td>25.407869</td>\n",
              "      <td>25.407869</td>\n",
              "      <td>25.407869</td>\n",
              "      <td>25.407869</td>\n",
              "      <td>25.407869</td>\n",
              "      <td>0.0</td>\n",
              "      <td>0.0</td>\n",
              "      <td>0.0</td>\n",
              "      <td>6399.973569</td>\n",
              "    </tr>\n",
              "    <tr>\n",
              "      <th>1</th>\n",
              "      <td>2018-07-11 19:36:00</td>\n",
              "      <td>6374.602619</td>\n",
              "      <td>6316.089103</td>\n",
              "      <td>6474.067724</td>\n",
              "      <td>6374.602619</td>\n",
              "      <td>6374.602619</td>\n",
              "      <td>25.019743</td>\n",
              "      <td>25.019743</td>\n",
              "      <td>25.019743</td>\n",
              "      <td>25.019743</td>\n",
              "      <td>25.019743</td>\n",
              "      <td>25.019743</td>\n",
              "      <td>0.0</td>\n",
              "      <td>0.0</td>\n",
              "      <td>0.0</td>\n",
              "      <td>6399.622362</td>\n",
              "    </tr>\n",
              "    <tr>\n",
              "      <th>2</th>\n",
              "      <td>2018-07-11 19:37:00</td>\n",
              "      <td>6374.639538</td>\n",
              "      <td>6319.479270</td>\n",
              "      <td>6474.438271</td>\n",
              "      <td>6374.639538</td>\n",
              "      <td>6374.639538</td>\n",
              "      <td>24.629614</td>\n",
              "      <td>24.629614</td>\n",
              "      <td>24.629614</td>\n",
              "      <td>24.629614</td>\n",
              "      <td>24.629614</td>\n",
              "      <td>24.629614</td>\n",
              "      <td>0.0</td>\n",
              "      <td>0.0</td>\n",
              "      <td>0.0</td>\n",
              "      <td>6399.269152</td>\n",
              "    </tr>\n",
              "    <tr>\n",
              "      <th>3</th>\n",
              "      <td>2018-07-11 19:38:00</td>\n",
              "      <td>6374.676457</td>\n",
              "      <td>6326.110411</td>\n",
              "      <td>6483.391704</td>\n",
              "      <td>6374.676457</td>\n",
              "      <td>6374.676457</td>\n",
              "      <td>24.237526</td>\n",
              "      <td>24.237526</td>\n",
              "      <td>24.237526</td>\n",
              "      <td>24.237526</td>\n",
              "      <td>24.237526</td>\n",
              "      <td>24.237526</td>\n",
              "      <td>0.0</td>\n",
              "      <td>0.0</td>\n",
              "      <td>0.0</td>\n",
              "      <td>6398.913983</td>\n",
              "    </tr>\n",
              "    <tr>\n",
              "      <th>4</th>\n",
              "      <td>2018-07-11 19:39:00</td>\n",
              "      <td>6374.713376</td>\n",
              "      <td>6320.286263</td>\n",
              "      <td>6474.849709</td>\n",
              "      <td>6374.713376</td>\n",
              "      <td>6374.713376</td>\n",
              "      <td>23.843524</td>\n",
              "      <td>23.843524</td>\n",
              "      <td>23.843524</td>\n",
              "      <td>23.843524</td>\n",
              "      <td>23.843524</td>\n",
              "      <td>23.843524</td>\n",
              "      <td>0.0</td>\n",
              "      <td>0.0</td>\n",
              "      <td>0.0</td>\n",
              "      <td>6398.556900</td>\n",
              "    </tr>\n",
              "    <tr>\n",
              "      <th>...</th>\n",
              "      <td>...</td>\n",
              "      <td>...</td>\n",
              "      <td>...</td>\n",
              "      <td>...</td>\n",
              "      <td>...</td>\n",
              "      <td>...</td>\n",
              "      <td>...</td>\n",
              "      <td>...</td>\n",
              "      <td>...</td>\n",
              "      <td>...</td>\n",
              "      <td>...</td>\n",
              "      <td>...</td>\n",
              "      <td>...</td>\n",
              "      <td>...</td>\n",
              "      <td>...</td>\n",
              "      <td>...</td>\n",
              "    </tr>\n",
              "    <tr>\n",
              "      <th>18038</th>\n",
              "      <td>2018-07-24 08:13:00</td>\n",
              "      <td>7087.568078</td>\n",
              "      <td>2085.670000</td>\n",
              "      <td>12100.726115</td>\n",
              "      <td>2127.403691</td>\n",
              "      <td>12096.862032</td>\n",
              "      <td>-22.415067</td>\n",
              "      <td>-22.415067</td>\n",
              "      <td>-22.415067</td>\n",
              "      <td>-22.415067</td>\n",
              "      <td>-22.415067</td>\n",
              "      <td>-22.415067</td>\n",
              "      <td>0.0</td>\n",
              "      <td>0.0</td>\n",
              "      <td>0.0</td>\n",
              "      <td>7065.153011</td>\n",
              "    </tr>\n",
              "    <tr>\n",
              "      <th>18039</th>\n",
              "      <td>2018-07-24 08:14:00</td>\n",
              "      <td>7087.509387</td>\n",
              "      <td>2156.984715</td>\n",
              "      <td>12120.743471</td>\n",
              "      <td>2124.769353</td>\n",
              "      <td>12100.178324</td>\n",
              "      <td>-22.339229</td>\n",
              "      <td>-22.339229</td>\n",
              "      <td>-22.339229</td>\n",
              "      <td>-22.339229</td>\n",
              "      <td>-22.339229</td>\n",
              "      <td>-22.339229</td>\n",
              "      <td>0.0</td>\n",
              "      <td>0.0</td>\n",
              "      <td>0.0</td>\n",
              "      <td>7065.170158</td>\n",
              "    </tr>\n",
              "    <tr>\n",
              "      <th>18040</th>\n",
              "      <td>2018-07-24 08:15:00</td>\n",
              "      <td>7087.450695</td>\n",
              "      <td>2134.747635</td>\n",
              "      <td>12071.006530</td>\n",
              "      <td>2122.135015</td>\n",
              "      <td>12103.494617</td>\n",
              "      <td>-22.260662</td>\n",
              "      <td>-22.260662</td>\n",
              "      <td>-22.260662</td>\n",
              "      <td>-22.260662</td>\n",
              "      <td>-22.260662</td>\n",
              "      <td>-22.260662</td>\n",
              "      <td>0.0</td>\n",
              "      <td>0.0</td>\n",
              "      <td>0.0</td>\n",
              "      <td>7065.190033</td>\n",
              "    </tr>\n",
              "    <tr>\n",
              "      <th>18041</th>\n",
              "      <td>2018-07-24 08:16:00</td>\n",
              "      <td>7087.392004</td>\n",
              "      <td>2102.155251</td>\n",
              "      <td>12147.822582</td>\n",
              "      <td>2119.500676</td>\n",
              "      <td>12106.810909</td>\n",
              "      <td>-22.179345</td>\n",
              "      <td>-22.179345</td>\n",
              "      <td>-22.179345</td>\n",
              "      <td>-22.179345</td>\n",
              "      <td>-22.179345</td>\n",
              "      <td>-22.179345</td>\n",
              "      <td>0.0</td>\n",
              "      <td>0.0</td>\n",
              "      <td>0.0</td>\n",
              "      <td>7065.212659</td>\n",
              "    </tr>\n",
              "    <tr>\n",
              "      <th>18042</th>\n",
              "      <td>2018-07-24 08:17:00</td>\n",
              "      <td>7087.333312</td>\n",
              "      <td>2114.536746</td>\n",
              "      <td>12050.162958</td>\n",
              "      <td>2116.866338</td>\n",
              "      <td>12110.127201</td>\n",
              "      <td>-22.095257</td>\n",
              "      <td>-22.095257</td>\n",
              "      <td>-22.095257</td>\n",
              "      <td>-22.095257</td>\n",
              "      <td>-22.095257</td>\n",
              "      <td>-22.095257</td>\n",
              "      <td>0.0</td>\n",
              "      <td>0.0</td>\n",
              "      <td>0.0</td>\n",
              "      <td>7065.238056</td>\n",
              "    </tr>\n",
              "  </tbody>\n",
              "</table>\n",
              "<p>18043 rows × 16 columns</p>\n",
              "</div>"
            ],
            "text/plain": [
              "                       ds        trend  ...  multiplicative_terms_upper         yhat\n",
              "0     2018-07-11 19:35:00  6374.565700  ...                         0.0  6399.973569\n",
              "1     2018-07-11 19:36:00  6374.602619  ...                         0.0  6399.622362\n",
              "2     2018-07-11 19:37:00  6374.639538  ...                         0.0  6399.269152\n",
              "3     2018-07-11 19:38:00  6374.676457  ...                         0.0  6398.913983\n",
              "4     2018-07-11 19:39:00  6374.713376  ...                         0.0  6398.556900\n",
              "...                   ...          ...  ...                         ...          ...\n",
              "18038 2018-07-24 08:13:00  7087.568078  ...                         0.0  7065.153011\n",
              "18039 2018-07-24 08:14:00  7087.509387  ...                         0.0  7065.170158\n",
              "18040 2018-07-24 08:15:00  7087.450695  ...                         0.0  7065.190033\n",
              "18041 2018-07-24 08:16:00  7087.392004  ...                         0.0  7065.212659\n",
              "18042 2018-07-24 08:17:00  7087.333312  ...                         0.0  7065.238056\n",
              "\n",
              "[18043 rows x 16 columns]"
            ]
          },
          "metadata": {
            "tags": []
          },
          "execution_count": 169
        }
      ]
    },
    {
      "cell_type": "markdown",
      "metadata": {
        "id": "CcCep9V-0ZLx",
        "colab_type": "text"
      },
      "source": [
        "#### Calculate the RMSE for the model"
      ]
    },
    {
      "cell_type": "code",
      "metadata": {
        "id": "3vuIG5HfzPyW",
        "colab_type": "code",
        "colab": {
          "base_uri": "https://localhost:8080/",
          "height": 34
        },
        "outputId": "63fe6aa0-11dd-4327-ca0c-e3c232630f7d"
      },
      "source": [
        "rmse = np.sqrt(((forecast.yhat - btc_tw_df.Weighted_Price) ** 2).mean())\n",
        "\n",
        "print(\"The Root Mean Squared Error: \", rmse)"
      ],
      "execution_count": 171,
      "outputs": [
        {
          "output_type": "stream",
          "text": [
            "The Root Mean Squared Error:  210.17639230164866\n"
          ],
          "name": "stdout"
        }
      ]
    },
    {
      "cell_type": "markdown",
      "metadata": {
        "id": "r95xUvAV4m8d",
        "colab_type": "text"
      },
      "source": [
        "### RNN Model"
      ]
    },
    {
      "cell_type": "code",
      "metadata": {
        "id": "tZBO1mOV0I6v",
        "colab_type": "code",
        "colab": {}
      },
      "source": [
        ""
      ],
      "execution_count": 0,
      "outputs": []
    }
  ]
}