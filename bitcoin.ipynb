{
  "nbformat": 4,
  "nbformat_minor": 0,
  "metadata": {
    "colab": {
      "name": "bitcoin.ipynb",
      "provenance": [],
      "toc_visible": true,
      "mount_file_id": "1y9O-N6yaqd7Yp-d_deX3wMrwg-ixvR9v",
      "authorship_tag": "ABX9TyPs6G0FK9Q3rPYa3USRmm4W",
      "include_colab_link": true
    },
    "kernelspec": {
      "name": "python3",
      "display_name": "Python 3"
    },
    "accelerator": "GPU"
  },
  "cells": [
    {
      "cell_type": "markdown",
      "metadata": {
        "id": "view-in-github",
        "colab_type": "text"
      },
      "source": [
        "<a href=\"https://colab.research.google.com/github/shuyu-wu/bitcoin-prediction/blob/master/bitcoin.ipynb\" target=\"_parent\"><img src=\"https://colab.research.google.com/assets/colab-badge.svg\" alt=\"Open In Colab\"/></a>"
      ]
    },
    {
      "cell_type": "code",
      "metadata": {
        "id": "_u4sQ06LuXyq",
        "colab_type": "code",
        "outputId": "7bbb9d98-aa7d-44bf-9590-638d233f609c",
        "colab": {
          "base_uri": "https://localhost:8080/",
          "height": 34
        }
      },
      "source": [
        "from google.colab import drive\n",
        "drive.mount('/content/drive')"
      ],
      "execution_count": 0,
      "outputs": [
        {
          "output_type": "stream",
          "text": [
            "Drive already mounted at /content/drive; to attempt to forcibly remount, call drive.mount(\"/content/drive\", force_remount=True).\n"
          ],
          "name": "stdout"
        }
      ]
    },
    {
      "cell_type": "markdown",
      "metadata": {
        "id": "3fASkBYoB7JT",
        "colab_type": "text"
      },
      "source": [
        "# Load libraries"
      ]
    },
    {
      "cell_type": "code",
      "metadata": {
        "id": "88r3jfoAi4PB",
        "colab_type": "code",
        "colab": {}
      },
      "source": [
        "import pandas as pd\n",
        "# from langdetect import detect, DetectorFactory\n",
        "import seaborn as sns\n",
        "from nltk.corpus import stopwords\n",
        "from wordcloud import WordCloud\n",
        "import matplotlib.pyplot as plt\n",
        "import numpy as np\n",
        "from sklearn.model_selection import train_test_split\n",
        "from keras.preprocessing.text import Tokenizer\n",
        "from keras.preprocessing import sequence\n",
        "import keras.backend as K\n",
        "from keras.models import Sequential\n",
        "from keras.layers import Dense,Embedding,LSTM,RNN,GRU\n",
        "from sklearn.metrics import accuracy_score,confusion_matrix,classification_report\n",
        "import pickle\n",
        "from keras.models import load_model\n",
        "import re\n",
        "import nltk\n",
        "from sklearn.linear_model import LogisticRegression\n",
        "from sklearn.preprocessing import LabelEncoder, OneHotEncoder, StandardScaler\n",
        "from sklearn.ensemble import RandomForestClassifier\n",
        "from sklearn.naive_bayes import MultinomialNB"
      ],
      "execution_count": 0,
      "outputs": []
    },
    {
      "cell_type": "markdown",
      "metadata": {
        "id": "EazeVWcFCAa_",
        "colab_type": "text"
      },
      "source": [
        "# Load real time dataset"
      ]
    },
    {
      "cell_type": "code",
      "metadata": {
        "id": "9BNCJ9MGiQ-z",
        "colab_type": "code",
        "colab": {}
      },
      "source": [
        "tweets_df = pd.read_csv('/content/drive/My Drive/Colab Notebooks/tweets_v1.csv')"
      ],
      "execution_count": 0,
      "outputs": []
    },
    {
      "cell_type": "code",
      "metadata": {
        "id": "0iAqlP9oiU_O",
        "colab_type": "code",
        "outputId": "96b4db07-52a4-4137-99dd-9890c62a0afe",
        "colab": {
          "base_uri": "https://localhost:8080/",
          "height": 34
        }
      },
      "source": [
        "tweets_df.text.isnull().sum()"
      ],
      "execution_count": 0,
      "outputs": [
        {
          "output_type": "execute_result",
          "data": {
            "text/plain": [
              "718"
            ]
          },
          "metadata": {
            "tags": []
          },
          "execution_count": 8
        }
      ]
    },
    {
      "cell_type": "code",
      "metadata": {
        "id": "9ltmuKnDjHmO",
        "colab_type": "code",
        "colab": {}
      },
      "source": [
        "tweets_df.text.dropna(inplace=True)"
      ],
      "execution_count": 0,
      "outputs": []
    },
    {
      "cell_type": "markdown",
      "metadata": {
        "id": "QnXmExOhvz3u",
        "colab_type": "text"
      },
      "source": [
        "# Filter English tweets"
      ]
    },
    {
      "cell_type": "code",
      "metadata": {
        "id": "3j916pzjjLW5",
        "colab_type": "code",
        "colab": {}
      },
      "source": [
        "def filter_english (x):\n",
        "    try:\n",
        "        if detect(x) == 'en':\n",
        "            return x\n",
        "        else:\n",
        "            return 0\n",
        "    except: return 0"
      ],
      "execution_count": 0,
      "outputs": []
    },
    {
      "cell_type": "code",
      "metadata": {
        "id": "XH0qVwIwjRFD",
        "colab_type": "code",
        "colab": {}
      },
      "source": [
        "tw = tweets_df.copy()\n",
        "tw['text'] = tw.text.apply(filter_english)"
      ],
      "execution_count": 0,
      "outputs": []
    },
    {
      "cell_type": "code",
      "metadata": {
        "id": "0us3WqpijS2Z",
        "colab_type": "code",
        "outputId": "6f3928f4-df4f-497c-d7bc-3987f176473a",
        "colab": {
          "base_uri": "https://localhost:8080/",
          "height": 34
        }
      },
      "source": [
        "tw.shape"
      ],
      "execution_count": 0,
      "outputs": [
        {
          "output_type": "execute_result",
          "data": {
            "text/plain": [
              "(1851563, 10)"
            ]
          },
          "metadata": {
            "tags": []
          },
          "execution_count": 13
        }
      ]
    },
    {
      "cell_type": "code",
      "metadata": {
        "id": "bgb4bzaUMBBP",
        "colab_type": "code",
        "outputId": "5e1e477f-7996-4575-b2d7-9c16593d5c2e",
        "colab": {
          "base_uri": "https://localhost:8080/",
          "height": 289
        }
      },
      "source": [
        "tw.tail()"
      ],
      "execution_count": 0,
      "outputs": [
        {
          "output_type": "execute_result",
          "data": {
            "text/html": [
              "<div>\n",
              "<style scoped>\n",
              "    .dataframe tbody tr th:only-of-type {\n",
              "        vertical-align: middle;\n",
              "    }\n",
              "\n",
              "    .dataframe tbody tr th {\n",
              "        vertical-align: top;\n",
              "    }\n",
              "\n",
              "    .dataframe thead th {\n",
              "        text-align: right;\n",
              "    }\n",
              "</style>\n",
              "<table border=\"1\" class=\"dataframe\">\n",
              "  <thead>\n",
              "    <tr style=\"text-align: right;\">\n",
              "      <th></th>\n",
              "      <th>user</th>\n",
              "      <th>fullname</th>\n",
              "      <th>tweet-id</th>\n",
              "      <th>timestamp</th>\n",
              "      <th>url</th>\n",
              "      <th>likes</th>\n",
              "      <th>replies</th>\n",
              "      <th>retweets</th>\n",
              "      <th>text</th>\n",
              "      <th>html</th>\n",
              "    </tr>\n",
              "  </thead>\n",
              "  <tbody>\n",
              "    <tr>\n",
              "      <th>1851558</th>\n",
              "      <td>hanamoto7839</td>\n",
              "      <td>与沢翼ファンクラブ</td>\n",
              "      <td>1085491142202781696</td>\n",
              "      <td>2019-01-16 10:57:10</td>\n",
              "      <td>/hanamoto7839/status/1085491142202781696</td>\n",
              "      <td>2</td>\n",
              "      <td>0</td>\n",
              "      <td>0</td>\n",
              "      <td>0</td>\n",
              "      <td>&lt;p class=\"TweetTextSize js-tweet-text tweet-te...</td>\n",
              "    </tr>\n",
              "    <tr>\n",
              "      <th>1851559</th>\n",
              "      <td>skskwwwww</td>\n",
              "      <td>S(つд⊂)さく</td>\n",
              "      <td>1085491133143179265</td>\n",
              "      <td>2019-01-16 10:57:08</td>\n",
              "      <td>/skskwwwww/status/1085491133143179265</td>\n",
              "      <td>1</td>\n",
              "      <td>0</td>\n",
              "      <td>0</td>\n",
              "      <td>0</td>\n",
              "      <td>&lt;p class=\"TweetTextSize js-tweet-text tweet-te...</td>\n",
              "    </tr>\n",
              "    <tr>\n",
              "      <th>1851560</th>\n",
              "      <td>BTC_shoshinsha</td>\n",
              "      <td>ツーカー</td>\n",
              "      <td>1085491126495137792</td>\n",
              "      <td>2019-01-16 10:57:06</td>\n",
              "      <td>/BTC_shoshinsha/status/1085491126495137792</td>\n",
              "      <td>2</td>\n",
              "      <td>1</td>\n",
              "      <td>0</td>\n",
              "      <td>0</td>\n",
              "      <td>&lt;p class=\"TweetTextSize js-tweet-text tweet-te...</td>\n",
              "    </tr>\n",
              "    <tr>\n",
              "      <th>1851561</th>\n",
              "      <td>HRleaderRich</td>\n",
              "      <td>Rich Brown</td>\n",
              "      <td>1085491114906398720</td>\n",
              "      <td>2019-01-16 10:57:03</td>\n",
              "      <td>/HRleaderRich/status/1085491114906398720</td>\n",
              "      <td>0</td>\n",
              "      <td>0</td>\n",
              "      <td>0</td>\n",
              "      <td>\"Bitcoin - A method of secure transactions bas...</td>\n",
              "      <td>&lt;p class=\"TweetTextSize js-tweet-text tweet-te...</td>\n",
              "    </tr>\n",
              "    <tr>\n",
              "      <th>1851562</th>\n",
              "      <td>BotDjulian</td>\n",
              "      <td>Djulian [Bot]</td>\n",
              "      <td>1085491108665163777</td>\n",
              "      <td>2019-01-16 10:57:02</td>\n",
              "      <td>/BotDjulian/status/1085491108665163777</td>\n",
              "      <td>3</td>\n",
              "      <td>0</td>\n",
              "      <td>4</td>\n",
              "      <td>MARKET BRAZIL CC SHOP [http://54ce5x7l4m3t2spm...</td>\n",
              "      <td>&lt;p class=\"TweetTextSize js-tweet-text tweet-te...</td>\n",
              "    </tr>\n",
              "  </tbody>\n",
              "</table>\n",
              "</div>"
            ],
            "text/plain": [
              "                   user  ...                                               html\n",
              "1851558    hanamoto7839  ...  <p class=\"TweetTextSize js-tweet-text tweet-te...\n",
              "1851559       skskwwwww  ...  <p class=\"TweetTextSize js-tweet-text tweet-te...\n",
              "1851560  BTC_shoshinsha  ...  <p class=\"TweetTextSize js-tweet-text tweet-te...\n",
              "1851561    HRleaderRich  ...  <p class=\"TweetTextSize js-tweet-text tweet-te...\n",
              "1851562      BotDjulian  ...  <p class=\"TweetTextSize js-tweet-text tweet-te...\n",
              "\n",
              "[5 rows x 10 columns]"
            ]
          },
          "metadata": {
            "tags": []
          },
          "execution_count": 14
        }
      ]
    },
    {
      "cell_type": "code",
      "metadata": {
        "id": "S-nQ0aKuMEZK",
        "colab_type": "code",
        "colab": {}
      },
      "source": [
        "tw.to_csv('/content/drive/My Drive/Colab Notebooks/preprocessed.csv')\n"
      ],
      "execution_count": 0,
      "outputs": []
    },
    {
      "cell_type": "code",
      "metadata": {
        "id": "gAqO57MOMcTm",
        "colab_type": "code",
        "outputId": "e027172b-4589-4b14-9b80-8975a05040ef",
        "colab": {
          "base_uri": "https://localhost:8080/",
          "height": 71
        }
      },
      "source": [
        "prepr_df = pd.read_csv('/content/drive/My Drive/Colab Notebooks/preprocessed.csv')"
      ],
      "execution_count": 0,
      "outputs": [
        {
          "output_type": "stream",
          "text": [
            "/usr/local/lib/python3.6/dist-packages/IPython/core/interactiveshell.py:2718: DtypeWarning: Columns (0,1,2,4,5,9,10) have mixed types. Specify dtype option on import or set low_memory=False.\n",
            "  interactivity=interactivity, compiler=compiler, result=result)\n"
          ],
          "name": "stderr"
        }
      ]
    },
    {
      "cell_type": "code",
      "metadata": {
        "id": "ROwz6kEbOiig",
        "colab_type": "code",
        "colab": {}
      },
      "source": [
        "prepr_df = prepr_df.loc[prepr_df['text']!='0']"
      ],
      "execution_count": 0,
      "outputs": []
    },
    {
      "cell_type": "code",
      "metadata": {
        "id": "qMmPCl1-Phhe",
        "colab_type": "code",
        "outputId": "27c3acfe-a7c4-4842-ce72-734383d02a19",
        "colab": {
          "base_uri": "https://localhost:8080/",
          "height": 204
        }
      },
      "source": [
        "prepr_df.head()"
      ],
      "execution_count": 0,
      "outputs": [
        {
          "output_type": "execute_result",
          "data": {
            "text/html": [
              "<div>\n",
              "<style scoped>\n",
              "    .dataframe tbody tr th:only-of-type {\n",
              "        vertical-align: middle;\n",
              "    }\n",
              "\n",
              "    .dataframe tbody tr th {\n",
              "        vertical-align: top;\n",
              "    }\n",
              "\n",
              "    .dataframe thead th {\n",
              "        text-align: right;\n",
              "    }\n",
              "</style>\n",
              "<table border=\"1\" class=\"dataframe\">\n",
              "  <thead>\n",
              "    <tr style=\"text-align: right;\">\n",
              "      <th></th>\n",
              "      <th>Unnamed: 0</th>\n",
              "      <th>timestamp</th>\n",
              "      <th>clean_tweets</th>\n",
              "    </tr>\n",
              "  </thead>\n",
              "  <tbody>\n",
              "    <tr>\n",
              "      <th>0</th>\n",
              "      <td>0</td>\n",
              "      <td>2016-06-25 23:59:52</td>\n",
              "      <td>Bitcoin: Pissed-off customers sue GAW Miners i...</td>\n",
              "    </tr>\n",
              "    <tr>\n",
              "      <th>1</th>\n",
              "      <td>1</td>\n",
              "      <td>2016-06-25 23:59:36</td>\n",
              "      <td>I'm not gone lie I be staring at pplwhat btc's...</td>\n",
              "    </tr>\n",
              "    <tr>\n",
              "      <th>2</th>\n",
              "      <td>2</td>\n",
              "      <td>2016-06-25 23:59:17</td>\n",
              "      <td>Did you miss Beyond Bitcoin Hangout? I CANNOT ...</td>\n",
              "    </tr>\n",
              "    <tr>\n",
              "      <th>3</th>\n",
              "      <td>3</td>\n",
              "      <td>2016-06-25 23:59:15</td>\n",
              "      <td>What are the merits and risks of investing in ...</td>\n",
              "    </tr>\n",
              "    <tr>\n",
              "      <th>4</th>\n",
              "      <td>4</td>\n",
              "      <td>2016-06-25 23:59:08</td>\n",
              "      <td>Hash Ocean #Bitcoin Cloud Mining №1 in the wor...</td>\n",
              "    </tr>\n",
              "  </tbody>\n",
              "</table>\n",
              "</div>"
            ],
            "text/plain": [
              "   Unnamed: 0  ...                                       clean_tweets\n",
              "0           0  ...  Bitcoin: Pissed-off customers sue GAW Miners i...\n",
              "1           1  ...  I'm not gone lie I be staring at pplwhat btc's...\n",
              "2           2  ...  Did you miss Beyond Bitcoin Hangout? I CANNOT ...\n",
              "3           3  ...  What are the merits and risks of investing in ...\n",
              "4           4  ...  Hash Ocean #Bitcoin Cloud Mining №1 in the wor...\n",
              "\n",
              "[5 rows x 3 columns]"
            ]
          },
          "metadata": {
            "tags": []
          },
          "execution_count": 109
        }
      ]
    },
    {
      "cell_type": "code",
      "metadata": {
        "id": "2sDiRcaNae4O",
        "colab_type": "code",
        "colab": {}
      },
      "source": [
        "prepr_df.to_csv('/content/drive/My Drive/Colab Notebooks/prepr.csv')"
      ],
      "execution_count": 0,
      "outputs": []
    },
    {
      "cell_type": "code",
      "metadata": {
        "id": "XOEgjV5Xagqn",
        "colab_type": "code",
        "colab": {}
      },
      "source": [
        "prepr_df = pd.read_csv('/content/drive/My Drive/Colab Notebooks/prepr.csv')"
      ],
      "execution_count": 0,
      "outputs": []
    },
    {
      "cell_type": "code",
      "metadata": {
        "id": "d7a-CK8gQkcb",
        "colab_type": "code",
        "colab": {}
      },
      "source": [
        "prepr_df=prepr_df[['timestamp','text']]"
      ],
      "execution_count": 0,
      "outputs": []
    },
    {
      "cell_type": "code",
      "metadata": {
        "id": "PzvFbyEQRlNK",
        "colab_type": "code",
        "outputId": "3ce7f2b2-c9c3-4231-b819-26b4e0b8fadf",
        "colab": {
          "base_uri": "https://localhost:8080/",
          "height": 204
        }
      },
      "source": [
        "prepr_df.head()"
      ],
      "execution_count": 0,
      "outputs": [
        {
          "output_type": "execute_result",
          "data": {
            "text/html": [
              "<div>\n",
              "<style scoped>\n",
              "    .dataframe tbody tr th:only-of-type {\n",
              "        vertical-align: middle;\n",
              "    }\n",
              "\n",
              "    .dataframe tbody tr th {\n",
              "        vertical-align: top;\n",
              "    }\n",
              "\n",
              "    .dataframe thead th {\n",
              "        text-align: right;\n",
              "    }\n",
              "</style>\n",
              "<table border=\"1\" class=\"dataframe\">\n",
              "  <thead>\n",
              "    <tr style=\"text-align: right;\">\n",
              "      <th></th>\n",
              "      <th>Unnamed: 0</th>\n",
              "      <th>timestamp</th>\n",
              "      <th>clean_tweets</th>\n",
              "    </tr>\n",
              "  </thead>\n",
              "  <tbody>\n",
              "    <tr>\n",
              "      <th>0</th>\n",
              "      <td>0</td>\n",
              "      <td>2016-06-25 23:59:52</td>\n",
              "      <td>Bitcoin: Pissed-off customers sue GAW Miners i...</td>\n",
              "    </tr>\n",
              "    <tr>\n",
              "      <th>1</th>\n",
              "      <td>1</td>\n",
              "      <td>2016-06-25 23:59:36</td>\n",
              "      <td>I'm not gone lie I be staring at pplwhat btc's...</td>\n",
              "    </tr>\n",
              "    <tr>\n",
              "      <th>2</th>\n",
              "      <td>2</td>\n",
              "      <td>2016-06-25 23:59:17</td>\n",
              "      <td>Did you miss Beyond Bitcoin Hangout? I CANNOT ...</td>\n",
              "    </tr>\n",
              "    <tr>\n",
              "      <th>3</th>\n",
              "      <td>3</td>\n",
              "      <td>2016-06-25 23:59:15</td>\n",
              "      <td>What are the merits and risks of investing in ...</td>\n",
              "    </tr>\n",
              "    <tr>\n",
              "      <th>4</th>\n",
              "      <td>4</td>\n",
              "      <td>2016-06-25 23:59:08</td>\n",
              "      <td>Hash Ocean #Bitcoin Cloud Mining №1 in the wor...</td>\n",
              "    </tr>\n",
              "  </tbody>\n",
              "</table>\n",
              "</div>"
            ],
            "text/plain": [
              "   Unnamed: 0  ...                                       clean_tweets\n",
              "0           0  ...  Bitcoin: Pissed-off customers sue GAW Miners i...\n",
              "1           1  ...  I'm not gone lie I be staring at pplwhat btc's...\n",
              "2           2  ...  Did you miss Beyond Bitcoin Hangout? I CANNOT ...\n",
              "3           3  ...  What are the merits and risks of investing in ...\n",
              "4           4  ...  Hash Ocean #Bitcoin Cloud Mining №1 in the wor...\n",
              "\n",
              "[5 rows x 3 columns]"
            ]
          },
          "metadata": {
            "tags": []
          },
          "execution_count": 110
        }
      ]
    },
    {
      "cell_type": "markdown",
      "metadata": {
        "id": "p_XHH_506N2s",
        "colab_type": "text"
      },
      "source": [
        "# Loading train labeled dataset"
      ]
    },
    {
      "cell_type": "code",
      "metadata": {
        "id": "edcTW5bu6Me1",
        "colab_type": "code",
        "colab": {}
      },
      "source": [
        "labeled_df = pd.read_csv('/content/drive/My Drive/Colab Notebooks/bitcointweets.csv',header=None)"
      ],
      "execution_count": 0,
      "outputs": []
    },
    {
      "cell_type": "code",
      "metadata": {
        "id": "UVl5evNg6cdl",
        "colab_type": "code",
        "outputId": "c2ae0a92-bae4-40bb-fb1c-fd21c79aedd7",
        "colab": {
          "base_uri": "https://localhost:8080/",
          "height": 204
        }
      },
      "source": [
        "labeled_df.head()"
      ],
      "execution_count": 0,
      "outputs": [
        {
          "output_type": "execute_result",
          "data": {
            "text/html": [
              "<div>\n",
              "<style scoped>\n",
              "    .dataframe tbody tr th:only-of-type {\n",
              "        vertical-align: middle;\n",
              "    }\n",
              "\n",
              "    .dataframe tbody tr th {\n",
              "        vertical-align: top;\n",
              "    }\n",
              "\n",
              "    .dataframe thead th {\n",
              "        text-align: right;\n",
              "    }\n",
              "</style>\n",
              "<table border=\"1\" class=\"dataframe\">\n",
              "  <thead>\n",
              "    <tr style=\"text-align: right;\">\n",
              "      <th></th>\n",
              "      <th>0</th>\n",
              "      <th>1</th>\n",
              "      <th>2</th>\n",
              "      <th>3</th>\n",
              "      <th>4</th>\n",
              "      <th>5</th>\n",
              "      <th>6</th>\n",
              "      <th>7</th>\n",
              "    </tr>\n",
              "  </thead>\n",
              "  <tbody>\n",
              "    <tr>\n",
              "      <th>0</th>\n",
              "      <td>Fri Mar 23 00:40:32 +0000 2018</td>\n",
              "      <td>RT @ALXTOKEN: Paul Krugman, Nobel Luddite. I h...</td>\n",
              "      <td>myresumerocket</td>\n",
              "      <td>16522</td>\n",
              "      <td>0</td>\n",
              "      <td>[]</td>\n",
              "      <td>&lt;a href=\"http://twitter.com\" rel=\"nofollow\"&gt;Tw...</td>\n",
              "      <td>['neutral']</td>\n",
              "    </tr>\n",
              "    <tr>\n",
              "      <th>1</th>\n",
              "      <td>Fri Mar 23 00:40:34 +0000 2018</td>\n",
              "      <td>@lopp @_Kevin_Pham @psycho_sage @naval But @Pr...</td>\n",
              "      <td>BitMocro</td>\n",
              "      <td>1295</td>\n",
              "      <td>0</td>\n",
              "      <td>[u'Bitcoin']</td>\n",
              "      <td>&lt;a href=\"http://twitter.com/download/android\" ...</td>\n",
              "      <td>['neutral']</td>\n",
              "    </tr>\n",
              "    <tr>\n",
              "      <th>2</th>\n",
              "      <td>Fri Mar 23 00:40:35 +0000 2018</td>\n",
              "      <td>RT @tippereconomy: Another use case for #block...</td>\n",
              "      <td>hojachotopur</td>\n",
              "      <td>6090</td>\n",
              "      <td>0</td>\n",
              "      <td>[u'blockchain', u'Tipper', u'TipperEconomy']</td>\n",
              "      <td>&lt;a href=\"http://twitter.com\" rel=\"nofollow\"&gt;Tw...</td>\n",
              "      <td>['positive']</td>\n",
              "    </tr>\n",
              "    <tr>\n",
              "      <th>3</th>\n",
              "      <td>Fri Mar 23 00:40:36 +0000 2018</td>\n",
              "      <td>free coins https://t.co/DiuoePJdap</td>\n",
              "      <td>denies_distro</td>\n",
              "      <td>2626</td>\n",
              "      <td>0</td>\n",
              "      <td>[]</td>\n",
              "      <td>&lt;a href=\"http://twitter.com\" rel=\"nofollow\"&gt;Tw...</td>\n",
              "      <td>['positive']</td>\n",
              "    </tr>\n",
              "    <tr>\n",
              "      <th>4</th>\n",
              "      <td>Fri Mar 23 00:40:36 +0000 2018</td>\n",
              "      <td>RT @payvxofficial: WE are happy to announce th...</td>\n",
              "      <td>aditzgraha</td>\n",
              "      <td>184</td>\n",
              "      <td>0</td>\n",
              "      <td>[]</td>\n",
              "      <td>&lt;a href=\"http://twitter.com/download/android\" ...</td>\n",
              "      <td>['positive']</td>\n",
              "    </tr>\n",
              "  </tbody>\n",
              "</table>\n",
              "</div>"
            ],
            "text/plain": [
              "                                0  ...             7\n",
              "0  Fri Mar 23 00:40:32 +0000 2018  ...   ['neutral']\n",
              "1  Fri Mar 23 00:40:34 +0000 2018  ...   ['neutral']\n",
              "2  Fri Mar 23 00:40:35 +0000 2018  ...  ['positive']\n",
              "3  Fri Mar 23 00:40:36 +0000 2018  ...  ['positive']\n",
              "4  Fri Mar 23 00:40:36 +0000 2018  ...  ['positive']\n",
              "\n",
              "[5 rows x 8 columns]"
            ]
          },
          "metadata": {
            "tags": []
          },
          "execution_count": 35
        }
      ]
    },
    {
      "cell_type": "code",
      "metadata": {
        "id": "u6uy4adO6fbe",
        "colab_type": "code",
        "colab": {}
      },
      "source": [
        "labeled_df = labeled_df[[0,1,7]]\n",
        "labeled_df.columns = ['date','tweets','sentiment']"
      ],
      "execution_count": 0,
      "outputs": []
    },
    {
      "cell_type": "code",
      "metadata": {
        "id": "7Q8fCCB46zO6",
        "colab_type": "code",
        "outputId": "7d99feb4-0710-4b73-a199-968ab8156aa3",
        "colab": {
          "base_uri": "https://localhost:8080/",
          "height": 347
        }
      },
      "source": [
        "sns.countplot(labeled_df['sentiment'])\n",
        "labeled_df['sentiment'].value_counts(normalize=True) * 100"
      ],
      "execution_count": 0,
      "outputs": [
        {
          "output_type": "execute_result",
          "data": {
            "text/plain": [
              "['positive']    45.099196\n",
              "['neutral']     43.136908\n",
              "['negative']    11.763896\n",
              "Name: sentiment, dtype: float64"
            ]
          },
          "metadata": {
            "tags": []
          },
          "execution_count": 37
        },
        {
          "output_type": "display_data",
          "data": {
            "image/png": "[encoded data removed]",
            "text/plain": [
              "<Figure size 432x288 with 1 Axes>"
            ]
          },
          "metadata": {
            "tags": []
          }
        }
      ]
    },
    {
      "cell_type": "code",
      "metadata": {
        "id": "l6SQM1zu627a",
        "colab_type": "code",
        "colab": {}
      },
      "source": [
        "labeled_df['date'] = pd.to_datetime(labeled_df['date'])"
      ],
      "execution_count": 0,
      "outputs": []
    },
    {
      "cell_type": "code",
      "metadata": {
        "id": "NWFw0WfY65c3",
        "colab_type": "code",
        "colab": {}
      },
      "source": [
        "def clean_text(s):\n",
        "    s = re.sub(r'http\\S+', '', str(s))\n",
        "    s = re.sub('(RT|via)((?:\\\\b\\\\W*@\\\\w+)+)', ' ', str(s))\n",
        "    s = re.sub(r'@\\S+', '', str(s))\n",
        "    s = re.sub('&amp', ' ', str(s))\n",
        "    return s"
      ],
      "execution_count": 0,
      "outputs": []
    },
    {
      "cell_type": "code",
      "metadata": {
        "id": "pGndhIyo7AU4",
        "colab_type": "code",
        "colab": {}
      },
      "source": [
        "labeled_df['clean_tweets'] = labeled_df['tweets'].apply(clean_text)"
      ],
      "execution_count": 0,
      "outputs": []
    },
    {
      "cell_type": "code",
      "metadata": {
        "id": "iFXSTd8q7Bnb",
        "colab_type": "code",
        "colab": {}
      },
      "source": [
        "labeled_df.drop(['tweets'],axis=1, inplace=True)"
      ],
      "execution_count": 0,
      "outputs": []
    },
    {
      "cell_type": "code",
      "metadata": {
        "id": "zNGskzSU8yxi",
        "colab_type": "code",
        "outputId": "9fe6ad94-0d0e-4c6b-e6c3-69cf9c0fa7cb",
        "colab": {
          "base_uri": "https://localhost:8080/",
          "height": 68
        }
      },
      "source": [
        "nltk.download('stopwords')"
      ],
      "execution_count": 0,
      "outputs": [
        {
          "output_type": "stream",
          "text": [
            "[nltk_data] Downloading package stopwords to /root/nltk_data...\n",
            "[nltk_data]   Unzipping corpora/stopwords.zip.\n"
          ],
          "name": "stdout"
        },
        {
          "output_type": "execute_result",
          "data": {
            "text/plain": [
              "True"
            ]
          },
          "metadata": {
            "tags": []
          },
          "execution_count": 39
        }
      ]
    },
    {
      "cell_type": "code",
      "metadata": {
        "id": "aOftZbXy7C4l",
        "colab_type": "code",
        "outputId": "aba0d135-a13c-4fbf-8457-b2ec9cac6d38",
        "colab": {
          "base_uri": "https://localhost:8080/",
          "height": 366
        }
      },
      "source": [
        "text = labeled_df[\"clean_tweets\"].to_string()\n",
        "wordcloud = WordCloud(relative_scaling=0.5 , background_color='white',stopwords=set(stopwords.words('english'))).generate(text)\n",
        "plt.figure(figsize=(12,12))\n",
        "plt.imshow(wordcloud)\n",
        "plt.axis(\"off\")\n",
        "plt.show()"
      ],
      "execution_count": 0,
      "outputs": [
        {
          "output_type": "display_data",
          "data": {
            "image/png": "[encoded data removed]",
            "text/plain": [
              "<Figure size 864x864 with 1 Axes>"
            ]
          },
          "metadata": {
            "tags": []
          }
        }
      ]
    },
    {
      "cell_type": "markdown",
      "metadata": {
        "id": "o0X7YB1g844y",
        "colab_type": "text"
      },
      "source": [
        "# Train Test Split"
      ]
    },
    {
      "cell_type": "code",
      "metadata": {
        "id": "dUDjOITu87rx",
        "colab_type": "code",
        "outputId": "168c3acf-8e7e-4e14-9086-099f3508c151",
        "colab": {
          "base_uri": "https://localhost:8080/",
          "height": 204
        }
      },
      "source": [
        "X = labeled_df[\"clean_tweets\"]\n",
        "y = pd.get_dummies(labeled_df[\"sentiment\"].values)\n",
        "y.head()"
      ],
      "execution_count": 0,
      "outputs": [
        {
          "output_type": "execute_result",
          "data": {
            "text/html": [
              "<div>\n",
              "<style scoped>\n",
              "    .dataframe tbody tr th:only-of-type {\n",
              "        vertical-align: middle;\n",
              "    }\n",
              "\n",
              "    .dataframe tbody tr th {\n",
              "        vertical-align: top;\n",
              "    }\n",
              "\n",
              "    .dataframe thead th {\n",
              "        text-align: right;\n",
              "    }\n",
              "</style>\n",
              "<table border=\"1\" class=\"dataframe\">\n",
              "  <thead>\n",
              "    <tr style=\"text-align: right;\">\n",
              "      <th></th>\n",
              "      <th>['negative']</th>\n",
              "      <th>['neutral']</th>\n",
              "      <th>['positive']</th>\n",
              "    </tr>\n",
              "  </thead>\n",
              "  <tbody>\n",
              "    <tr>\n",
              "      <th>0</th>\n",
              "      <td>0</td>\n",
              "      <td>1</td>\n",
              "      <td>0</td>\n",
              "    </tr>\n",
              "    <tr>\n",
              "      <th>1</th>\n",
              "      <td>0</td>\n",
              "      <td>1</td>\n",
              "      <td>0</td>\n",
              "    </tr>\n",
              "    <tr>\n",
              "      <th>2</th>\n",
              "      <td>0</td>\n",
              "      <td>0</td>\n",
              "      <td>1</td>\n",
              "    </tr>\n",
              "    <tr>\n",
              "      <th>3</th>\n",
              "      <td>0</td>\n",
              "      <td>0</td>\n",
              "      <td>1</td>\n",
              "    </tr>\n",
              "    <tr>\n",
              "      <th>4</th>\n",
              "      <td>0</td>\n",
              "      <td>0</td>\n",
              "      <td>1</td>\n",
              "    </tr>\n",
              "  </tbody>\n",
              "</table>\n",
              "</div>"
            ],
            "text/plain": [
              "   ['negative']  ['neutral']  ['positive']\n",
              "0             0            1             0\n",
              "1             0            1             0\n",
              "2             0            0             1\n",
              "3             0            0             1\n",
              "4             0            0             1"
            ]
          },
          "metadata": {
            "tags": []
          },
          "execution_count": 70
        }
      ]
    },
    {
      "cell_type": "code",
      "metadata": {
        "id": "jRrUiESM89vL",
        "colab_type": "code",
        "colab": {}
      },
      "source": [
        "y = np.array(y)\n",
        "num_classes = labeled_df[\"sentiment\"].nunique()"
      ],
      "execution_count": 0,
      "outputs": []
    },
    {
      "cell_type": "code",
      "metadata": {
        "id": "MTmzdkOT8__0",
        "colab_type": "code",
        "colab": {}
      },
      "source": [
        "X_train , X_test , y_train , y_test = train_test_split(X , y , test_size = 0.2 , random_state = 42)\n"
      ],
      "execution_count": 0,
      "outputs": []
    },
    {
      "cell_type": "code",
      "metadata": {
        "id": "w440NyZS9CGJ",
        "colab_type": "code",
        "outputId": "a29b97e3-9f6f-4699-c41c-cd1faeea5671",
        "colab": {
          "base_uri": "https://localhost:8080/",
          "height": 221
        }
      },
      "source": [
        "X_train"
      ],
      "execution_count": 0,
      "outputs": [
        {
          "output_type": "execute_result",
          "data": {
            "text/plain": [
              "28589    #cryptkeeper How much money can bitcoin miners...\n",
              "15363    You love your laptop, but its WiFi network ada...\n",
              "10609     : #Bitcoin #Satoshi #Earn_Money #cryptocurren...\n",
              "29157     : Here reporting from Blockchain  ; Bitcoin C...\n",
              "9683      : #Bitcoin #cryptocurrency  #Airdrop\\nNew Air...\n",
              "                               ...                        \n",
              "11284    TRON (TRX) Airdrop Free 352 USD\\n#airdrop #bou...\n",
              "44732     : We have been attending a lot of conferences...\n",
              "38158    Shocking, Secret Facts Part IIII  $btcusd #bit...\n",
              "860                                2) whispered.\\n#bitcoin\n",
              "15795     : Official Bitcoin Cloud #Airdrop 1\\n\\n\\n\\nLi...\n",
              "Name: clean_tweets, Length: 40687, dtype: object"
            ]
          },
          "metadata": {
            "tags": []
          },
          "execution_count": 73
        }
      ]
    },
    {
      "cell_type": "code",
      "metadata": {
        "id": "PlwnsrSH9DpJ",
        "colab_type": "code",
        "outputId": "8d2abe9f-18fd-48c2-b516-bdc20ef2e440",
        "colab": {
          "base_uri": "https://localhost:8080/",
          "height": 136
        }
      },
      "source": [
        "y_train"
      ],
      "execution_count": 0,
      "outputs": [
        {
          "output_type": "execute_result",
          "data": {
            "text/plain": [
              "array([[0, 0, 1],\n",
              "       [0, 0, 1],\n",
              "       [0, 0, 1],\n",
              "       ...,\n",
              "       [1, 0, 0],\n",
              "       [0, 1, 0],\n",
              "       [1, 0, 0]], dtype=uint8)"
            ]
          },
          "metadata": {
            "tags": []
          },
          "execution_count": 74
        }
      ]
    },
    {
      "cell_type": "markdown",
      "metadata": {
        "id": "hIy088gy9I_t",
        "colab_type": "text"
      },
      "source": [
        "# Tokenize the words"
      ]
    },
    {
      "cell_type": "code",
      "metadata": {
        "id": "8yjxivk69FSe",
        "colab_type": "code",
        "colab": {}
      },
      "source": [
        "max_features = 20000\n",
        "tokenizer = Tokenizer(num_words=max_features)\n",
        "tokenizer.fit_on_texts(list(X_train))\n",
        "X_train = tokenizer.texts_to_sequences(X_train)\n",
        "X_test = tokenizer.texts_to_sequences(X_test)"
      ],
      "execution_count": 0,
      "outputs": []
    },
    {
      "cell_type": "code",
      "metadata": {
        "id": "uDGUnBgy9Gib",
        "colab_type": "code",
        "outputId": "206bdc8f-6f91-4ee1-8954-1b3db02cbecf",
        "colab": {
          "base_uri": "https://localhost:8080/",
          "height": 265
        }
      },
      "source": [
        "totalNumWords = [len(one_cleaned_tweet) for one_cleaned_tweet in X_train]\n",
        "plt.hist(totalNumWords,bins=30)\n",
        "plt.show()"
      ],
      "execution_count": 0,
      "outputs": [
        {
          "output_type": "display_data",
          "data": {
            "image/png": "[encoded data removed]",
            "text/plain": [
              "<Figure size 432x288 with 1 Axes>"
            ]
          },
          "metadata": {
            "tags": []
          }
        }
      ]
    },
    {
      "cell_type": "code",
      "metadata": {
        "id": "isJI4wfZ9Oi_",
        "colab_type": "code",
        "outputId": "6f963bba-1b62-4144-f6c4-d2fadc2635e6",
        "colab": {
          "base_uri": "https://localhost:8080/",
          "height": 34
        }
      },
      "source": [
        "max_words = max(totalNumWords)\n",
        "X_train = sequence.pad_sequences(X_train , maxlen = max_words)\n",
        "X_test = sequence.pad_sequences(X_test , maxlen = max_words)\n",
        "print(X_train.shape,X_test.shape)"
      ],
      "execution_count": 0,
      "outputs": [
        {
          "output_type": "stream",
          "text": [
            "(40687, 36) (10172, 36)\n"
          ],
          "name": "stdout"
        }
      ]
    },
    {
      "cell_type": "code",
      "metadata": {
        "id": "m9hR0kpz9QyV",
        "colab_type": "code",
        "colab": {}
      },
      "source": [
        ""
      ],
      "execution_count": 0,
      "outputs": []
    },
    {
      "cell_type": "markdown",
      "metadata": {
        "id": "2ZktNjq19TIs",
        "colab_type": "text"
      },
      "source": [
        "# Construct model"
      ]
    },
    {
      "cell_type": "markdown",
      "metadata": {
        "id": "HpuFauqBFBzD",
        "colab_type": "text"
      },
      "source": [
        "## Baseline model - Random Forest"
      ]
    },
    {
      "cell_type": "code",
      "metadata": {
        "id": "35K2aSyIGooV",
        "colab_type": "code",
        "colab": {}
      },
      "source": [
        "X_train, X_val, y_train, y_val = train_test_split(X_train,y_train , test_size=0.2, random_state=42)\n"
      ],
      "execution_count": 0,
      "outputs": []
    },
    {
      "cell_type": "code",
      "metadata": {
        "id": "YEthTKtOFFP9",
        "colab_type": "code",
        "outputId": "5e0a152b-9a81-4902-d55d-e5c7087128ac",
        "colab": {
          "base_uri": "https://localhost:8080/",
          "height": 51
        }
      },
      "source": [
        "random_forest = RandomForestClassifier(random_state=123)\n",
        "random_forest.fit(X_train,y_train)\n",
        "print(random_forest.score(X_train, y_train))\n",
        "print(random_forest.score(X_val, y_val))"
      ],
      "execution_count": 0,
      "outputs": [
        {
          "output_type": "stream",
          "text": [
            "0.9999078312697779\n",
            "0.8354632587859425\n"
          ],
          "name": "stdout"
        }
      ]
    },
    {
      "cell_type": "markdown",
      "metadata": {
        "id": "Qoia6hWrmM-K",
        "colab_type": "text"
      },
      "source": [
        "## GRU model"
      ]
    },
    {
      "cell_type": "code",
      "metadata": {
        "id": "-ALs8la4mLJc",
        "colab_type": "code",
        "colab": {}
      },
      "source": [
        "def get_model_gru(max_features , embed_dim):\n",
        "    np.random.seed(42)\n",
        "    K.clear_session()\n",
        "    model = Sequential()\n",
        "    model.add(Embedding(max_features , embed_dim , input_length=X_train.shape[1]))\n",
        "    model.add(GRU(100 , dropout=0.2 , recurrent_dropout=0.2))\n",
        "    model.add(Dense(num_classes , activation='softmax'))\n",
        "    model.compile(loss = 'categorical_crossentropy' , optimizer = 'adam' , metrics = ['accuracy'])\n",
        "    print(model.summary())\n",
        "    return model"
      ],
      "execution_count": 0,
      "outputs": []
    },
    {
      "cell_type": "code",
      "metadata": {
        "id": "kxSd3UK0rh7f",
        "colab_type": "code",
        "outputId": "2618a5f5-ad90-4697-e56b-a19a6d3939c4",
        "colab": {
          "base_uri": "https://localhost:8080/",
          "height": 408
        }
      },
      "source": [
        "max_features = 20000\n",
        "embed_dim =100\n",
        "gru_model = get_model_gru(max_features,embed_dim)\n",
        "model_train(gru_model)"
      ],
      "execution_count": 0,
      "outputs": [
        {
          "output_type": "stream",
          "text": [
            "Model: \"sequential_1\"\n",
            "_________________________________________________________________\n",
            "Layer (type)                 Output Shape              Param #   \n",
            "=================================================================\n",
            "embedding_1 (Embedding)      (None, 36, 100)           2000000   \n",
            "_________________________________________________________________\n",
            "gru_1 (GRU)                  (None, 100)               60300     \n",
            "_________________________________________________________________\n",
            "dense_1 (Dense)              (None, 3)                 303       \n",
            "=================================================================\n",
            "Total params: 2,060,603\n",
            "Trainable params: 2,060,603\n",
            "Non-trainable params: 0\n",
            "_________________________________________________________________\n",
            "None\n",
            "Train on 32549 samples, validate on 10172 samples\n",
            "Epoch 1/3\n",
            " - 31s - loss: 0.3659 - acc: 0.8637 - val_loss: 0.1211 - val_acc: 0.9632\n",
            "Epoch 2/3\n",
            " - 30s - loss: 0.0700 - acc: 0.9803 - val_loss: 0.0956 - val_acc: 0.9734\n",
            "Epoch 3/3\n",
            " - 30s - loss: 0.0299 - acc: 0.9919 - val_loss: 0.1012 - val_acc: 0.9757\n"
          ],
          "name": "stdout"
        },
        {
          "output_type": "execute_result",
          "data": {
            "text/plain": [
              "<keras.callbacks.History at 0x7fa4f2209358>"
            ]
          },
          "metadata": {
            "tags": []
          },
          "execution_count": 90
        }
      ]
    },
    {
      "cell_type": "code",
      "metadata": {
        "id": "mwy66nhMsnaT",
        "colab_type": "code",
        "outputId": "47fa78cd-f013-4a0f-bb99-33faaa95ea9e",
        "colab": {
          "base_uri": "https://localhost:8080/",
          "height": 552
        }
      },
      "source": [
        "model_evaluate(gru_model)"
      ],
      "execution_count": 0,
      "outputs": [
        {
          "output_type": "stream",
          "text": [
            "Predicted  [0 0 1 ... 1 0 2]\n",
            "True  [0 0 1 ... 1 0 2]\n",
            "Accuracy:\t97.6%\n",
            "\n",
            "\n",
            "              precision    recall  f1-score   support\n",
            "\n",
            "           0       0.95      0.93      0.94      1164\n",
            "           1       0.97      0.98      0.98      4345\n",
            "           2       0.98      0.98      0.98      4663\n",
            "\n",
            "    accuracy                           0.98     10172\n",
            "   macro avg       0.97      0.96      0.97     10172\n",
            "weighted avg       0.98      0.98      0.98     10172\n",
            "\n"
          ],
          "name": "stdout"
        },
        {
          "output_type": "display_data",
          "data": {
            "image/png": "[encoded data removed]",
            "text/plain": [
              "<Figure size 288x288 with 1 Axes>"
            ]
          },
          "metadata": {
            "tags": []
          }
        }
      ]
    },
    {
      "cell_type": "markdown",
      "metadata": {
        "id": "NaGWg-OZG1Oc",
        "colab_type": "text"
      },
      "source": [
        "## LSTM model"
      ]
    },
    {
      "cell_type": "code",
      "metadata": {
        "id": "EQaJsDsn9WEQ",
        "colab_type": "code",
        "colab": {}
      },
      "source": [
        "batch_size = 128\n",
        "epochs = 3"
      ],
      "execution_count": 0,
      "outputs": []
    },
    {
      "cell_type": "code",
      "metadata": {
        "id": "8GQ1KpyQ9czK",
        "colab_type": "code",
        "colab": {}
      },
      "source": [
        "def get_model(max_features , embed_dim):\n",
        "    np.random.seed(42)\n",
        "    K.clear_session()\n",
        "    model = Sequential()\n",
        "    model.add(Embedding(max_features , embed_dim , input_length=X_train.shape[1]))\n",
        "    model.add(LSTM(100 , dropout=0.2 , recurrent_dropout=0.2))\n",
        "    model.add(Dense(num_classes , activation='softmax'))\n",
        "    model.compile(loss = 'categorical_crossentropy' , optimizer = 'adam' , metrics = ['accuracy'])\n",
        "    print(model.summary())\n",
        "    return model"
      ],
      "execution_count": 0,
      "outputs": []
    },
    {
      "cell_type": "code",
      "metadata": {
        "id": "MCWfEPfN9epk",
        "colab_type": "code",
        "colab": {}
      },
      "source": [
        "def model_train(model):\n",
        "    #training the model\n",
        "    model_history = model.fit(X_train , y_train , validation_data = (X_test , y_test), \n",
        "                              epochs = epochs ,batch_size= batch_size,verbose = 2)\n",
        "    return model_history"
      ],
      "execution_count": 0,
      "outputs": []
    },
    {
      "cell_type": "code",
      "metadata": {
        "id": "7O06jcBt9ga7",
        "colab_type": "code",
        "colab": {}
      },
      "source": [
        ""
      ],
      "execution_count": 0,
      "outputs": []
    },
    {
      "cell_type": "code",
      "metadata": {
        "id": "Ym2Dc6cD9h-P",
        "colab_type": "code",
        "outputId": "e00fe22a-2fdb-4ab4-c93b-60318464e457",
        "colab": {
          "base_uri": "https://localhost:8080/",
          "height": 408
        }
      },
      "source": [
        "max_features = 20000\n",
        "embed_dim =100\n",
        "lstm_model = get_model(max_features,embed_dim)\n",
        "lstm_model_train(model)"
      ],
      "execution_count": 0,
      "outputs": [
        {
          "output_type": "stream",
          "text": [
            "Model: \"sequential_1\"\n",
            "_________________________________________________________________\n",
            "Layer (type)                 Output Shape              Param #   \n",
            "=================================================================\n",
            "embedding_1 (Embedding)      (None, 36, 100)           2000000   \n",
            "_________________________________________________________________\n",
            "lstm_1 (LSTM)                (None, 100)               80400     \n",
            "_________________________________________________________________\n",
            "dense_1 (Dense)              (None, 3)                 303       \n",
            "=================================================================\n",
            "Total params: 2,080,703\n",
            "Trainable params: 2,080,703\n",
            "Non-trainable params: 0\n",
            "_________________________________________________________________\n",
            "None\n",
            "Train on 32549 samples, validate on 10172 samples\n",
            "Epoch 1/3\n",
            " - 38s - loss: 0.3843 - acc: 0.8500 - val_loss: 0.1341 - val_acc: 0.9569\n",
            "Epoch 2/3\n",
            " - 36s - loss: 0.0726 - acc: 0.9791 - val_loss: 0.0962 - val_acc: 0.9714\n",
            "Epoch 3/3\n",
            " - 36s - loss: 0.0297 - acc: 0.9918 - val_loss: 0.1080 - val_acc: 0.9729\n"
          ],
          "name": "stdout"
        },
        {
          "output_type": "execute_result",
          "data": {
            "text/plain": [
              "<keras.callbacks.History at 0x7fa4f6fac470>"
            ]
          },
          "metadata": {
            "tags": []
          },
          "execution_count": 96
        }
      ]
    },
    {
      "cell_type": "markdown",
      "metadata": {
        "id": "RKxCzBpCuP0W",
        "colab_type": "text"
      },
      "source": [
        "## Evaluate on test dataset"
      ]
    },
    {
      "cell_type": "code",
      "metadata": {
        "id": "JxvBEW0OuV9W",
        "colab_type": "code",
        "colab": {}
      },
      "source": [
        "def model_evaluate(model):\n",
        "    #predict classes with test set\n",
        "    y_pred_test = model.predict_classes(X_test , batch_size = batch_size, verbose =0)\n",
        "    print(\"Predicted \", y_pred_test)\n",
        "    print(\"True \" , np.argmax(y_test,axis = 1))\n",
        "    print('Accuracy:\\t{:0.1f}%'.format(accuracy_score(np.argmax(y_test,axis = 1),y_pred_test)*100))\n",
        "    \n",
        "    #Classification Report\n",
        "    print(\"\\n\")\n",
        "    print(classification_report(np.argmax(y_test, axis =1),y_pred_test))\n",
        "    \n",
        "    #Confusion Matrix\n",
        "    confmat = confusion_matrix(np.argmax(y_test , axis = 1), y_pred_test)\n",
        "    fig , ax = plt.subplots(figsize=(4,4))\n",
        "    ax.matshow(confmat , cmap =plt.cm.Blues , alpha = 0.3)\n",
        "    \n",
        "    for i in range(confmat.shape[0]):\n",
        "        for j in range(confmat.shape[1]):\n",
        "            ax.text( x = j , y = i , s =confmat[i,j] , va = 'center' , ha = 'center')\n",
        "    \n",
        "    plt.xlabel(\"Predicted Label\")\n",
        "    plt.ylabel(\"True Label\")\n",
        "    plt.tight_layout()"
      ],
      "execution_count": 0,
      "outputs": []
    },
    {
      "cell_type": "code",
      "metadata": {
        "id": "JoVwuSuAuaEo",
        "colab_type": "code",
        "outputId": "21fce6d2-3866-4e12-866d-44ed2fd6b87a",
        "colab": {
          "base_uri": "https://localhost:8080/",
          "height": 552
        }
      },
      "source": [
        "model_evaluate(lstm_model)"
      ],
      "execution_count": 0,
      "outputs": [
        {
          "output_type": "stream",
          "text": [
            "Predicted  [0 0 1 ... 1 0 2]\n",
            "True  [0 0 1 ... 1 0 2]\n",
            "Accuracy:\t97.3%\n",
            "\n",
            "\n",
            "              precision    recall  f1-score   support\n",
            "\n",
            "           0       0.95      0.92      0.94      1164\n",
            "           1       0.96      0.99      0.98      4345\n",
            "           2       0.99      0.97      0.98      4663\n",
            "\n",
            "    accuracy                           0.97     10172\n",
            "   macro avg       0.97      0.96      0.96     10172\n",
            "weighted avg       0.97      0.97      0.97     10172\n",
            "\n"
          ],
          "name": "stdout"
        },
        {
          "output_type": "display_data",
          "data": {
            "image/png": "[encoded data removed]",
            "text/plain": [
              "<Figure size 288x288 with 1 Axes>"
            ]
          },
          "metadata": {
            "tags": []
          }
        }
      ]
    },
    {
      "cell_type": "markdown",
      "metadata": {
        "id": "LQZL7gcI-U6i",
        "colab_type": "text"
      },
      "source": [
        "# Store model"
      ]
    },
    {
      "cell_type": "code",
      "metadata": {
        "id": "10SjOD2k-GWL",
        "colab_type": "code",
        "colab": {}
      },
      "source": [
        "pickle.dump(model, open(\"gru_model_v1.p\", \"wb\"))"
      ],
      "execution_count": 0,
      "outputs": []
    },
    {
      "cell_type": "markdown",
      "metadata": {
        "id": "-aMEayhIUbR9",
        "colab_type": "text"
      },
      "source": [
        "# Pre-trained NLTK model"
      ]
    },
    {
      "cell_type": "code",
      "metadata": {
        "id": "FOgmJf_xUdNp",
        "colab_type": "code",
        "outputId": "2da3de41-7fea-4b15-c750-dbbeeca00792",
        "colab": {
          "base_uri": "https://localhost:8080/",
          "height": 88
        }
      },
      "source": [
        "nltk.download('vader_lexicon')\n",
        "from nltk.sentiment.vader import SentimentIntensityAnalyzer\n"
      ],
      "execution_count": 0,
      "outputs": [
        {
          "output_type": "stream",
          "text": [
            "[nltk_data] Downloading package vader_lexicon to /root/nltk_data...\n"
          ],
          "name": "stdout"
        },
        {
          "output_type": "stream",
          "text": [
            "/usr/local/lib/python3.6/dist-packages/nltk/twitter/__init__.py:20: UserWarning: The twython library has not been installed. Some functionality from the twitter package will not be available.\n",
            "  warnings.warn(\"The twython library has not been installed. \"\n"
          ],
          "name": "stderr"
        }
      ]
    },
    {
      "cell_type": "code",
      "metadata": {
        "id": "deen8ou-bGXC",
        "colab_type": "code",
        "outputId": "8141176c-2828-474f-be71-035256a22229",
        "colab": {
          "base_uri": "https://localhost:8080/",
          "height": 419
        }
      },
      "source": [
        "prepr_df"
      ],
      "execution_count": 0,
      "outputs": [
        {
          "output_type": "execute_result",
          "data": {
            "text/html": [
              "<div>\n",
              "<style scoped>\n",
              "    .dataframe tbody tr th:only-of-type {\n",
              "        vertical-align: middle;\n",
              "    }\n",
              "\n",
              "    .dataframe tbody tr th {\n",
              "        vertical-align: top;\n",
              "    }\n",
              "\n",
              "    .dataframe thead th {\n",
              "        text-align: right;\n",
              "    }\n",
              "</style>\n",
              "<table border=\"1\" class=\"dataframe\">\n",
              "  <thead>\n",
              "    <tr style=\"text-align: right;\">\n",
              "      <th></th>\n",
              "      <th>Unnamed: 0</th>\n",
              "      <th>timestamp</th>\n",
              "      <th>clean_tweets</th>\n",
              "    </tr>\n",
              "  </thead>\n",
              "  <tbody>\n",
              "    <tr>\n",
              "      <th>0</th>\n",
              "      <td>0</td>\n",
              "      <td>2016-06-25 23:59:52</td>\n",
              "      <td>Bitcoin: Pissed-off customers sue GAW Miners i...</td>\n",
              "    </tr>\n",
              "    <tr>\n",
              "      <th>1</th>\n",
              "      <td>1</td>\n",
              "      <td>2016-06-25 23:59:36</td>\n",
              "      <td>I'm not gone lie I be staring at pplwhat btc's...</td>\n",
              "    </tr>\n",
              "    <tr>\n",
              "      <th>2</th>\n",
              "      <td>2</td>\n",
              "      <td>2016-06-25 23:59:17</td>\n",
              "      <td>Did you miss Beyond Bitcoin Hangout? I CANNOT ...</td>\n",
              "    </tr>\n",
              "    <tr>\n",
              "      <th>3</th>\n",
              "      <td>3</td>\n",
              "      <td>2016-06-25 23:59:15</td>\n",
              "      <td>What are the merits and risks of investing in ...</td>\n",
              "    </tr>\n",
              "    <tr>\n",
              "      <th>4</th>\n",
              "      <td>4</td>\n",
              "      <td>2016-06-25 23:59:08</td>\n",
              "      <td>Hash Ocean #Bitcoin Cloud Mining №1 in the wor...</td>\n",
              "    </tr>\n",
              "    <tr>\n",
              "      <th>...</th>\n",
              "      <td>...</td>\n",
              "      <td>...</td>\n",
              "      <td>...</td>\n",
              "    </tr>\n",
              "    <tr>\n",
              "      <th>3294884</th>\n",
              "      <td>3707951</td>\n",
              "      <td>2019-01-16 10:57:11</td>\n",
              "      <td>What the #Bitcoin #Pizza is worth today! …</td>\n",
              "    </tr>\n",
              "    <tr>\n",
              "      <th>3294885</th>\n",
              "      <td>3707952</td>\n",
              "      <td>2019-01-16 10:57:11</td>\n",
              "      <td>Bankrupt Bitcoin Miner Giga Watt Forced to Cea...</td>\n",
              "    </tr>\n",
              "    <tr>\n",
              "      <th>3294886</th>\n",
              "      <td>3707953</td>\n",
              "      <td>2019-01-16 10:57:11</td>\n",
              "      <td>#crypto #bitcoin #blockchain …</td>\n",
              "    </tr>\n",
              "    <tr>\n",
              "      <th>3294887</th>\n",
              "      <td>3707957</td>\n",
              "      <td>2019-01-16 10:57:03</td>\n",
              "      <td>\"Bitcoin - A method of secure transactions bas...</td>\n",
              "    </tr>\n",
              "    <tr>\n",
              "      <th>3294888</th>\n",
              "      <td>3707958</td>\n",
              "      <td>2019-01-16 10:57:02</td>\n",
              "      <td>MARKET BRAZIL CC SHOP [ ] | transactions = 98 ...</td>\n",
              "    </tr>\n",
              "  </tbody>\n",
              "</table>\n",
              "<p>3294889 rows × 3 columns</p>\n",
              "</div>"
            ],
            "text/plain": [
              "         Unnamed: 0  ...                                       clean_tweets\n",
              "0                 0  ...  Bitcoin: Pissed-off customers sue GAW Miners i...\n",
              "1                 1  ...  I'm not gone lie I be staring at pplwhat btc's...\n",
              "2                 2  ...  Did you miss Beyond Bitcoin Hangout? I CANNOT ...\n",
              "3                 3  ...  What are the merits and risks of investing in ...\n",
              "4                 4  ...  Hash Ocean #Bitcoin Cloud Mining №1 in the wor...\n",
              "...             ...  ...                                                ...\n",
              "3294884     3707951  ...         What the #Bitcoin #Pizza is worth today! …\n",
              "3294885     3707952  ...  Bankrupt Bitcoin Miner Giga Watt Forced to Cea...\n",
              "3294886     3707953  ...                     #crypto #bitcoin #blockchain …\n",
              "3294887     3707957  ...  \"Bitcoin - A method of secure transactions bas...\n",
              "3294888     3707958  ...  MARKET BRAZIL CC SHOP [ ] | transactions = 98 ...\n",
              "\n",
              "[3294889 rows x 3 columns]"
            ]
          },
          "metadata": {
            "tags": []
          },
          "execution_count": 31
        }
      ]
    },
    {
      "cell_type": "code",
      "metadata": {
        "id": "n2Zb_2nzVaO7",
        "colab_type": "code",
        "colab": {}
      },
      "source": [
        "sid = SentimentIntensityAnalyzer()\n",
        "sentiment_score = sid.polarity_scores(labeled_df['clean_tweets'][1])"
      ],
      "execution_count": 0,
      "outputs": []
    },
    {
      "cell_type": "code",
      "metadata": {
        "id": "niSAIawObOpZ",
        "colab_type": "code",
        "outputId": "c41a3796-9ee9-4992-d6f9-c1a2494cd977",
        "colab": {
          "base_uri": "https://localhost:8080/",
          "height": 34
        }
      },
      "source": [
        "sentiment_score"
      ],
      "execution_count": 0,
      "outputs": [
        {
          "output_type": "execute_result",
          "data": {
            "text/plain": [
              "{'compound': 0.0, 'neg': 0.0, 'neu': 1.0, 'pos': 0.0}"
            ]
          },
          "metadata": {
            "tags": []
          },
          "execution_count": 33
        }
      ]
    },
    {
      "cell_type": "code",
      "metadata": {
        "id": "GtgvTfbJe772",
        "colab_type": "code",
        "outputId": "06148a21-2b7c-41c7-b075-64a812fc4387",
        "colab": {
          "base_uri": "https://localhost:8080/",
          "height": 68
        }
      },
      "source": [
        "%time   #to calulate the time it takes the algorithm to compute a VADER score\n",
        "i=0 #counter\n",
        "compval1 = [ ]  #empty list to hold our computed 'compound' VADER scores\n",
        "while (i<len(labeled_df)):\n",
        "\n",
        "    k = sid.polarity_scores(labeled_df.iloc[i]['clean_tweets'])\n",
        "    compval1.append(k['compound'])    \n",
        "    i = i+1   \n",
        "#converting sentiment values to numpy for easier usage\n",
        "compval1 = np.array(compval1)\n",
        "len(compval1)"
      ],
      "execution_count": 0,
      "outputs": [
        {
          "output_type": "stream",
          "text": [
            "CPU times: user 4 µs, sys: 0 ns, total: 4 µs\n",
            "Wall time: 7.39 µs\n"
          ],
          "name": "stdout"
        },
        {
          "output_type": "execute_result",
          "data": {
            "text/plain": [
              "50859"
            ]
          },
          "metadata": {
            "tags": []
          },
          "execution_count": 44
        }
      ]
    },
    {
      "cell_type": "code",
      "metadata": {
        "id": "2Lp9SCD9fXaB",
        "colab_type": "code",
        "colab": {}
      },
      "source": [
        "labeled_df['VADER_score'] = compval1"
      ],
      "execution_count": 0,
      "outputs": []
    },
    {
      "cell_type": "code",
      "metadata": {
        "id": "IePwPRlXffCF",
        "colab_type": "code",
        "outputId": "f1b05b80-61a3-47f7-af6b-cde4472f5266",
        "colab": {
          "base_uri": "https://localhost:8080/",
          "height": 204
        }
      },
      "source": [
        "labeled_df.head()"
      ],
      "execution_count": 0,
      "outputs": [
        {
          "output_type": "execute_result",
          "data": {
            "text/html": [
              "<div>\n",
              "<style scoped>\n",
              "    .dataframe tbody tr th:only-of-type {\n",
              "        vertical-align: middle;\n",
              "    }\n",
              "\n",
              "    .dataframe tbody tr th {\n",
              "        vertical-align: top;\n",
              "    }\n",
              "\n",
              "    .dataframe thead th {\n",
              "        text-align: right;\n",
              "    }\n",
              "</style>\n",
              "<table border=\"1\" class=\"dataframe\">\n",
              "  <thead>\n",
              "    <tr style=\"text-align: right;\">\n",
              "      <th></th>\n",
              "      <th>date</th>\n",
              "      <th>sentiment</th>\n",
              "      <th>clean_tweets</th>\n",
              "      <th>VADER_score</th>\n",
              "    </tr>\n",
              "  </thead>\n",
              "  <tbody>\n",
              "    <tr>\n",
              "      <th>0</th>\n",
              "      <td>2018-03-23 00:40:32+00:00</td>\n",
              "      <td>['neutral']</td>\n",
              "      <td>: Paul Krugman, Nobel Luddite. I had to tweak...</td>\n",
              "      <td>-0.6808</td>\n",
              "    </tr>\n",
              "    <tr>\n",
              "      <th>1</th>\n",
              "      <td>2018-03-23 00:40:34+00:00</td>\n",
              "      <td>['neutral']</td>\n",
              "      <td>But  (dum b a ss) said you know nothing ab...</td>\n",
              "      <td>0.0000</td>\n",
              "    </tr>\n",
              "    <tr>\n",
              "      <th>2</th>\n",
              "      <td>2018-03-23 00:40:35+00:00</td>\n",
              "      <td>['positive']</td>\n",
              "      <td>: Another use case for #blockchain and #Tippe...</td>\n",
              "      <td>0.0000</td>\n",
              "    </tr>\n",
              "    <tr>\n",
              "      <th>3</th>\n",
              "      <td>2018-03-23 00:40:36+00:00</td>\n",
              "      <td>['positive']</td>\n",
              "      <td>free coins</td>\n",
              "      <td>0.5106</td>\n",
              "    </tr>\n",
              "    <tr>\n",
              "      <th>4</th>\n",
              "      <td>2018-03-23 00:40:36+00:00</td>\n",
              "      <td>['positive']</td>\n",
              "      <td>: WE are happy to announce that PayVX Presale...</td>\n",
              "      <td>0.6114</td>\n",
              "    </tr>\n",
              "  </tbody>\n",
              "</table>\n",
              "</div>"
            ],
            "text/plain": [
              "                       date  ... VADER_score\n",
              "0 2018-03-23 00:40:32+00:00  ...     -0.6808\n",
              "1 2018-03-23 00:40:34+00:00  ...      0.0000\n",
              "2 2018-03-23 00:40:35+00:00  ...      0.0000\n",
              "3 2018-03-23 00:40:36+00:00  ...      0.5106\n",
              "4 2018-03-23 00:40:36+00:00  ...      0.6114\n",
              "\n",
              "[5 rows x 4 columns]"
            ]
          },
          "metadata": {
            "tags": []
          },
          "execution_count": 46
        }
      ]
    },
    {
      "cell_type": "code",
      "metadata": {
        "id": "T7SjeTDbfku4",
        "colab_type": "code",
        "outputId": "79bf2ce5-e9a0-4d1f-8ad7-a1e23c686d57",
        "colab": {
          "base_uri": "https://localhost:8080/",
          "height": 51
        }
      },
      "source": [
        "%time\n",
        "#Assigning score categories and logic\n",
        "i = 0\n",
        "predicted_value = [ ] #empty series to hold our predicted values\n",
        "while(i<len(labeled_df)):\n",
        "    if ((labeled_df.iloc[i]['VADER_score'] >= 0.2)):\n",
        "        predicted_value.append('positive')\n",
        "        i = i+1\n",
        "    elif ((labeled_df.iloc[i]['VADER_score'] >= -0.5) & (labeled_df.iloc[i]['VADER_score'] < 0.2)):\n",
        "        predicted_value.append('neutral')\n",
        "        i = i+1\n",
        "    else:\n",
        "        predicted_value.append('negative')\n",
        "        i = i+1"
      ],
      "execution_count": 0,
      "outputs": [
        {
          "output_type": "stream",
          "text": [
            "CPU times: user 3 µs, sys: 0 ns, total: 3 µs\n",
            "Wall time: 5.48 µs\n"
          ],
          "name": "stdout"
        }
      ]
    },
    {
      "cell_type": "code",
      "metadata": {
        "id": "cSFkfBB9f6OA",
        "colab_type": "code",
        "colab": {}
      },
      "source": [
        "labeled_df['predicted_sentiment'] = predicted_value"
      ],
      "execution_count": 0,
      "outputs": []
    },
    {
      "cell_type": "code",
      "metadata": {
        "id": "eZR7jgdEgEfG",
        "colab_type": "code",
        "outputId": "c77edee2-7749-4e4f-f18c-37c7d81794a1",
        "colab": {
          "base_uri": "https://localhost:8080/",
          "height": 1000
        }
      },
      "source": [
        "labeled_df.tail(50)"
      ],
      "execution_count": 0,
      "outputs": [
        {
          "output_type": "execute_result",
          "data": {
            "text/html": [
              "<div>\n",
              "<style scoped>\n",
              "    .dataframe tbody tr th:only-of-type {\n",
              "        vertical-align: middle;\n",
              "    }\n",
              "\n",
              "    .dataframe tbody tr th {\n",
              "        vertical-align: top;\n",
              "    }\n",
              "\n",
              "    .dataframe thead th {\n",
              "        text-align: right;\n",
              "    }\n",
              "</style>\n",
              "<table border=\"1\" class=\"dataframe\">\n",
              "  <thead>\n",
              "    <tr style=\"text-align: right;\">\n",
              "      <th></th>\n",
              "      <th>date</th>\n",
              "      <th>sentiment</th>\n",
              "      <th>clean_tweets</th>\n",
              "      <th>VADER_score</th>\n",
              "      <th>predicted_sentiment</th>\n",
              "    </tr>\n",
              "  </thead>\n",
              "  <tbody>\n",
              "    <tr>\n",
              "      <th>50809</th>\n",
              "      <td>2018-03-23 08:54:56+00:00</td>\n",
              "      <td>['positive']</td>\n",
              "      <td>: Great news! Aeron Pilot application now in ...</td>\n",
              "      <td>0.6588</td>\n",
              "      <td>positive</td>\n",
              "    </tr>\n",
              "    <tr>\n",
              "      <th>50810</th>\n",
              "      <td>2018-03-23 08:54:58+00:00</td>\n",
              "      <td>['positive']</td>\n",
              "      <td>: Here reporting from Blockchain  ; Bitcoin C...</td>\n",
              "      <td>0.8977</td>\n",
              "      <td>positive</td>\n",
              "    </tr>\n",
              "    <tr>\n",
              "      <th>50811</th>\n",
              "      <td>2018-03-23 08:55:00+00:00</td>\n",
              "      <td>['neutral']</td>\n",
              "      <td>5 min #RSI Signals:\\n\\n$BTC - $BRK: 1.02\\n$BTC...</td>\n",
              "      <td>0.0000</td>\n",
              "      <td>neutral</td>\n",
              "    </tr>\n",
              "    <tr>\n",
              "      <th>50812</th>\n",
              "      <td>2018-03-23 08:55:00+00:00</td>\n",
              "      <td>['positive']</td>\n",
              "      <td>: We are very pleased to announce we are star...</td>\n",
              "      <td>0.9268</td>\n",
              "      <td>positive</td>\n",
              "    </tr>\n",
              "    <tr>\n",
              "      <th>50813</th>\n",
              "      <td>2018-03-23 08:55:00+00:00</td>\n",
              "      <td>['positive']</td>\n",
              "      <td>The latest Chatback #Security News!  Thanks to...</td>\n",
              "      <td>0.4926</td>\n",
              "      <td>positive</td>\n",
              "    </tr>\n",
              "    <tr>\n",
              "      <th>50814</th>\n",
              "      <td>2018-03-23 08:55:00+00:00</td>\n",
              "      <td>['negative']</td>\n",
              "      <td>Bitcoin Will Be World's 'Single Currency' Says...</td>\n",
              "      <td>0.0000</td>\n",
              "      <td>neutral</td>\n",
              "    </tr>\n",
              "    <tr>\n",
              "      <th>50815</th>\n",
              "      <td>2018-03-23 08:55:02+00:00</td>\n",
              "      <td>['neutral']</td>\n",
              "      <td>College students are using student loans to in...</td>\n",
              "      <td>0.0000</td>\n",
              "      <td>neutral</td>\n",
              "    </tr>\n",
              "    <tr>\n",
              "      <th>50816</th>\n",
              "      <td>2018-03-23 08:55:02+00:00</td>\n",
              "      <td>['positive']</td>\n",
              "      <td>: After a successful launch of our Bounty cam...</td>\n",
              "      <td>0.5859</td>\n",
              "      <td>positive</td>\n",
              "    </tr>\n",
              "    <tr>\n",
              "      <th>50817</th>\n",
              "      <td>2018-03-23 08:55:02+00:00</td>\n",
              "      <td>['neutral']</td>\n",
              "      <td>: It's been 72 hours since the official launc...</td>\n",
              "      <td>0.3818</td>\n",
              "      <td>positive</td>\n",
              "    </tr>\n",
              "    <tr>\n",
              "      <th>50818</th>\n",
              "      <td>2018-03-23 08:55:03+00:00</td>\n",
              "      <td>['negative']</td>\n",
              "      <td>: Use the code: HF18BDAY30 at purchase to get...</td>\n",
              "      <td>-0.2263</td>\n",
              "      <td>neutral</td>\n",
              "    </tr>\n",
              "    <tr>\n",
              "      <th>50819</th>\n",
              "      <td>2018-03-23 08:55:03+00:00</td>\n",
              "      <td>['neutral']</td>\n",
              "      <td>I've transferred your tip of 0.00010115 BCH (...</td>\n",
              "      <td>0.0000</td>\n",
              "      <td>neutral</td>\n",
              "    </tr>\n",
              "    <tr>\n",
              "      <th>50820</th>\n",
              "      <td>2018-03-23 08:55:03+00:00</td>\n",
              "      <td>['neutral']</td>\n",
              "      <td>: Meet  team 22-23 of March on Blockchain con...</td>\n",
              "      <td>0.0000</td>\n",
              "      <td>neutral</td>\n",
              "    </tr>\n",
              "    <tr>\n",
              "      <th>50821</th>\n",
              "      <td>2018-03-23 08:55:03+00:00</td>\n",
              "      <td>['positive']</td>\n",
              "      <td>How to Buy the Best Bitcoin and Cryptocurrency...</td>\n",
              "      <td>0.6369</td>\n",
              "      <td>positive</td>\n",
              "    </tr>\n",
              "    <tr>\n",
              "      <th>50822</th>\n",
              "      <td>2018-03-23 08:55:04+00:00</td>\n",
              "      <td>['positive']</td>\n",
              "      <td>Buying and Selling Bitcoin: The Best Time To D...</td>\n",
              "      <td>0.6369</td>\n",
              "      <td>positive</td>\n",
              "    </tr>\n",
              "    <tr>\n",
              "      <th>50823</th>\n",
              "      <td>2018-03-23 08:55:04+00:00</td>\n",
              "      <td>['positive']</td>\n",
              "      <td>Earn bitcoin on a daily basis!\\n\\n1. Follow  \\...</td>\n",
              "      <td>0.0000</td>\n",
              "      <td>neutral</td>\n",
              "    </tr>\n",
              "    <tr>\n",
              "      <th>50824</th>\n",
              "      <td>2018-03-23 08:55:04+00:00</td>\n",
              "      <td>['neutral']</td>\n",
              "      <td>: Get your week's #blockchain  ; #cryptocurre...</td>\n",
              "      <td>0.0000</td>\n",
              "      <td>neutral</td>\n",
              "    </tr>\n",
              "    <tr>\n",
              "      <th>50825</th>\n",
              "      <td>2018-03-23 08:55:04+00:00</td>\n",
              "      <td>['neutral']</td>\n",
              "      <td>: Bug Caught That Allowed Coinbase Users to G...</td>\n",
              "      <td>0.0000</td>\n",
              "      <td>neutral</td>\n",
              "    </tr>\n",
              "    <tr>\n",
              "      <th>50826</th>\n",
              "      <td>2018-03-23 08:55:05+00:00</td>\n",
              "      <td>['positive']</td>\n",
              "      <td>Earn bitcoin on a daily basis!\\n\\n1. Follow  \\...</td>\n",
              "      <td>0.0000</td>\n",
              "      <td>neutral</td>\n",
              "    </tr>\n",
              "    <tr>\n",
              "      <th>50827</th>\n",
              "      <td>2018-03-23 08:55:05+00:00</td>\n",
              "      <td>['neutral']</td>\n",
              "      <td>TechCrunch: Ben is a chatbot that lets you lea...</td>\n",
              "      <td>0.0000</td>\n",
              "      <td>neutral</td>\n",
              "    </tr>\n",
              "    <tr>\n",
              "      <th>50828</th>\n",
              "      <td>2018-03-23 08:55:05+00:00</td>\n",
              "      <td>['neutral']</td>\n",
              "      <td>YES! Some of our team members are currently in...</td>\n",
              "      <td>0.6145</td>\n",
              "      <td>positive</td>\n",
              "    </tr>\n",
              "    <tr>\n",
              "      <th>50829</th>\n",
              "      <td>2018-03-23 08:55:06+00:00</td>\n",
              "      <td>['positive']</td>\n",
              "      <td>: Great news! Aeron Pilot application now in ...</td>\n",
              "      <td>0.6588</td>\n",
              "      <td>positive</td>\n",
              "    </tr>\n",
              "    <tr>\n",
              "      <th>50830</th>\n",
              "      <td>2018-03-23 08:55:06+00:00</td>\n",
              "      <td>['neutral']</td>\n",
              "      <td>💥The Gladius Airdrop💥 is a valuable opportunit...</td>\n",
              "      <td>0.7096</td>\n",
              "      <td>positive</td>\n",
              "    </tr>\n",
              "    <tr>\n",
              "      <th>50831</th>\n",
              "      <td>2018-03-23 08:55:06+00:00</td>\n",
              "      <td>['neutral']</td>\n",
              "      <td>: Register Now  ; go Long📈 or Short📉 on #Zcas...</td>\n",
              "      <td>0.0000</td>\n",
              "      <td>neutral</td>\n",
              "    </tr>\n",
              "    <tr>\n",
              "      <th>50832</th>\n",
              "      <td>2018-03-23 08:55:07+00:00</td>\n",
              "      <td>['positive']</td>\n",
              "      <td>: OK Internet... I need your help... let’s br...</td>\n",
              "      <td>0.4466</td>\n",
              "      <td>positive</td>\n",
              "    </tr>\n",
              "    <tr>\n",
              "      <th>50833</th>\n",
              "      <td>2018-03-23 08:55:07+00:00</td>\n",
              "      <td>['neutral']</td>\n",
              "      <td>No 6. The Emperor Wears No Clothes: No One Act...</td>\n",
              "      <td>-0.6808</td>\n",
              "      <td>negative</td>\n",
              "    </tr>\n",
              "    <tr>\n",
              "      <th>50834</th>\n",
              "      <td>2018-03-23 08:55:07+00:00</td>\n",
              "      <td>['neutral']</td>\n",
              "      <td>: Token Issuance on Syscoin Platform and Mast...</td>\n",
              "      <td>0.0000</td>\n",
              "      <td>neutral</td>\n",
              "    </tr>\n",
              "    <tr>\n",
              "      <th>50835</th>\n",
              "      <td>2018-03-23 08:55:08+00:00</td>\n",
              "      <td>['positive']</td>\n",
              "      <td>plans to implement Lightning Network - the so...</td>\n",
              "      <td>0.4767</td>\n",
              "      <td>positive</td>\n",
              "    </tr>\n",
              "    <tr>\n",
              "      <th>50836</th>\n",
              "      <td>2018-03-23 08:55:08+00:00</td>\n",
              "      <td>['neutral']</td>\n",
              "      <td>U.S. Plans to Cut Funding for Bitcoin Futures ...</td>\n",
              "      <td>-0.2732</td>\n",
              "      <td>neutral</td>\n",
              "    </tr>\n",
              "    <tr>\n",
              "      <th>50837</th>\n",
              "      <td>2018-03-23 08:55:09+00:00</td>\n",
              "      <td>['negative']</td>\n",
              "      <td>Twitter CEO Says Bitcoin Will Be World’s ‘Sing...</td>\n",
              "      <td>0.0000</td>\n",
              "      <td>neutral</td>\n",
              "    </tr>\n",
              "    <tr>\n",
              "      <th>50838</th>\n",
              "      <td>2018-03-23 08:55:10+00:00</td>\n",
              "      <td>['neutral']</td>\n",
              "      <td>Install CryptoTab and mine Bitcoin!</td>\n",
              "      <td>0.0000</td>\n",
              "      <td>neutral</td>\n",
              "    </tr>\n",
              "    <tr>\n",
              "      <th>50839</th>\n",
              "      <td>2018-03-23 08:55:10+00:00</td>\n",
              "      <td>['neutral']</td>\n",
              "      <td>15 min #RSI Signals:\\n\\n$BTC - $GAM: 8.67\\n$BT...</td>\n",
              "      <td>0.0000</td>\n",
              "      <td>neutral</td>\n",
              "    </tr>\n",
              "    <tr>\n",
              "      <th>50840</th>\n",
              "      <td>2018-03-23 08:55:11+00:00</td>\n",
              "      <td>['neutral']</td>\n",
              "      <td>: This are our ICO periods and their bonus! P...</td>\n",
              "      <td>0.5848</td>\n",
              "      <td>positive</td>\n",
              "    </tr>\n",
              "    <tr>\n",
              "      <th>50841</th>\n",
              "      <td>2018-03-23 08:55:11+00:00</td>\n",
              "      <td>['positive']</td>\n",
              "      <td>: Great news! Aeron Pilot application now in ...</td>\n",
              "      <td>0.6588</td>\n",
              "      <td>positive</td>\n",
              "    </tr>\n",
              "    <tr>\n",
              "      <th>50842</th>\n",
              "      <td>2018-03-23 08:55:11+00:00</td>\n",
              "      <td>['neutral']</td>\n",
              "      <td>: Today we're celebrating our #birthday! 🎂\\nC...</td>\n",
              "      <td>0.6114</td>\n",
              "      <td>positive</td>\n",
              "    </tr>\n",
              "    <tr>\n",
              "      <th>50843</th>\n",
              "      <td>2018-03-23 08:55:12+00:00</td>\n",
              "      <td>['neutral']</td>\n",
              "      <td>Twitter CEO believes that #cryptocurrency will...</td>\n",
              "      <td>0.0000</td>\n",
              "      <td>neutral</td>\n",
              "    </tr>\n",
              "    <tr>\n",
              "      <th>50844</th>\n",
              "      <td>2018-03-23 08:55:12+00:00</td>\n",
              "      <td>['neutral']</td>\n",
              "      <td>: Meet  team 22-23 of March on Blockchain con...</td>\n",
              "      <td>0.0000</td>\n",
              "      <td>neutral</td>\n",
              "    </tr>\n",
              "    <tr>\n",
              "      <th>50845</th>\n",
              "      <td>2018-03-23 08:55:14+00:00</td>\n",
              "      <td>['neutral']</td>\n",
              "      <td>cryptocurrency miner, who is growing 'cryptoma...</td>\n",
              "      <td>0.1779</td>\n",
              "      <td>neutral</td>\n",
              "    </tr>\n",
              "    <tr>\n",
              "      <th>50846</th>\n",
              "      <td>2018-03-23 08:55:14+00:00</td>\n",
              "      <td>['neutral']</td>\n",
              "      <td>Bitcoin: Mastering Bitcoin: Discover How I (An...</td>\n",
              "      <td>0.0000</td>\n",
              "      <td>neutral</td>\n",
              "    </tr>\n",
              "    <tr>\n",
              "      <th>50847</th>\n",
              "      <td>2018-03-23 08:55:14+00:00</td>\n",
              "      <td>['positive']</td>\n",
              "      <td>: Create custom group bets and invite your fr...</td>\n",
              "      <td>0.8402</td>\n",
              "      <td>positive</td>\n",
              "    </tr>\n",
              "    <tr>\n",
              "      <th>50848</th>\n",
              "      <td>2018-03-23 08:55:14+00:00</td>\n",
              "      <td>['neutral']</td>\n",
              "      <td>#Zhao #Dong #Recounts How He Lost 9,000 #BTC  ...</td>\n",
              "      <td>-0.3182</td>\n",
              "      <td>neutral</td>\n",
              "    </tr>\n",
              "    <tr>\n",
              "      <th>50849</th>\n",
              "      <td>2018-03-23 08:55:15+00:00</td>\n",
              "      <td>['negative']</td>\n",
              "      <td>: Decentralizing businesses reputation enable...</td>\n",
              "      <td>0.0000</td>\n",
              "      <td>neutral</td>\n",
              "    </tr>\n",
              "    <tr>\n",
              "      <th>50850</th>\n",
              "      <td>2018-03-23 08:55:15+00:00</td>\n",
              "      <td>['positive']</td>\n",
              "      <td>: Maaan, BiTCh is a bitch,\\nI've had enuff.\\n...</td>\n",
              "      <td>-0.8225</td>\n",
              "      <td>negative</td>\n",
              "    </tr>\n",
              "    <tr>\n",
              "      <th>50851</th>\n",
              "      <td>2018-03-23 08:55:15+00:00</td>\n",
              "      <td>['neutral']</td>\n",
              "      <td>Bitcoin Price Technical Analysis for 03/23/201...</td>\n",
              "      <td>0.0000</td>\n",
              "      <td>neutral</td>\n",
              "    </tr>\n",
              "    <tr>\n",
              "      <th>50852</th>\n",
              "      <td>2018-03-23 08:55:15+00:00</td>\n",
              "      <td>['positive']</td>\n",
              "      <td>: Coinbase Is In Talks to Buy One of Bitcoin'...</td>\n",
              "      <td>0.6369</td>\n",
              "      <td>positive</td>\n",
              "    </tr>\n",
              "    <tr>\n",
              "      <th>50853</th>\n",
              "      <td>2018-03-23 08:55:16+00:00</td>\n",
              "      <td>['neutral']</td>\n",
              "      <td>: 2,000,000 PHT TOKEN #airdrop \\n1. Follow \\n...</td>\n",
              "      <td>0.6808</td>\n",
              "      <td>positive</td>\n",
              "    </tr>\n",
              "    <tr>\n",
              "      <th>50854</th>\n",
              "      <td>2018-03-23 08:55:16+00:00</td>\n",
              "      <td>['positive']</td>\n",
              "      <td>: Fixy Network brings popular cryptocurrencie...</td>\n",
              "      <td>0.6597</td>\n",
              "      <td>positive</td>\n",
              "    </tr>\n",
              "    <tr>\n",
              "      <th>50855</th>\n",
              "      <td>2018-03-23 08:55:17+00:00</td>\n",
              "      <td>['positive']</td>\n",
              "      <td>: After a successful launch of our Bounty cam...</td>\n",
              "      <td>0.5859</td>\n",
              "      <td>positive</td>\n",
              "    </tr>\n",
              "    <tr>\n",
              "      <th>50856</th>\n",
              "      <td>2018-03-23 08:55:18+00:00</td>\n",
              "      <td>['neutral']</td>\n",
              "      <td>: Buy #GYMRewards Tokens, Bonus Time is endin...</td>\n",
              "      <td>0.5848</td>\n",
              "      <td>positive</td>\n",
              "    </tr>\n",
              "    <tr>\n",
              "      <th>50857</th>\n",
              "      <td>2018-03-23 08:55:19+00:00</td>\n",
              "      <td>['positive']</td>\n",
              "      <td>I added a video to a  playlist  How To Bitcoin...</td>\n",
              "      <td>0.5106</td>\n",
              "      <td>positive</td>\n",
              "    </tr>\n",
              "    <tr>\n",
              "      <th>50858</th>\n",
              "      <td>2018-03-23 08:55:19+00:00</td>\n",
              "      <td>['positive']</td>\n",
              "      <td>: Airdrop PhotoCoin Airdrop Round#2. 100 #Pho...</td>\n",
              "      <td>0.3400</td>\n",
              "      <td>positive</td>\n",
              "    </tr>\n",
              "  </tbody>\n",
              "</table>\n",
              "</div>"
            ],
            "text/plain": [
              "                           date     sentiment  ... VADER_score  predicted_sentiment\n",
              "50809 2018-03-23 08:54:56+00:00  ['positive']  ...      0.6588             positive\n",
              "50810 2018-03-23 08:54:58+00:00  ['positive']  ...      0.8977             positive\n",
              "50811 2018-03-23 08:55:00+00:00   ['neutral']  ...      0.0000              neutral\n",
              "50812 2018-03-23 08:55:00+00:00  ['positive']  ...      0.9268             positive\n",
              "50813 2018-03-23 08:55:00+00:00  ['positive']  ...      0.4926             positive\n",
              "50814 2018-03-23 08:55:00+00:00  ['negative']  ...      0.0000              neutral\n",
              "50815 2018-03-23 08:55:02+00:00   ['neutral']  ...      0.0000              neutral\n",
              "50816 2018-03-23 08:55:02+00:00  ['positive']  ...      0.5859             positive\n",
              "50817 2018-03-23 08:55:02+00:00   ['neutral']  ...      0.3818             positive\n",
              "50818 2018-03-23 08:55:03+00:00  ['negative']  ...     -0.2263              neutral\n",
              "50819 2018-03-23 08:55:03+00:00   ['neutral']  ...      0.0000              neutral\n",
              "50820 2018-03-23 08:55:03+00:00   ['neutral']  ...      0.0000              neutral\n",
              "50821 2018-03-23 08:55:03+00:00  ['positive']  ...      0.6369             positive\n",
              "50822 2018-03-23 08:55:04+00:00  ['positive']  ...      0.6369             positive\n",
              "50823 2018-03-23 08:55:04+00:00  ['positive']  ...      0.0000              neutral\n",
              "50824 2018-03-23 08:55:04+00:00   ['neutral']  ...      0.0000              neutral\n",
              "50825 2018-03-23 08:55:04+00:00   ['neutral']  ...      0.0000              neutral\n",
              "50826 2018-03-23 08:55:05+00:00  ['positive']  ...      0.0000              neutral\n",
              "50827 2018-03-23 08:55:05+00:00   ['neutral']  ...      0.0000              neutral\n",
              "50828 2018-03-23 08:55:05+00:00   ['neutral']  ...      0.6145             positive\n",
              "50829 2018-03-23 08:55:06+00:00  ['positive']  ...      0.6588             positive\n",
              "50830 2018-03-23 08:55:06+00:00   ['neutral']  ...      0.7096             positive\n",
              "50831 2018-03-23 08:55:06+00:00   ['neutral']  ...      0.0000              neutral\n",
              "50832 2018-03-23 08:55:07+00:00  ['positive']  ...      0.4466             positive\n",
              "50833 2018-03-23 08:55:07+00:00   ['neutral']  ...     -0.6808             negative\n",
              "50834 2018-03-23 08:55:07+00:00   ['neutral']  ...      0.0000              neutral\n",
              "50835 2018-03-23 08:55:08+00:00  ['positive']  ...      0.4767             positive\n",
              "50836 2018-03-23 08:55:08+00:00   ['neutral']  ...     -0.2732              neutral\n",
              "50837 2018-03-23 08:55:09+00:00  ['negative']  ...      0.0000              neutral\n",
              "50838 2018-03-23 08:55:10+00:00   ['neutral']  ...      0.0000              neutral\n",
              "50839 2018-03-23 08:55:10+00:00   ['neutral']  ...      0.0000              neutral\n",
              "50840 2018-03-23 08:55:11+00:00   ['neutral']  ...      0.5848             positive\n",
              "50841 2018-03-23 08:55:11+00:00  ['positive']  ...      0.6588             positive\n",
              "50842 2018-03-23 08:55:11+00:00   ['neutral']  ...      0.6114             positive\n",
              "50843 2018-03-23 08:55:12+00:00   ['neutral']  ...      0.0000              neutral\n",
              "50844 2018-03-23 08:55:12+00:00   ['neutral']  ...      0.0000              neutral\n",
              "50845 2018-03-23 08:55:14+00:00   ['neutral']  ...      0.1779              neutral\n",
              "50846 2018-03-23 08:55:14+00:00   ['neutral']  ...      0.0000              neutral\n",
              "50847 2018-03-23 08:55:14+00:00  ['positive']  ...      0.8402             positive\n",
              "50848 2018-03-23 08:55:14+00:00   ['neutral']  ...     -0.3182              neutral\n",
              "50849 2018-03-23 08:55:15+00:00  ['negative']  ...      0.0000              neutral\n",
              "50850 2018-03-23 08:55:15+00:00  ['positive']  ...     -0.8225             negative\n",
              "50851 2018-03-23 08:55:15+00:00   ['neutral']  ...      0.0000              neutral\n",
              "50852 2018-03-23 08:55:15+00:00  ['positive']  ...      0.6369             positive\n",
              "50853 2018-03-23 08:55:16+00:00   ['neutral']  ...      0.6808             positive\n",
              "50854 2018-03-23 08:55:16+00:00  ['positive']  ...      0.6597             positive\n",
              "50855 2018-03-23 08:55:17+00:00  ['positive']  ...      0.5859             positive\n",
              "50856 2018-03-23 08:55:18+00:00   ['neutral']  ...      0.5848             positive\n",
              "50857 2018-03-23 08:55:19+00:00  ['positive']  ...      0.5106             positive\n",
              "50858 2018-03-23 08:55:19+00:00  ['positive']  ...      0.3400             positive\n",
              "\n",
              "[50 rows x 5 columns]"
            ]
          },
          "metadata": {
            "tags": []
          },
          "execution_count": 222
        }
      ]
    },
    {
      "cell_type": "markdown",
      "metadata": {
        "id": "nLqOkNw9-YpR",
        "colab_type": "text"
      },
      "source": [
        "# Load best performed model"
      ]
    },
    {
      "cell_type": "code",
      "metadata": {
        "id": "HmUm1rWc-O0K",
        "colab_type": "code",
        "colab": {}
      },
      "source": [
        "lstm_model = pickle.load(open(\"gru_model_v1.p\", \"rb\"))"
      ],
      "execution_count": 0,
      "outputs": []
    },
    {
      "cell_type": "code",
      "metadata": {
        "id": "81qd3MaL-Q-u",
        "colab_type": "code",
        "colab": {}
      },
      "source": [
        "prepr_df = pd.read_csv('/content/drive/My Drive/Colab Notebooks/cleanprep.csv',header=None)"
      ],
      "execution_count": 0,
      "outputs": []
    },
    {
      "cell_type": "code",
      "metadata": {
        "id": "Tb55bGADWIyj",
        "colab_type": "code",
        "colab": {}
      },
      "source": [
        "prepr_df.head()\n",
        "prepr_df.rename(columns={0:'timestamp',2:'text'},inplace=True)"
      ],
      "execution_count": 0,
      "outputs": []
    },
    {
      "cell_type": "code",
      "metadata": {
        "id": "DaaMCwEQW7GV",
        "colab_type": "code",
        "colab": {}
      },
      "source": [
        "prepr_df.drop(columns=[1,3,4],inplace=True)"
      ],
      "execution_count": 0,
      "outputs": []
    },
    {
      "cell_type": "code",
      "metadata": {
        "id": "nIVDTt6RXNqZ",
        "colab_type": "code",
        "outputId": "d8ef9c63-19e2-4ab3-b81f-367ddf553573",
        "colab": {
          "base_uri": "https://localhost:8080/",
          "height": 204
        }
      },
      "source": [
        "prepr_df.head()"
      ],
      "execution_count": 0,
      "outputs": [
        {
          "output_type": "execute_result",
          "data": {
            "text/html": [
              "<div>\n",
              "<style scoped>\n",
              "    .dataframe tbody tr th:only-of-type {\n",
              "        vertical-align: middle;\n",
              "    }\n",
              "\n",
              "    .dataframe tbody tr th {\n",
              "        vertical-align: top;\n",
              "    }\n",
              "\n",
              "    .dataframe thead th {\n",
              "        text-align: right;\n",
              "    }\n",
              "</style>\n",
              "<table border=\"1\" class=\"dataframe\">\n",
              "  <thead>\n",
              "    <tr style=\"text-align: right;\">\n",
              "      <th></th>\n",
              "      <th>timestamp</th>\n",
              "      <th>text</th>\n",
              "    </tr>\n",
              "  </thead>\n",
              "  <tbody>\n",
              "    <tr>\n",
              "      <th>0</th>\n",
              "      <td>2018-07-11 19:35:15.363270</td>\n",
              "      <td>b\"Next two weeks prob v boring (climb up to 9k...</td>\n",
              "    </tr>\n",
              "    <tr>\n",
              "      <th>1</th>\n",
              "      <td>2018-07-11 19:35:15.736769</td>\n",
              "      <td>b'@Miss_rinola But you\\xe2\\x80\\x99ve heard abo...</td>\n",
              "    </tr>\n",
              "    <tr>\n",
              "      <th>2</th>\n",
              "      <td>2018-07-11 19:35:15.744769</td>\n",
              "      <td>b'Duplicate skilled traders automatically with...</td>\n",
              "    </tr>\n",
              "    <tr>\n",
              "      <th>3</th>\n",
              "      <td>2018-07-11 19:35:15.867339</td>\n",
              "      <td>b'Project Manager - Technical - FinTech - Cent...</td>\n",
              "    </tr>\n",
              "    <tr>\n",
              "      <th>4</th>\n",
              "      <td>2018-07-11 19:35:16.021448</td>\n",
              "      <td>b'Coinbase App Downloads Drop, Crypto Hype Fad...</td>\n",
              "    </tr>\n",
              "  </tbody>\n",
              "</table>\n",
              "</div>"
            ],
            "text/plain": [
              "                    timestamp                                               text\n",
              "0  2018-07-11 19:35:15.363270  b\"Next two weeks prob v boring (climb up to 9k...\n",
              "1  2018-07-11 19:35:15.736769  b'@Miss_rinola But you\\xe2\\x80\\x99ve heard abo...\n",
              "2  2018-07-11 19:35:15.744769  b'Duplicate skilled traders automatically with...\n",
              "3  2018-07-11 19:35:15.867339  b'Project Manager - Technical - FinTech - Cent...\n",
              "4  2018-07-11 19:35:16.021448  b'Coinbase App Downloads Drop, Crypto Hype Fad..."
            ]
          },
          "metadata": {
            "tags": []
          },
          "execution_count": 220
        }
      ]
    },
    {
      "cell_type": "markdown",
      "metadata": {
        "id": "RN7i-MGo_Bae",
        "colab_type": "text"
      },
      "source": [
        "## Initialize the real time dataset\n",
        "\n"
      ]
    },
    {
      "cell_type": "code",
      "metadata": {
        "id": "RSjFRv3P_GoU",
        "colab_type": "code",
        "colab": {}
      },
      "source": [
        "prepr_df['clean_tweets'] = prepr_df['text'].apply(clean_text)\n",
        "prepr_df.drop(['text'],axis=1, inplace=True)"
      ],
      "execution_count": 0,
      "outputs": []
    },
    {
      "cell_type": "code",
      "metadata": {
        "id": "vXP3gPO8_MyL",
        "colab_type": "code",
        "colab": {}
      },
      "source": [
        "X_prepr = prepr_df[\"clean_tweets\"]"
      ],
      "execution_count": 0,
      "outputs": []
    },
    {
      "cell_type": "code",
      "metadata": {
        "id": "c6vTzu-H_TGv",
        "colab_type": "code",
        "colab": {}
      },
      "source": [
        "X_prepr = tokenizer.texts_to_sequences(X_prepr)\n",
        "X_prepr = sequence.pad_sequences(X_prepr , maxlen = max_words)"
      ],
      "execution_count": 0,
      "outputs": []
    },
    {
      "cell_type": "markdown",
      "metadata": {
        "id": "r3DMOjg9_fpT",
        "colab_type": "text"
      },
      "source": [
        "# Model prediction"
      ]
    },
    {
      "cell_type": "code",
      "metadata": {
        "id": "PQVncZwH_cTn",
        "colab_type": "code",
        "colab": {}
      },
      "source": [
        "y_prepr = model.predict_classes(X_prepr , batch_size = batch_size, verbose =0)\n",
        "prepr_df['sentiment'] = y_prepr"
      ],
      "execution_count": 0,
      "outputs": []
    },
    {
      "cell_type": "code",
      "metadata": {
        "id": "E22m1QYJ_sRP",
        "colab_type": "code",
        "outputId": "9023a828-996c-4bb3-f358-e9a7cc01cacc",
        "colab": {
          "base_uri": "https://localhost:8080/",
          "height": 419
        }
      },
      "source": [
        "prepr_df"
      ],
      "execution_count": 0,
      "outputs": [
        {
          "output_type": "execute_result",
          "data": {
            "text/html": [
              "<div>\n",
              "<style scoped>\n",
              "    .dataframe tbody tr th:only-of-type {\n",
              "        vertical-align: middle;\n",
              "    }\n",
              "\n",
              "    .dataframe tbody tr th {\n",
              "        vertical-align: top;\n",
              "    }\n",
              "\n",
              "    .dataframe thead th {\n",
              "        text-align: right;\n",
              "    }\n",
              "</style>\n",
              "<table border=\"1\" class=\"dataframe\">\n",
              "  <thead>\n",
              "    <tr style=\"text-align: right;\">\n",
              "      <th></th>\n",
              "      <th>Unnamed: 0</th>\n",
              "      <th>timestamp</th>\n",
              "      <th>clean_tweets</th>\n",
              "      <th>sentiment</th>\n",
              "    </tr>\n",
              "  </thead>\n",
              "  <tbody>\n",
              "    <tr>\n",
              "      <th>0</th>\n",
              "      <td>0</td>\n",
              "      <td>2016-06-25 23:59:52</td>\n",
              "      <td>Bitcoin: Pissed-off customers sue GAW Miners i...</td>\n",
              "      <td>2</td>\n",
              "    </tr>\n",
              "    <tr>\n",
              "      <th>1</th>\n",
              "      <td>1</td>\n",
              "      <td>2016-06-25 23:59:36</td>\n",
              "      <td>I'm not gone lie I be staring at pplwhat btc's...</td>\n",
              "      <td>1</td>\n",
              "    </tr>\n",
              "    <tr>\n",
              "      <th>2</th>\n",
              "      <td>2</td>\n",
              "      <td>2016-06-25 23:59:17</td>\n",
              "      <td>Did you miss Beyond Bitcoin Hangout? I CANNOT ...</td>\n",
              "      <td>1</td>\n",
              "    </tr>\n",
              "    <tr>\n",
              "      <th>3</th>\n",
              "      <td>3</td>\n",
              "      <td>2016-06-25 23:59:15</td>\n",
              "      <td>What are the merits and risks of investing in ...</td>\n",
              "      <td>1</td>\n",
              "    </tr>\n",
              "    <tr>\n",
              "      <th>4</th>\n",
              "      <td>4</td>\n",
              "      <td>2016-06-25 23:59:08</td>\n",
              "      <td>Hash Ocean #Bitcoin Cloud Mining №1 in the wor...</td>\n",
              "      <td>1</td>\n",
              "    </tr>\n",
              "    <tr>\n",
              "      <th>...</th>\n",
              "      <td>...</td>\n",
              "      <td>...</td>\n",
              "      <td>...</td>\n",
              "      <td>...</td>\n",
              "    </tr>\n",
              "    <tr>\n",
              "      <th>3294884</th>\n",
              "      <td>3707951</td>\n",
              "      <td>2019-01-16 10:57:11</td>\n",
              "      <td>What the #Bitcoin #Pizza is worth today! …</td>\n",
              "      <td>2</td>\n",
              "    </tr>\n",
              "    <tr>\n",
              "      <th>3294885</th>\n",
              "      <td>3707952</td>\n",
              "      <td>2019-01-16 10:57:11</td>\n",
              "      <td>Bankrupt Bitcoin Miner Giga Watt Forced to Cea...</td>\n",
              "      <td>1</td>\n",
              "    </tr>\n",
              "    <tr>\n",
              "      <th>3294886</th>\n",
              "      <td>3707953</td>\n",
              "      <td>2019-01-16 10:57:11</td>\n",
              "      <td>#crypto #bitcoin #blockchain …</td>\n",
              "      <td>1</td>\n",
              "    </tr>\n",
              "    <tr>\n",
              "      <th>3294887</th>\n",
              "      <td>3707957</td>\n",
              "      <td>2019-01-16 10:57:03</td>\n",
              "      <td>\"Bitcoin - A method of secure transactions bas...</td>\n",
              "      <td>2</td>\n",
              "    </tr>\n",
              "    <tr>\n",
              "      <th>3294888</th>\n",
              "      <td>3707958</td>\n",
              "      <td>2019-01-16 10:57:02</td>\n",
              "      <td>MARKET BRAZIL CC SHOP [ ] | transactions = 98 ...</td>\n",
              "      <td>1</td>\n",
              "    </tr>\n",
              "  </tbody>\n",
              "</table>\n",
              "<p>3294889 rows × 4 columns</p>\n",
              "</div>"
            ],
            "text/plain": [
              "         Unnamed: 0  ... sentiment\n",
              "0                 0  ...         2\n",
              "1                 1  ...         1\n",
              "2                 2  ...         1\n",
              "3                 3  ...         1\n",
              "4                 4  ...         1\n",
              "...             ...  ...       ...\n",
              "3294884     3707951  ...         2\n",
              "3294885     3707952  ...         1\n",
              "3294886     3707953  ...         1\n",
              "3294887     3707957  ...         2\n",
              "3294888     3707958  ...         1\n",
              "\n",
              "[3294889 rows x 4 columns]"
            ]
          },
          "metadata": {
            "tags": []
          },
          "execution_count": 120
        }
      ]
    },
    {
      "cell_type": "code",
      "metadata": {
        "id": "iz29JUXTCFO_",
        "colab_type": "code",
        "outputId": "977b2618-4682-4d09-993d-e19577536d59",
        "colab": {
          "base_uri": "https://localhost:8080/",
          "height": 347
        }
      },
      "source": [
        "sns.countplot(prepr_df['sentiment'])\n",
        "prepr_df['sentiment'].value_counts(normalize=True) * 100"
      ],
      "execution_count": 0,
      "outputs": [
        {
          "output_type": "execute_result",
          "data": {
            "text/plain": [
              "1    80.015472\n",
              "2    15.465164\n",
              "0     4.519363\n",
              "Name: sentiment, dtype: float64"
            ]
          },
          "metadata": {
            "tags": []
          },
          "execution_count": 121
        },
        {
          "output_type": "display_data",
          "data": {
            "image/png": "[encoded data removed]",
            "text/plain": [
              "<Figure size 432x288 with 1 Axes>"
            ]
          },
          "metadata": {
            "tags": []
          }
        }
      ]
    },
    {
      "cell_type": "code",
      "metadata": {
        "id": "dD_5loma3Ryt",
        "colab_type": "code",
        "colab": {}
      },
      "source": [
        "# pd.get_dummies(prepr_df['sentiment'])\n",
        "prepr_df = pd.concat([prepr_df,pd.get_dummies(prepr_df['sentiment'], prefix='sentiment')],axis=1)\n",
        "prepr_df.drop(['sentiment'],axis=1,inplace=True)"
      ],
      "execution_count": 0,
      "outputs": []
    },
    {
      "cell_type": "code",
      "metadata": {
        "id": "TC-0KPmXAeaS",
        "colab_type": "code",
        "outputId": "c7d9f98e-3d7b-4e02-892e-cfee442e673d",
        "colab": {
          "base_uri": "https://localhost:8080/",
          "height": 419
        }
      },
      "source": [
        "prepr_df.rename(columns={'sentiment_0':'negative','sentiment_1':'neutral','sentiment_2':'positive',})"
      ],
      "execution_count": 0,
      "outputs": [
        {
          "output_type": "execute_result",
          "data": {
            "text/html": [
              "<div>\n",
              "<style scoped>\n",
              "    .dataframe tbody tr th:only-of-type {\n",
              "        vertical-align: middle;\n",
              "    }\n",
              "\n",
              "    .dataframe tbody tr th {\n",
              "        vertical-align: top;\n",
              "    }\n",
              "\n",
              "    .dataframe thead th {\n",
              "        text-align: right;\n",
              "    }\n",
              "</style>\n",
              "<table border=\"1\" class=\"dataframe\">\n",
              "  <thead>\n",
              "    <tr style=\"text-align: right;\">\n",
              "      <th></th>\n",
              "      <th>timestamp</th>\n",
              "      <th>clean_tweets</th>\n",
              "      <th>negative</th>\n",
              "      <th>neutral</th>\n",
              "      <th>positive</th>\n",
              "    </tr>\n",
              "  </thead>\n",
              "  <tbody>\n",
              "    <tr>\n",
              "      <th>0</th>\n",
              "      <td>2016-06-25 23:59:52</td>\n",
              "      <td>Bitcoin: Pissed-off customers sue GAW Miners i...</td>\n",
              "      <td>0</td>\n",
              "      <td>0</td>\n",
              "      <td>1</td>\n",
              "    </tr>\n",
              "    <tr>\n",
              "      <th>1</th>\n",
              "      <td>2016-06-25 23:59:36</td>\n",
              "      <td>I'm not gone lie I be staring at pplwhat btc's...</td>\n",
              "      <td>0</td>\n",
              "      <td>1</td>\n",
              "      <td>0</td>\n",
              "    </tr>\n",
              "    <tr>\n",
              "      <th>2</th>\n",
              "      <td>2016-06-25 23:59:17</td>\n",
              "      <td>Did you miss Beyond Bitcoin Hangout? I CANNOT ...</td>\n",
              "      <td>0</td>\n",
              "      <td>1</td>\n",
              "      <td>0</td>\n",
              "    </tr>\n",
              "    <tr>\n",
              "      <th>3</th>\n",
              "      <td>2016-06-25 23:59:15</td>\n",
              "      <td>What are the merits and risks of investing in ...</td>\n",
              "      <td>0</td>\n",
              "      <td>1</td>\n",
              "      <td>0</td>\n",
              "    </tr>\n",
              "    <tr>\n",
              "      <th>4</th>\n",
              "      <td>2016-06-25 23:59:08</td>\n",
              "      <td>Hash Ocean #Bitcoin Cloud Mining №1 in the wor...</td>\n",
              "      <td>0</td>\n",
              "      <td>1</td>\n",
              "      <td>0</td>\n",
              "    </tr>\n",
              "    <tr>\n",
              "      <th>...</th>\n",
              "      <td>...</td>\n",
              "      <td>...</td>\n",
              "      <td>...</td>\n",
              "      <td>...</td>\n",
              "      <td>...</td>\n",
              "    </tr>\n",
              "    <tr>\n",
              "      <th>3294884</th>\n",
              "      <td>2019-01-16 10:57:11</td>\n",
              "      <td>What the #Bitcoin #Pizza is worth today! …</td>\n",
              "      <td>0</td>\n",
              "      <td>0</td>\n",
              "      <td>1</td>\n",
              "    </tr>\n",
              "    <tr>\n",
              "      <th>3294885</th>\n",
              "      <td>2019-01-16 10:57:11</td>\n",
              "      <td>Bankrupt Bitcoin Miner Giga Watt Forced to Cea...</td>\n",
              "      <td>0</td>\n",
              "      <td>1</td>\n",
              "      <td>0</td>\n",
              "    </tr>\n",
              "    <tr>\n",
              "      <th>3294886</th>\n",
              "      <td>2019-01-16 10:57:11</td>\n",
              "      <td>#crypto #bitcoin #blockchain …</td>\n",
              "      <td>0</td>\n",
              "      <td>1</td>\n",
              "      <td>0</td>\n",
              "    </tr>\n",
              "    <tr>\n",
              "      <th>3294887</th>\n",
              "      <td>2019-01-16 10:57:03</td>\n",
              "      <td>\"Bitcoin - A method of secure transactions bas...</td>\n",
              "      <td>0</td>\n",
              "      <td>0</td>\n",
              "      <td>1</td>\n",
              "    </tr>\n",
              "    <tr>\n",
              "      <th>3294888</th>\n",
              "      <td>2019-01-16 10:57:02</td>\n",
              "      <td>MARKET BRAZIL CC SHOP [ ] | transactions = 98 ...</td>\n",
              "      <td>0</td>\n",
              "      <td>1</td>\n",
              "      <td>0</td>\n",
              "    </tr>\n",
              "  </tbody>\n",
              "</table>\n",
              "<p>3294889 rows × 5 columns</p>\n",
              "</div>"
            ],
            "text/plain": [
              "                  timestamp  ... positive\n",
              "0       2016-06-25 23:59:52  ...        1\n",
              "1       2016-06-25 23:59:36  ...        0\n",
              "2       2016-06-25 23:59:17  ...        0\n",
              "3       2016-06-25 23:59:15  ...        0\n",
              "4       2016-06-25 23:59:08  ...        0\n",
              "...                     ...  ...      ...\n",
              "3294884 2019-01-16 10:57:11  ...        1\n",
              "3294885 2019-01-16 10:57:11  ...        0\n",
              "3294886 2019-01-16 10:57:11  ...        0\n",
              "3294887 2019-01-16 10:57:03  ...        1\n",
              "3294888 2019-01-16 10:57:02  ...        0\n",
              "\n",
              "[3294889 rows x 5 columns]"
            ]
          },
          "metadata": {
            "tags": []
          },
          "execution_count": 135
        }
      ]
    },
    {
      "cell_type": "code",
      "metadata": {
        "id": "cjIGbHxQ2R0_",
        "colab_type": "code",
        "colab": {}
      },
      "source": [
        "prepr_df.timestamp = pd.to_datetime(prepr_df.timestamp)\n"
      ],
      "execution_count": 0,
      "outputs": []
    },
    {
      "cell_type": "code",
      "metadata": {
        "id": "xsuLfqkF2jBg",
        "colab_type": "code",
        "outputId": "726ee22c-0d98-4aa0-9a05-87ab509c7c63",
        "colab": {
          "base_uri": "https://localhost:8080/",
          "height": 221
        }
      },
      "source": [
        "prepr_df.timestamp"
      ],
      "execution_count": 0,
      "outputs": [
        {
          "output_type": "execute_result",
          "data": {
            "text/plain": [
              "0         2016-06-25 23:59:52\n",
              "1         2016-06-25 23:59:36\n",
              "2         2016-06-25 23:59:17\n",
              "3         2016-06-25 23:59:15\n",
              "4         2016-06-25 23:59:08\n",
              "                  ...        \n",
              "3294884   2019-01-16 10:57:11\n",
              "3294885   2019-01-16 10:57:11\n",
              "3294886   2019-01-16 10:57:11\n",
              "3294887   2019-01-16 10:57:03\n",
              "3294888   2019-01-16 10:57:02\n",
              "Name: timestamp, Length: 3294889, dtype: datetime64[ns]"
            ]
          },
          "metadata": {
            "tags": []
          },
          "execution_count": 168
        }
      ]
    },
    {
      "cell_type": "code",
      "metadata": {
        "id": "vOEsktdUKtIi",
        "colab_type": "code",
        "colab": {}
      },
      "source": [
        "prepr_df = prepr_df.sort_values(by='timestamp')"
      ],
      "execution_count": 0,
      "outputs": []
    },
    {
      "cell_type": "code",
      "metadata": {
        "id": "HNPANA3hK4R4",
        "colab_type": "code",
        "colab": {}
      },
      "source": [
        "prepr_df=prepr_df[prepr_df.clean_tweets!='nan']\n"
      ],
      "execution_count": 0,
      "outputs": []
    },
    {
      "cell_type": "code",
      "metadata": {
        "id": "MhHVjBShLI3J",
        "colab_type": "code",
        "colab": {}
      },
      "source": [
        "prepr_df.reset_index(drop=True,inplace=True)"
      ],
      "execution_count": 0,
      "outputs": []
    },
    {
      "cell_type": "code",
      "metadata": {
        "id": "hw9jbyUnMtxv",
        "colab_type": "code",
        "outputId": "9236d568-10cd-4246-aeba-5881de64edcf",
        "colab": {
          "base_uri": "https://localhost:8080/",
          "height": 419
        }
      },
      "source": [
        "prepr_df"
      ],
      "execution_count": 0,
      "outputs": [
        {
          "output_type": "execute_result",
          "data": {
            "text/html": [
              "<div>\n",
              "<style scoped>\n",
              "    .dataframe tbody tr th:only-of-type {\n",
              "        vertical-align: middle;\n",
              "    }\n",
              "\n",
              "    .dataframe tbody tr th {\n",
              "        vertical-align: top;\n",
              "    }\n",
              "\n",
              "    .dataframe thead th {\n",
              "        text-align: right;\n",
              "    }\n",
              "</style>\n",
              "<table border=\"1\" class=\"dataframe\">\n",
              "  <thead>\n",
              "    <tr style=\"text-align: right;\">\n",
              "      <th></th>\n",
              "      <th>timestamp</th>\n",
              "      <th>clean_tweets</th>\n",
              "      <th>sentiment_0</th>\n",
              "      <th>sentiment_1</th>\n",
              "      <th>sentiment_2</th>\n",
              "    </tr>\n",
              "  </thead>\n",
              "  <tbody>\n",
              "    <tr>\n",
              "      <th>0</th>\n",
              "      <td>2016-02-26 22:03:17</td>\n",
              "      <td>My monster has 75 hp left! I've earned a total...</td>\n",
              "      <td>0</td>\n",
              "      <td>1</td>\n",
              "      <td>0</td>\n",
              "    </tr>\n",
              "    <tr>\n",
              "      <th>1</th>\n",
              "      <td>2016-02-26 22:03:19</td>\n",
              "      <td>By joining our forves, TOGETHER we can change ...</td>\n",
              "      <td>0</td>\n",
              "      <td>1</td>\n",
              "      <td>0</td>\n",
              "    </tr>\n",
              "    <tr>\n",
              "      <th>2</th>\n",
              "      <td>2016-02-26 22:03:28</td>\n",
              "      <td>\"using bitcoin\" is the new \"on the internet\"</td>\n",
              "      <td>0</td>\n",
              "      <td>0</td>\n",
              "      <td>1</td>\n",
              "    </tr>\n",
              "    <tr>\n",
              "      <th>3</th>\n",
              "      <td>2016-02-26 22:03:29</td>\n",
              "      <td>aims at maintaining competitive exchange r...</td>\n",
              "      <td>0</td>\n",
              "      <td>0</td>\n",
              "      <td>1</td>\n",
              "    </tr>\n",
              "    <tr>\n",
              "      <th>4</th>\n",
              "      <td>2016-02-26 22:03:40</td>\n",
              "      <td>First successful Zero-Knowledge Contingent Pay...</td>\n",
              "      <td>0</td>\n",
              "      <td>0</td>\n",
              "      <td>1</td>\n",
              "    </tr>\n",
              "    <tr>\n",
              "      <th>...</th>\n",
              "      <td>...</td>\n",
              "      <td>...</td>\n",
              "      <td>...</td>\n",
              "      <td>...</td>\n",
              "      <td>...</td>\n",
              "    </tr>\n",
              "    <tr>\n",
              "      <th>2596583</th>\n",
              "      <td>2019-03-28 23:59:41</td>\n",
              "      <td>#BITCOIN #TWITTER sentiment analysis: Today PO...</td>\n",
              "      <td>1</td>\n",
              "      <td>0</td>\n",
              "      <td>0</td>\n",
              "    </tr>\n",
              "    <tr>\n",
              "      <th>2596584</th>\n",
              "      <td>2019-03-28 23:59:43</td>\n",
              "      <td>Hey, check this out: [Bitcoin and Ethereum Hit...</td>\n",
              "      <td>0</td>\n",
              "      <td>1</td>\n",
              "      <td>0</td>\n",
              "    </tr>\n",
              "    <tr>\n",
              "      <th>2596585</th>\n",
              "      <td>2019-03-28 23:59:52</td>\n",
              "      <td>London Metal Exchange Supports Plan for Blockc...</td>\n",
              "      <td>0</td>\n",
              "      <td>1</td>\n",
              "      <td>0</td>\n",
              "    </tr>\n",
              "    <tr>\n",
              "      <th>2596586</th>\n",
              "      <td>2019-03-28 23:59:53</td>\n",
              "      <td>You put a lot of thought into this tweet.</td>\n",
              "      <td>0</td>\n",
              "      <td>1</td>\n",
              "      <td>0</td>\n",
              "    </tr>\n",
              "    <tr>\n",
              "      <th>2596587</th>\n",
              "      <td>2019-03-28 23:59:56</td>\n",
              "      <td>1 BTC is \\n INR   279,433 or\\n USD   4,039 or\\...</td>\n",
              "      <td>0</td>\n",
              "      <td>1</td>\n",
              "      <td>0</td>\n",
              "    </tr>\n",
              "  </tbody>\n",
              "</table>\n",
              "<p>2596588 rows × 5 columns</p>\n",
              "</div>"
            ],
            "text/plain": [
              "                  timestamp  ... sentiment_2\n",
              "0       2016-02-26 22:03:17  ...           0\n",
              "1       2016-02-26 22:03:19  ...           0\n",
              "2       2016-02-26 22:03:28  ...           1\n",
              "3       2016-02-26 22:03:29  ...           1\n",
              "4       2016-02-26 22:03:40  ...           1\n",
              "...                     ...  ...         ...\n",
              "2596583 2019-03-28 23:59:41  ...           0\n",
              "2596584 2019-03-28 23:59:43  ...           0\n",
              "2596585 2019-03-28 23:59:52  ...           0\n",
              "2596586 2019-03-28 23:59:53  ...           0\n",
              "2596587 2019-03-28 23:59:56  ...           0\n",
              "\n",
              "[2596588 rows x 5 columns]"
            ]
          },
          "metadata": {
            "tags": []
          },
          "execution_count": 192
        }
      ]
    },
    {
      "cell_type": "code",
      "metadata": {
        "id": "cAtcumWOCrzZ",
        "colab_type": "code",
        "colab": {}
      },
      "source": [
        "new_df = prepr_df.groupby(prepr_df.timestamp.dt.to_period('Min')).sum()\n"
      ],
      "execution_count": 0,
      "outputs": []
    },
    {
      "cell_type": "code",
      "metadata": {
        "id": "qYEgPUy-B3IB",
        "colab_type": "code",
        "colab": {}
      },
      "source": [
        "new_df.reset_index(inplace=True)"
      ],
      "execution_count": 0,
      "outputs": []
    },
    {
      "cell_type": "code",
      "metadata": {
        "id": "clgsusaOCHZD",
        "colab_type": "code",
        "outputId": "b6fd4a49-6220-4386-cc49-d215979467e9",
        "colab": {
          "base_uri": "https://localhost:8080/",
          "height": 419
        }
      },
      "source": [
        "new_df.timestamp"
      ],
      "execution_count": 0,
      "outputs": [
        {
          "output_type": "execute_result",
          "data": {
            "text/html": [
              "<div>\n",
              "<style scoped>\n",
              "    .dataframe tbody tr th:only-of-type {\n",
              "        vertical-align: middle;\n",
              "    }\n",
              "\n",
              "    .dataframe tbody tr th {\n",
              "        vertical-align: top;\n",
              "    }\n",
              "\n",
              "    .dataframe thead th {\n",
              "        text-align: right;\n",
              "    }\n",
              "</style>\n",
              "<table border=\"1\" class=\"dataframe\">\n",
              "  <thead>\n",
              "    <tr style=\"text-align: right;\">\n",
              "      <th></th>\n",
              "      <th>timestamp</th>\n",
              "      <th>sentiment_0</th>\n",
              "      <th>sentiment_1</th>\n",
              "      <th>sentiment_2</th>\n",
              "    </tr>\n",
              "  </thead>\n",
              "  <tbody>\n",
              "    <tr>\n",
              "      <th>0</th>\n",
              "      <td>2016-02-26 22:03</td>\n",
              "      <td>0.0</td>\n",
              "      <td>7.0</td>\n",
              "      <td>4.0</td>\n",
              "    </tr>\n",
              "    <tr>\n",
              "      <th>1</th>\n",
              "      <td>2016-02-26 22:04</td>\n",
              "      <td>0.0</td>\n",
              "      <td>38.0</td>\n",
              "      <td>0.0</td>\n",
              "    </tr>\n",
              "    <tr>\n",
              "      <th>2</th>\n",
              "      <td>2016-02-26 22:05</td>\n",
              "      <td>0.0</td>\n",
              "      <td>31.0</td>\n",
              "      <td>2.0</td>\n",
              "    </tr>\n",
              "    <tr>\n",
              "      <th>3</th>\n",
              "      <td>2016-02-26 22:06</td>\n",
              "      <td>2.0</td>\n",
              "      <td>32.0</td>\n",
              "      <td>1.0</td>\n",
              "    </tr>\n",
              "    <tr>\n",
              "      <th>4</th>\n",
              "      <td>2016-02-26 22:07</td>\n",
              "      <td>2.0</td>\n",
              "      <td>5.0</td>\n",
              "      <td>13.0</td>\n",
              "    </tr>\n",
              "    <tr>\n",
              "      <th>...</th>\n",
              "      <td>...</td>\n",
              "      <td>...</td>\n",
              "      <td>...</td>\n",
              "      <td>...</td>\n",
              "    </tr>\n",
              "    <tr>\n",
              "      <th>58206</th>\n",
              "      <td>2019-03-28 23:55</td>\n",
              "      <td>2.0</td>\n",
              "      <td>5.0</td>\n",
              "      <td>5.0</td>\n",
              "    </tr>\n",
              "    <tr>\n",
              "      <th>58207</th>\n",
              "      <td>2019-03-28 23:56</td>\n",
              "      <td>3.0</td>\n",
              "      <td>8.0</td>\n",
              "      <td>7.0</td>\n",
              "    </tr>\n",
              "    <tr>\n",
              "      <th>58208</th>\n",
              "      <td>2019-03-28 23:57</td>\n",
              "      <td>0.0</td>\n",
              "      <td>11.0</td>\n",
              "      <td>6.0</td>\n",
              "    </tr>\n",
              "    <tr>\n",
              "      <th>58209</th>\n",
              "      <td>2019-03-28 23:58</td>\n",
              "      <td>3.0</td>\n",
              "      <td>12.0</td>\n",
              "      <td>4.0</td>\n",
              "    </tr>\n",
              "    <tr>\n",
              "      <th>58210</th>\n",
              "      <td>2019-03-28 23:59</td>\n",
              "      <td>1.0</td>\n",
              "      <td>14.0</td>\n",
              "      <td>8.0</td>\n",
              "    </tr>\n",
              "  </tbody>\n",
              "</table>\n",
              "<p>58211 rows × 4 columns</p>\n",
              "</div>"
            ],
            "text/plain": [
              "              timestamp  sentiment_0  sentiment_1  sentiment_2\n",
              "0      2016-02-26 22:03          0.0          7.0          4.0\n",
              "1      2016-02-26 22:04          0.0         38.0          0.0\n",
              "2      2016-02-26 22:05          0.0         31.0          2.0\n",
              "3      2016-02-26 22:06          2.0         32.0          1.0\n",
              "4      2016-02-26 22:07          2.0          5.0         13.0\n",
              "...                 ...          ...          ...          ...\n",
              "58206  2019-03-28 23:55          2.0          5.0          5.0\n",
              "58207  2019-03-28 23:56          3.0          8.0          7.0\n",
              "58208  2019-03-28 23:57          0.0         11.0          6.0\n",
              "58209  2019-03-28 23:58          3.0         12.0          4.0\n",
              "58210  2019-03-28 23:59          1.0         14.0          8.0\n",
              "\n",
              "[58211 rows x 4 columns]"
            ]
          },
          "metadata": {
            "tags": []
          },
          "execution_count": 195
        }
      ]
    },
    {
      "cell_type": "code",
      "metadata": {
        "id": "eAvUvgGhCJyy",
        "colab_type": "code",
        "outputId": "36f224ee-114b-48f4-9e69-77aa07a6f5e9",
        "colab": {
          "base_uri": "https://localhost:8080/",
          "height": 34
        }
      },
      "source": [
        "new_df.timestamp[58111]"
      ],
      "execution_count": 0,
      "outputs": [
        {
          "output_type": "execute_result",
          "data": {
            "text/plain": [
              "Period('2019-01-27 23:59', 'T')"
            ]
          },
          "metadata": {
            "tags": []
          },
          "execution_count": 211
        }
      ]
    },
    {
      "cell_type": "code",
      "metadata": {
        "id": "aiygpCE0HcvV",
        "colab_type": "code",
        "colab": {}
      },
      "source": [
        ""
      ],
      "execution_count": 0,
      "outputs": []
    }
  ]
}